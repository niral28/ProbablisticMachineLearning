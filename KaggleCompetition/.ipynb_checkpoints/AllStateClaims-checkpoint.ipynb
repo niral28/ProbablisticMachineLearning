{
 "cells": [
  {
   "cell_type": "code",
   "execution_count": 16,
   "metadata": {
    "collapsed": true
   },
   "outputs": [],
   "source": [
    "import pandas as pd\n",
    "import numpy as np\n",
    "import matplotlib.pyplot as plt\n",
    "import seaborn as sns\n",
    "%matplotlib inline"
   ]
  },
  {
   "cell_type": "code",
   "execution_count": 33,
   "metadata": {
    "collapsed": false
   },
   "outputs": [],
   "source": [
    "df_train = pd.read_csv('pml_train.csv')"
   ]
  },
  {
   "cell_type": "code",
   "execution_count": 118,
   "metadata": {
    "collapsed": true
   },
   "outputs": [],
   "source": [
    "df_test = pd.read_csv('pml_test_features.csv')"
   ]
  },
  {
   "cell_type": "code",
   "execution_count": 34,
   "metadata": {
    "collapsed": false
   },
   "outputs": [
    {
     "data": {
      "text/html": [
       "<div>\n",
       "<style scoped>\n",
       "    .dataframe tbody tr th:only-of-type {\n",
       "        vertical-align: middle;\n",
       "    }\n",
       "\n",
       "    .dataframe tbody tr th {\n",
       "        vertical-align: top;\n",
       "    }\n",
       "\n",
       "    .dataframe thead th {\n",
       "        text-align: right;\n",
       "    }\n",
       "</style>\n",
       "<table border=\"1\" class=\"dataframe\">\n",
       "  <thead>\n",
       "    <tr style=\"text-align: right;\">\n",
       "      <th></th>\n",
       "      <th>id</th>\n",
       "      <th>cat1</th>\n",
       "      <th>cat2</th>\n",
       "      <th>cat3</th>\n",
       "      <th>cat4</th>\n",
       "      <th>cat5</th>\n",
       "      <th>cat6</th>\n",
       "      <th>cat7</th>\n",
       "      <th>cat8</th>\n",
       "      <th>cat9</th>\n",
       "      <th>...</th>\n",
       "      <th>cont6</th>\n",
       "      <th>cont7</th>\n",
       "      <th>cont8</th>\n",
       "      <th>cont9</th>\n",
       "      <th>cont10</th>\n",
       "      <th>cont11</th>\n",
       "      <th>cont12</th>\n",
       "      <th>cont13</th>\n",
       "      <th>cont14</th>\n",
       "      <th>loss</th>\n",
       "    </tr>\n",
       "  </thead>\n",
       "  <tbody>\n",
       "    <tr>\n",
       "      <th>0</th>\n",
       "      <td>0</td>\n",
       "      <td>A</td>\n",
       "      <td>A</td>\n",
       "      <td>A</td>\n",
       "      <td>A</td>\n",
       "      <td>B</td>\n",
       "      <td>A</td>\n",
       "      <td>A</td>\n",
       "      <td>A</td>\n",
       "      <td>A</td>\n",
       "      <td>...</td>\n",
       "      <td>0.669748</td>\n",
       "      <td>0.515940</td>\n",
       "      <td>0.55421</td>\n",
       "      <td>0.53774</td>\n",
       "      <td>0.47225</td>\n",
       "      <td>0.492200</td>\n",
       "      <td>0.481306</td>\n",
       "      <td>0.756454</td>\n",
       "      <td>0.344502</td>\n",
       "      <td>2152.80</td>\n",
       "    </tr>\n",
       "    <tr>\n",
       "      <th>1</th>\n",
       "      <td>1</td>\n",
       "      <td>B</td>\n",
       "      <td>A</td>\n",
       "      <td>A</td>\n",
       "      <td>A</td>\n",
       "      <td>A</td>\n",
       "      <td>B</td>\n",
       "      <td>A</td>\n",
       "      <td>A</td>\n",
       "      <td>A</td>\n",
       "      <td>...</td>\n",
       "      <td>0.484775</td>\n",
       "      <td>0.698278</td>\n",
       "      <td>0.35533</td>\n",
       "      <td>0.40657</td>\n",
       "      <td>0.40666</td>\n",
       "      <td>0.468839</td>\n",
       "      <td>0.458493</td>\n",
       "      <td>0.304350</td>\n",
       "      <td>0.470455</td>\n",
       "      <td>1019.89</td>\n",
       "    </tr>\n",
       "    <tr>\n",
       "      <th>2</th>\n",
       "      <td>2</td>\n",
       "      <td>A</td>\n",
       "      <td>A</td>\n",
       "      <td>A</td>\n",
       "      <td>B</td>\n",
       "      <td>A</td>\n",
       "      <td>A</td>\n",
       "      <td>A</td>\n",
       "      <td>A</td>\n",
       "      <td>A</td>\n",
       "      <td>...</td>\n",
       "      <td>0.350956</td>\n",
       "      <td>0.363768</td>\n",
       "      <td>0.58354</td>\n",
       "      <td>0.44352</td>\n",
       "      <td>0.39599</td>\n",
       "      <td>0.341813</td>\n",
       "      <td>0.352251</td>\n",
       "      <td>0.339244</td>\n",
       "      <td>0.283969</td>\n",
       "      <td>4477.83</td>\n",
       "    </tr>\n",
       "    <tr>\n",
       "      <th>3</th>\n",
       "      <td>3</td>\n",
       "      <td>B</td>\n",
       "      <td>A</td>\n",
       "      <td>A</td>\n",
       "      <td>A</td>\n",
       "      <td>A</td>\n",
       "      <td>B</td>\n",
       "      <td>A</td>\n",
       "      <td>A</td>\n",
       "      <td>A</td>\n",
       "      <td>...</td>\n",
       "      <td>0.748243</td>\n",
       "      <td>0.538694</td>\n",
       "      <td>0.54829</td>\n",
       "      <td>0.50420</td>\n",
       "      <td>0.51111</td>\n",
       "      <td>0.711942</td>\n",
       "      <td>0.698722</td>\n",
       "      <td>0.709578</td>\n",
       "      <td>0.776114</td>\n",
       "      <td>907.11</td>\n",
       "    </tr>\n",
       "    <tr>\n",
       "      <th>4</th>\n",
       "      <td>4</td>\n",
       "      <td>A</td>\n",
       "      <td>B</td>\n",
       "      <td>A</td>\n",
       "      <td>A</td>\n",
       "      <td>A</td>\n",
       "      <td>A</td>\n",
       "      <td>A</td>\n",
       "      <td>A</td>\n",
       "      <td>B</td>\n",
       "      <td>...</td>\n",
       "      <td>0.321058</td>\n",
       "      <td>0.326430</td>\n",
       "      <td>0.31280</td>\n",
       "      <td>0.39648</td>\n",
       "      <td>0.38016</td>\n",
       "      <td>0.245410</td>\n",
       "      <td>0.241676</td>\n",
       "      <td>0.261150</td>\n",
       "      <td>0.342082</td>\n",
       "      <td>974.62</td>\n",
       "    </tr>\n",
       "  </tbody>\n",
       "</table>\n",
       "<p>5 rows × 132 columns</p>\n",
       "</div>"
      ],
      "text/plain": [
       "   id cat1 cat2 cat3 cat4 cat5 cat6 cat7 cat8 cat9   ...        cont6  \\\n",
       "0   0    A    A    A    A    B    A    A    A    A   ...     0.669748   \n",
       "1   1    B    A    A    A    A    B    A    A    A   ...     0.484775   \n",
       "2   2    A    A    A    B    A    A    A    A    A   ...     0.350956   \n",
       "3   3    B    A    A    A    A    B    A    A    A   ...     0.748243   \n",
       "4   4    A    B    A    A    A    A    A    A    B   ...     0.321058   \n",
       "\n",
       "      cont7    cont8    cont9   cont10    cont11    cont12    cont13  \\\n",
       "0  0.515940  0.55421  0.53774  0.47225  0.492200  0.481306  0.756454   \n",
       "1  0.698278  0.35533  0.40657  0.40666  0.468839  0.458493  0.304350   \n",
       "2  0.363768  0.58354  0.44352  0.39599  0.341813  0.352251  0.339244   \n",
       "3  0.538694  0.54829  0.50420  0.51111  0.711942  0.698722  0.709578   \n",
       "4  0.326430  0.31280  0.39648  0.38016  0.245410  0.241676  0.261150   \n",
       "\n",
       "     cont14     loss  \n",
       "0  0.344502  2152.80  \n",
       "1  0.470455  1019.89  \n",
       "2  0.283969  4477.83  \n",
       "3  0.776114   907.11  \n",
       "4  0.342082   974.62  \n",
       "\n",
       "[5 rows x 132 columns]"
      ]
     },
     "execution_count": 34,
     "metadata": {},
     "output_type": "execute_result"
    }
   ],
   "source": [
    "df_train.head()"
   ]
  },
  {
   "cell_type": "code",
   "execution_count": 35,
   "metadata": {
    "collapsed": false
   },
   "outputs": [
    {
     "data": {
      "text/html": [
       "<div>\n",
       "<style scoped>\n",
       "    .dataframe tbody tr th:only-of-type {\n",
       "        vertical-align: middle;\n",
       "    }\n",
       "\n",
       "    .dataframe tbody tr th {\n",
       "        vertical-align: top;\n",
       "    }\n",
       "\n",
       "    .dataframe thead th {\n",
       "        text-align: right;\n",
       "    }\n",
       "</style>\n",
       "<table border=\"1\" class=\"dataframe\">\n",
       "  <thead>\n",
       "    <tr style=\"text-align: right;\">\n",
       "      <th></th>\n",
       "      <th>id</th>\n",
       "      <th>cont1</th>\n",
       "      <th>cont2</th>\n",
       "      <th>cont3</th>\n",
       "      <th>cont4</th>\n",
       "      <th>cont5</th>\n",
       "      <th>cont6</th>\n",
       "      <th>cont7</th>\n",
       "      <th>cont8</th>\n",
       "      <th>cont9</th>\n",
       "      <th>cont10</th>\n",
       "      <th>cont11</th>\n",
       "      <th>cont12</th>\n",
       "      <th>cont13</th>\n",
       "      <th>cont14</th>\n",
       "      <th>loss</th>\n",
       "    </tr>\n",
       "  </thead>\n",
       "  <tbody>\n",
       "    <tr>\n",
       "      <th>count</th>\n",
       "      <td>131822.00000</td>\n",
       "      <td>131822.000000</td>\n",
       "      <td>131822.000000</td>\n",
       "      <td>131822.000000</td>\n",
       "      <td>131822.000000</td>\n",
       "      <td>131822.000000</td>\n",
       "      <td>131822.000000</td>\n",
       "      <td>131822.000000</td>\n",
       "      <td>131822.000000</td>\n",
       "      <td>131822.00000</td>\n",
       "      <td>131822.000000</td>\n",
       "      <td>131822.000000</td>\n",
       "      <td>131822.000000</td>\n",
       "      <td>131822.000000</td>\n",
       "      <td>131822.000000</td>\n",
       "      <td>131822.000000</td>\n",
       "    </tr>\n",
       "    <tr>\n",
       "      <th>mean</th>\n",
       "      <td>65910.50000</td>\n",
       "      <td>0.493342</td>\n",
       "      <td>0.507205</td>\n",
       "      <td>0.499348</td>\n",
       "      <td>0.491129</td>\n",
       "      <td>0.486648</td>\n",
       "      <td>0.490494</td>\n",
       "      <td>0.485201</td>\n",
       "      <td>0.486195</td>\n",
       "      <td>0.48512</td>\n",
       "      <td>0.497715</td>\n",
       "      <td>0.493509</td>\n",
       "      <td>0.493151</td>\n",
       "      <td>0.492624</td>\n",
       "      <td>0.495778</td>\n",
       "      <td>3039.973828</td>\n",
       "    </tr>\n",
       "    <tr>\n",
       "      <th>std</th>\n",
       "      <td>38053.87793</td>\n",
       "      <td>0.187592</td>\n",
       "      <td>0.207240</td>\n",
       "      <td>0.202093</td>\n",
       "      <td>0.211094</td>\n",
       "      <td>0.208703</td>\n",
       "      <td>0.205043</td>\n",
       "      <td>0.178781</td>\n",
       "      <td>0.199229</td>\n",
       "      <td>0.18146</td>\n",
       "      <td>0.185664</td>\n",
       "      <td>0.209614</td>\n",
       "      <td>0.209308</td>\n",
       "      <td>0.212643</td>\n",
       "      <td>0.222450</td>\n",
       "      <td>2913.957535</td>\n",
       "    </tr>\n",
       "    <tr>\n",
       "      <th>min</th>\n",
       "      <td>0.00000</td>\n",
       "      <td>0.000016</td>\n",
       "      <td>0.001149</td>\n",
       "      <td>0.002634</td>\n",
       "      <td>0.176921</td>\n",
       "      <td>0.281143</td>\n",
       "      <td>0.012683</td>\n",
       "      <td>0.069503</td>\n",
       "      <td>0.236880</td>\n",
       "      <td>0.00008</td>\n",
       "      <td>0.000000</td>\n",
       "      <td>0.035321</td>\n",
       "      <td>0.036232</td>\n",
       "      <td>0.000228</td>\n",
       "      <td>0.180268</td>\n",
       "      <td>5.250000</td>\n",
       "    </tr>\n",
       "    <tr>\n",
       "      <th>25%</th>\n",
       "      <td>32955.25000</td>\n",
       "      <td>0.344779</td>\n",
       "      <td>0.358319</td>\n",
       "      <td>0.336963</td>\n",
       "      <td>0.327354</td>\n",
       "      <td>0.281143</td>\n",
       "      <td>0.335056</td>\n",
       "      <td>0.350378</td>\n",
       "      <td>0.312800</td>\n",
       "      <td>0.35897</td>\n",
       "      <td>0.364580</td>\n",
       "      <td>0.310961</td>\n",
       "      <td>0.312482</td>\n",
       "      <td>0.315758</td>\n",
       "      <td>0.294752</td>\n",
       "      <td>1204.890000</td>\n",
       "    </tr>\n",
       "    <tr>\n",
       "      <th>50%</th>\n",
       "      <td>65910.50000</td>\n",
       "      <td>0.475784</td>\n",
       "      <td>0.555782</td>\n",
       "      <td>0.527991</td>\n",
       "      <td>0.452887</td>\n",
       "      <td>0.422268</td>\n",
       "      <td>0.439786</td>\n",
       "      <td>0.438480</td>\n",
       "      <td>0.441060</td>\n",
       "      <td>0.43731</td>\n",
       "      <td>0.461190</td>\n",
       "      <td>0.457203</td>\n",
       "      <td>0.462286</td>\n",
       "      <td>0.363547</td>\n",
       "      <td>0.407411</td>\n",
       "      <td>2116.585000</td>\n",
       "    </tr>\n",
       "    <tr>\n",
       "      <th>75%</th>\n",
       "      <td>98865.75000</td>\n",
       "      <td>0.623912</td>\n",
       "      <td>0.681761</td>\n",
       "      <td>0.634224</td>\n",
       "      <td>0.652072</td>\n",
       "      <td>0.635304</td>\n",
       "      <td>0.653958</td>\n",
       "      <td>0.591284</td>\n",
       "      <td>0.623580</td>\n",
       "      <td>0.55855</td>\n",
       "      <td>0.614590</td>\n",
       "      <td>0.678924</td>\n",
       "      <td>0.675759</td>\n",
       "      <td>0.689974</td>\n",
       "      <td>0.724610</td>\n",
       "      <td>3865.105000</td>\n",
       "    </tr>\n",
       "    <tr>\n",
       "      <th>max</th>\n",
       "      <td>131821.00000</td>\n",
       "      <td>0.984975</td>\n",
       "      <td>0.862654</td>\n",
       "      <td>0.944251</td>\n",
       "      <td>0.952482</td>\n",
       "      <td>0.983674</td>\n",
       "      <td>0.997162</td>\n",
       "      <td>1.000000</td>\n",
       "      <td>0.980200</td>\n",
       "      <td>0.99540</td>\n",
       "      <td>0.994980</td>\n",
       "      <td>0.998742</td>\n",
       "      <td>0.998484</td>\n",
       "      <td>0.988494</td>\n",
       "      <td>0.844844</td>\n",
       "      <td>121012.250000</td>\n",
       "    </tr>\n",
       "  </tbody>\n",
       "</table>\n",
       "</div>"
      ],
      "text/plain": [
       "                 id          cont1          cont2          cont3  \\\n",
       "count  131822.00000  131822.000000  131822.000000  131822.000000   \n",
       "mean    65910.50000       0.493342       0.507205       0.499348   \n",
       "std     38053.87793       0.187592       0.207240       0.202093   \n",
       "min         0.00000       0.000016       0.001149       0.002634   \n",
       "25%     32955.25000       0.344779       0.358319       0.336963   \n",
       "50%     65910.50000       0.475784       0.555782       0.527991   \n",
       "75%     98865.75000       0.623912       0.681761       0.634224   \n",
       "max    131821.00000       0.984975       0.862654       0.944251   \n",
       "\n",
       "               cont4          cont5          cont6          cont7  \\\n",
       "count  131822.000000  131822.000000  131822.000000  131822.000000   \n",
       "mean        0.491129       0.486648       0.490494       0.485201   \n",
       "std         0.211094       0.208703       0.205043       0.178781   \n",
       "min         0.176921       0.281143       0.012683       0.069503   \n",
       "25%         0.327354       0.281143       0.335056       0.350378   \n",
       "50%         0.452887       0.422268       0.439786       0.438480   \n",
       "75%         0.652072       0.635304       0.653958       0.591284   \n",
       "max         0.952482       0.983674       0.997162       1.000000   \n",
       "\n",
       "               cont8         cont9         cont10         cont11  \\\n",
       "count  131822.000000  131822.00000  131822.000000  131822.000000   \n",
       "mean        0.486195       0.48512       0.497715       0.493509   \n",
       "std         0.199229       0.18146       0.185664       0.209614   \n",
       "min         0.236880       0.00008       0.000000       0.035321   \n",
       "25%         0.312800       0.35897       0.364580       0.310961   \n",
       "50%         0.441060       0.43731       0.461190       0.457203   \n",
       "75%         0.623580       0.55855       0.614590       0.678924   \n",
       "max         0.980200       0.99540       0.994980       0.998742   \n",
       "\n",
       "              cont12         cont13         cont14           loss  \n",
       "count  131822.000000  131822.000000  131822.000000  131822.000000  \n",
       "mean        0.493151       0.492624       0.495778    3039.973828  \n",
       "std         0.209308       0.212643       0.222450    2913.957535  \n",
       "min         0.036232       0.000228       0.180268       5.250000  \n",
       "25%         0.312482       0.315758       0.294752    1204.890000  \n",
       "50%         0.462286       0.363547       0.407411    2116.585000  \n",
       "75%         0.675759       0.689974       0.724610    3865.105000  \n",
       "max         0.998484       0.988494       0.844844  121012.250000  "
      ]
     },
     "execution_count": 35,
     "metadata": {},
     "output_type": "execute_result"
    }
   ],
   "source": [
    "df_train.describe()"
   ]
  },
  {
   "cell_type": "code",
   "execution_count": 36,
   "metadata": {
    "collapsed": false
   },
   "outputs": [],
   "source": [
    "cont_features = []\n",
    "cat_features = []\n",
    "for c in df_train.columns:\n",
    "    if 'cont' in c:\n",
    "        cont_features.append(c)\n",
    "    elif 'cat' in c:\n",
    "        cat_features.append(c)"
   ]
  },
  {
   "cell_type": "code",
   "execution_count": 37,
   "metadata": {
    "collapsed": false
   },
   "outputs": [
    {
     "data": {
      "text/plain": [
       "14"
      ]
     },
     "execution_count": 37,
     "metadata": {},
     "output_type": "execute_result"
    }
   ],
   "source": [
    "len(cont_features) # 14 continuous features"
   ]
  },
  {
   "cell_type": "code",
   "execution_count": 38,
   "metadata": {
    "collapsed": false
   },
   "outputs": [
    {
     "data": {
      "text/plain": [
       "116"
      ]
     },
     "execution_count": 38,
     "metadata": {},
     "output_type": "execute_result"
    }
   ],
   "source": [
    "len(cat_features) #116 categorical features"
   ]
  },
  {
   "cell_type": "code",
   "execution_count": 39,
   "metadata": {
    "collapsed": false
   },
   "outputs": [
    {
     "data": {
      "text/plain": [
       "['cont1',\n",
       " 'cont2',\n",
       " 'cont3',\n",
       " 'cont4',\n",
       " 'cont5',\n",
       " 'cont6',\n",
       " 'cont7',\n",
       " 'cont8',\n",
       " 'cont9',\n",
       " 'cont10',\n",
       " 'cont11',\n",
       " 'cont12',\n",
       " 'cont13',\n",
       " 'cont14']"
      ]
     },
     "execution_count": 39,
     "metadata": {},
     "output_type": "execute_result"
    }
   ],
   "source": [
    "cont_features"
   ]
  },
  {
   "cell_type": "markdown",
   "metadata": {},
   "source": [
    "#### Since we have both continous and categorical features lets see how we can deal with continuous"
   ]
  },
  {
   "cell_type": "code",
   "execution_count": 40,
   "metadata": {
    "collapsed": false
   },
   "outputs": [
    {
     "data": {
      "text/plain": [
       "<matplotlib.axes._subplots.AxesSubplot at 0x1166f8e10>"
      ]
     },
     "execution_count": 40,
     "metadata": {},
     "output_type": "execute_result"
    },
    {
     "data": {
      "image/png": "[encoded data removed]",
      "text/plain": [
       "<matplotlib.figure.Figure at 0x114b68c50>"
      ]
     },
     "metadata": {},
     "output_type": "display_data"
    }
   ],
   "source": [
    "plt.figure(figsize=(14,9))\n",
    "sns.boxplot(data=df_train[cont_features])"
   ]
  },
  {
   "cell_type": "code",
   "execution_count": 41,
   "metadata": {
    "collapsed": false
   },
   "outputs": [
    {
     "data": {
      "text/plain": [
       "id        0.000000\n",
       "cont1     0.518830\n",
       "cont2    -0.309839\n",
       "cont3    -0.014510\n",
       "cont4     0.421794\n",
       "cont5     0.686283\n",
       "cont6     0.463641\n",
       "cont7     0.824971\n",
       "cont8     0.679365\n",
       "cont9     1.075070\n",
       "cont10    0.358105\n",
       "cont11    0.280530\n",
       "cont12    0.292257\n",
       "cont13    0.383133\n",
       "cont14    0.247764\n",
       "loss      3.934882\n",
       "dtype: float64"
      ]
     },
     "execution_count": 41,
     "metadata": {},
     "output_type": "execute_result"
    }
   ],
   "source": [
    "df_train.skew()"
   ]
  },
  {
   "cell_type": "code",
   "execution_count": 26,
   "metadata": {
    "collapsed": true
   },
   "outputs": [],
   "source": [
    "# Skews close to 0 are better\n",
    "# Loss has the highest skew:\n"
   ]
  },
  {
   "cell_type": "code",
   "execution_count": 42,
   "metadata": {
    "collapsed": false
   },
   "outputs": [
    {
     "data": {
      "text/plain": [
       "<matplotlib.text.Text at 0x112184890>"
      ]
     },
     "execution_count": 42,
     "metadata": {},
     "output_type": "execute_result"
    },
    {
     "data": {
      "image/png": "[encoded data removed]",
      "text/plain": [
       "<matplotlib.figure.Figure at 0x1143dc6d0>"
      ]
     },
     "metadata": {},
     "output_type": "display_data"
    }
   ],
   "source": [
    "plt.figure(figsize=(14,9))\n",
    "sns.distplot(df_train['loss'])\n",
    "plt.title('Loss Function Distribution plot')"
   ]
  },
  {
   "cell_type": "code",
   "execution_count": 43,
   "metadata": {
    "collapsed": false
   },
   "outputs": [
    {
     "data": {
      "text/plain": [
       "<matplotlib.text.Text at 0x1180e62d0>"
      ]
     },
     "execution_count": 43,
     "metadata": {},
     "output_type": "execute_result"
    },
    {
     "data": {
      "image/png": "[encoded data removed]",
      "text/plain": [
       "<matplotlib.figure.Figure at 0x11444ad50>"
      ]
     },
     "metadata": {},
     "output_type": "display_data"
    }
   ],
   "source": [
    "# since all values of loss are so small, use log1p to \n",
    "# normalize distribution of loss\n",
    "plt.figure(figsize=(14,9))\n",
    "sns.distplot(np.log1p(df_train['loss']))\n",
    "plt.title('Loss Function Distribution plot')"
   ]
  },
  {
   "cell_type": "code",
   "execution_count": 45,
   "metadata": {
    "collapsed": false
   },
   "outputs": [
    {
     "data": {
      "image/png": "[encoded data removed]",
      "text/plain": [
       "<matplotlib.figure.Figure at 0x114454590>"
      ]
     },
     "metadata": {},
     "output_type": "display_data"
    }
   ],
   "source": [
    "sns.violinplot(data=df_train,y='loss')\n",
    "plt.show()"
   ]
  },
  {
   "cell_type": "code",
   "execution_count": 32,
   "metadata": {
    "collapsed": false
   },
   "outputs": [
    {
     "data": {
      "image/png": "[encoded data removed]",
      "text/plain": [
       "<matplotlib.figure.Figure at 0x114b68550>"
      ]
     },
     "metadata": {},
     "output_type": "display_data"
    }
   ],
   "source": [
    "df_train['loss']= np.log1p(df_train['loss'])\n",
    "sns.violinplot(data=df_train,y='loss')\n",
    "plt.show()\n",
    "# improved skew, but still some exists in the bottom quartile"
   ]
  },
  {
   "cell_type": "code",
   "execution_count": 51,
   "metadata": {
    "collapsed": true
   },
   "outputs": [],
   "source": [
    "cont_features.append('loss')\n",
    "corr_cont = df_train[cont_features].corr()"
   ]
  },
  {
   "cell_type": "code",
   "execution_count": 69,
   "metadata": {
    "collapsed": false
   },
   "outputs": [
    {
     "data": {
      "text/html": [
       "<div>\n",
       "<style scoped>\n",
       "    .dataframe tbody tr th:only-of-type {\n",
       "        vertical-align: middle;\n",
       "    }\n",
       "\n",
       "    .dataframe tbody tr th {\n",
       "        vertical-align: top;\n",
       "    }\n",
       "\n",
       "    .dataframe thead th {\n",
       "        text-align: right;\n",
       "    }\n",
       "</style>\n",
       "<table border=\"1\" class=\"dataframe\">\n",
       "  <thead>\n",
       "    <tr style=\"text-align: right;\">\n",
       "      <th></th>\n",
       "      <th>cont1</th>\n",
       "      <th>cont2</th>\n",
       "      <th>cont3</th>\n",
       "      <th>cont4</th>\n",
       "      <th>cont5</th>\n",
       "      <th>cont6</th>\n",
       "      <th>cont7</th>\n",
       "      <th>cont8</th>\n",
       "      <th>cont9</th>\n",
       "      <th>cont10</th>\n",
       "      <th>cont11</th>\n",
       "      <th>cont12</th>\n",
       "      <th>cont13</th>\n",
       "      <th>cont14</th>\n",
       "      <th>loss</th>\n",
       "    </tr>\n",
       "  </thead>\n",
       "  <tbody>\n",
       "    <tr>\n",
       "      <th>cont1</th>\n",
       "      <td>1.000000</td>\n",
       "      <td>-0.087295</td>\n",
       "      <td>-0.446104</td>\n",
       "      <td>0.367370</td>\n",
       "      <td>-0.026451</td>\n",
       "      <td>0.758735</td>\n",
       "      <td>0.366697</td>\n",
       "      <td>0.359196</td>\n",
       "      <td>0.930134</td>\n",
       "      <td>0.809178</td>\n",
       "      <td>0.595201</td>\n",
       "      <td>0.613389</td>\n",
       "      <td>0.534108</td>\n",
       "      <td>0.057368</td>\n",
       "      <td>-0.010385</td>\n",
       "    </tr>\n",
       "    <tr>\n",
       "      <th>cont2</th>\n",
       "      <td>-0.087295</td>\n",
       "      <td>1.000000</td>\n",
       "      <td>0.457124</td>\n",
       "      <td>0.038294</td>\n",
       "      <td>0.190392</td>\n",
       "      <td>0.014106</td>\n",
       "      <td>0.046314</td>\n",
       "      <td>0.138197</td>\n",
       "      <td>-0.034460</td>\n",
       "      <td>0.061041</td>\n",
       "      <td>0.114710</td>\n",
       "      <td>0.104221</td>\n",
       "      <td>0.022249</td>\n",
       "      <td>-0.044432</td>\n",
       "      <td>0.141768</td>\n",
       "    </tr>\n",
       "    <tr>\n",
       "      <th>cont3</th>\n",
       "      <td>-0.446104</td>\n",
       "      <td>0.457124</td>\n",
       "      <td>1.000000</td>\n",
       "      <td>-0.341400</td>\n",
       "      <td>0.089215</td>\n",
       "      <td>-0.351001</td>\n",
       "      <td>0.096357</td>\n",
       "      <td>-0.185084</td>\n",
       "      <td>-0.417942</td>\n",
       "      <td>-0.327565</td>\n",
       "      <td>0.024803</td>\n",
       "      <td>0.005621</td>\n",
       "      <td>-0.419619</td>\n",
       "      <td>-0.039931</td>\n",
       "      <td>0.112521</td>\n",
       "    </tr>\n",
       "    <tr>\n",
       "      <th>cont4</th>\n",
       "      <td>0.367370</td>\n",
       "      <td>0.038294</td>\n",
       "      <td>-0.341400</td>\n",
       "      <td>1.000000</td>\n",
       "      <td>0.165936</td>\n",
       "      <td>0.220855</td>\n",
       "      <td>-0.115359</td>\n",
       "      <td>0.528926</td>\n",
       "      <td>0.329293</td>\n",
       "      <td>0.283774</td>\n",
       "      <td>0.120666</td>\n",
       "      <td>0.130446</td>\n",
       "      <td>0.179399</td>\n",
       "      <td>0.019609</td>\n",
       "      <td>-0.036294</td>\n",
       "    </tr>\n",
       "    <tr>\n",
       "      <th>cont5</th>\n",
       "      <td>-0.026451</td>\n",
       "      <td>0.190392</td>\n",
       "      <td>0.089215</td>\n",
       "      <td>0.165936</td>\n",
       "      <td>1.000000</td>\n",
       "      <td>-0.149247</td>\n",
       "      <td>-0.248730</td>\n",
       "      <td>0.010671</td>\n",
       "      <td>-0.089271</td>\n",
       "      <td>-0.065655</td>\n",
       "      <td>-0.151239</td>\n",
       "      <td>-0.147740</td>\n",
       "      <td>-0.083173</td>\n",
       "      <td>-0.018081</td>\n",
       "      <td>-0.012236</td>\n",
       "    </tr>\n",
       "    <tr>\n",
       "      <th>cont6</th>\n",
       "      <td>0.758735</td>\n",
       "      <td>0.014106</td>\n",
       "      <td>-0.351001</td>\n",
       "      <td>0.220855</td>\n",
       "      <td>-0.149247</td>\n",
       "      <td>1.000000</td>\n",
       "      <td>0.656555</td>\n",
       "      <td>0.435154</td>\n",
       "      <td>0.798092</td>\n",
       "      <td>0.883501</td>\n",
       "      <td>0.772054</td>\n",
       "      <td>0.783538</td>\n",
       "      <td>0.814269</td>\n",
       "      <td>0.041113</td>\n",
       "      <td>0.041350</td>\n",
       "    </tr>\n",
       "    <tr>\n",
       "      <th>cont7</th>\n",
       "      <td>0.366697</td>\n",
       "      <td>0.046314</td>\n",
       "      <td>0.096357</td>\n",
       "      <td>-0.115359</td>\n",
       "      <td>-0.248730</td>\n",
       "      <td>0.656555</td>\n",
       "      <td>1.000000</td>\n",
       "      <td>0.139375</td>\n",
       "      <td>0.383775</td>\n",
       "      <td>0.490053</td>\n",
       "      <td>0.746344</td>\n",
       "      <td>0.741841</td>\n",
       "      <td>0.283733</td>\n",
       "      <td>0.019531</td>\n",
       "      <td>0.121508</td>\n",
       "    </tr>\n",
       "    <tr>\n",
       "      <th>cont8</th>\n",
       "      <td>0.359196</td>\n",
       "      <td>0.138197</td>\n",
       "      <td>-0.185084</td>\n",
       "      <td>0.528926</td>\n",
       "      <td>0.010671</td>\n",
       "      <td>0.435154</td>\n",
       "      <td>0.139375</td>\n",
       "      <td>1.000000</td>\n",
       "      <td>0.450619</td>\n",
       "      <td>0.334668</td>\n",
       "      <td>0.299011</td>\n",
       "      <td>0.312550</td>\n",
       "      <td>0.474415</td>\n",
       "      <td>0.043791</td>\n",
       "      <td>0.030160</td>\n",
       "    </tr>\n",
       "    <tr>\n",
       "      <th>cont9</th>\n",
       "      <td>0.930134</td>\n",
       "      <td>-0.034460</td>\n",
       "      <td>-0.417942</td>\n",
       "      <td>0.329293</td>\n",
       "      <td>-0.089271</td>\n",
       "      <td>0.798092</td>\n",
       "      <td>0.383775</td>\n",
       "      <td>0.450619</td>\n",
       "      <td>1.000000</td>\n",
       "      <td>0.786895</td>\n",
       "      <td>0.606624</td>\n",
       "      <td>0.625365</td>\n",
       "      <td>0.641954</td>\n",
       "      <td>0.075436</td>\n",
       "      <td>0.014994</td>\n",
       "    </tr>\n",
       "    <tr>\n",
       "      <th>cont10</th>\n",
       "      <td>0.809178</td>\n",
       "      <td>0.061041</td>\n",
       "      <td>-0.327565</td>\n",
       "      <td>0.283774</td>\n",
       "      <td>-0.065655</td>\n",
       "      <td>0.883501</td>\n",
       "      <td>0.490053</td>\n",
       "      <td>0.334668</td>\n",
       "      <td>0.786895</td>\n",
       "      <td>1.000000</td>\n",
       "      <td>0.700725</td>\n",
       "      <td>0.711720</td>\n",
       "      <td>0.707498</td>\n",
       "      <td>0.041852</td>\n",
       "      <td>0.020923</td>\n",
       "    </tr>\n",
       "    <tr>\n",
       "      <th>cont11</th>\n",
       "      <td>0.595201</td>\n",
       "      <td>0.114710</td>\n",
       "      <td>0.024803</td>\n",
       "      <td>0.120666</td>\n",
       "      <td>-0.151239</td>\n",
       "      <td>0.772054</td>\n",
       "      <td>0.746344</td>\n",
       "      <td>0.299011</td>\n",
       "      <td>0.606624</td>\n",
       "      <td>0.700725</td>\n",
       "      <td>1.000000</td>\n",
       "      <td>0.994340</td>\n",
       "      <td>0.462593</td>\n",
       "      <td>0.045780</td>\n",
       "      <td>0.100551</td>\n",
       "    </tr>\n",
       "    <tr>\n",
       "      <th>cont12</th>\n",
       "      <td>0.613389</td>\n",
       "      <td>0.104221</td>\n",
       "      <td>0.005621</td>\n",
       "      <td>0.130446</td>\n",
       "      <td>-0.147740</td>\n",
       "      <td>0.783538</td>\n",
       "      <td>0.741841</td>\n",
       "      <td>0.312550</td>\n",
       "      <td>0.625365</td>\n",
       "      <td>0.711720</td>\n",
       "      <td>0.994340</td>\n",
       "      <td>1.000000</td>\n",
       "      <td>0.475060</td>\n",
       "      <td>0.048988</td>\n",
       "      <td>0.099697</td>\n",
       "    </tr>\n",
       "    <tr>\n",
       "      <th>cont13</th>\n",
       "      <td>0.534108</td>\n",
       "      <td>0.022249</td>\n",
       "      <td>-0.419619</td>\n",
       "      <td>0.179399</td>\n",
       "      <td>-0.083173</td>\n",
       "      <td>0.814269</td>\n",
       "      <td>0.283733</td>\n",
       "      <td>0.474415</td>\n",
       "      <td>0.641954</td>\n",
       "      <td>0.707498</td>\n",
       "      <td>0.462593</td>\n",
       "      <td>0.475060</td>\n",
       "      <td>1.000000</td>\n",
       "      <td>0.047066</td>\n",
       "      <td>-0.005398</td>\n",
       "    </tr>\n",
       "    <tr>\n",
       "      <th>cont14</th>\n",
       "      <td>0.057368</td>\n",
       "      <td>-0.044432</td>\n",
       "      <td>-0.039931</td>\n",
       "      <td>0.019609</td>\n",
       "      <td>-0.018081</td>\n",
       "      <td>0.041113</td>\n",
       "      <td>0.019531</td>\n",
       "      <td>0.043791</td>\n",
       "      <td>0.075436</td>\n",
       "      <td>0.041852</td>\n",
       "      <td>0.045780</td>\n",
       "      <td>0.048988</td>\n",
       "      <td>0.047066</td>\n",
       "      <td>1.000000</td>\n",
       "      <td>0.016457</td>\n",
       "    </tr>\n",
       "    <tr>\n",
       "      <th>loss</th>\n",
       "      <td>-0.010385</td>\n",
       "      <td>0.141768</td>\n",
       "      <td>0.112521</td>\n",
       "      <td>-0.036294</td>\n",
       "      <td>-0.012236</td>\n",
       "      <td>0.041350</td>\n",
       "      <td>0.121508</td>\n",
       "      <td>0.030160</td>\n",
       "      <td>0.014994</td>\n",
       "      <td>0.020923</td>\n",
       "      <td>0.100551</td>\n",
       "      <td>0.099697</td>\n",
       "      <td>-0.005398</td>\n",
       "      <td>0.016457</td>\n",
       "      <td>1.000000</td>\n",
       "    </tr>\n",
       "  </tbody>\n",
       "</table>\n",
       "</div>"
      ],
      "text/plain": [
       "           cont1     cont2     cont3     cont4     cont5     cont6     cont7  \\\n",
       "cont1   1.000000 -0.087295 -0.446104  0.367370 -0.026451  0.758735  0.366697   \n",
       "cont2  -0.087295  1.000000  0.457124  0.038294  0.190392  0.014106  0.046314   \n",
       "cont3  -0.446104  0.457124  1.000000 -0.341400  0.089215 -0.351001  0.096357   \n",
       "cont4   0.367370  0.038294 -0.341400  1.000000  0.165936  0.220855 -0.115359   \n",
       "cont5  -0.026451  0.190392  0.089215  0.165936  1.000000 -0.149247 -0.248730   \n",
       "cont6   0.758735  0.014106 -0.351001  0.220855 -0.149247  1.000000  0.656555   \n",
       "cont7   0.366697  0.046314  0.096357 -0.115359 -0.248730  0.656555  1.000000   \n",
       "cont8   0.359196  0.138197 -0.185084  0.528926  0.010671  0.435154  0.139375   \n",
       "cont9   0.930134 -0.034460 -0.417942  0.329293 -0.089271  0.798092  0.383775   \n",
       "cont10  0.809178  0.061041 -0.327565  0.283774 -0.065655  0.883501  0.490053   \n",
       "cont11  0.595201  0.114710  0.024803  0.120666 -0.151239  0.772054  0.746344   \n",
       "cont12  0.613389  0.104221  0.005621  0.130446 -0.147740  0.783538  0.741841   \n",
       "cont13  0.534108  0.022249 -0.419619  0.179399 -0.083173  0.814269  0.283733   \n",
       "cont14  0.057368 -0.044432 -0.039931  0.019609 -0.018081  0.041113  0.019531   \n",
       "loss   -0.010385  0.141768  0.112521 -0.036294 -0.012236  0.041350  0.121508   \n",
       "\n",
       "           cont8     cont9    cont10    cont11    cont12    cont13    cont14  \\\n",
       "cont1   0.359196  0.930134  0.809178  0.595201  0.613389  0.534108  0.057368   \n",
       "cont2   0.138197 -0.034460  0.061041  0.114710  0.104221  0.022249 -0.044432   \n",
       "cont3  -0.185084 -0.417942 -0.327565  0.024803  0.005621 -0.419619 -0.039931   \n",
       "cont4   0.528926  0.329293  0.283774  0.120666  0.130446  0.179399  0.019609   \n",
       "cont5   0.010671 -0.089271 -0.065655 -0.151239 -0.147740 -0.083173 -0.018081   \n",
       "cont6   0.435154  0.798092  0.883501  0.772054  0.783538  0.814269  0.041113   \n",
       "cont7   0.139375  0.383775  0.490053  0.746344  0.741841  0.283733  0.019531   \n",
       "cont8   1.000000  0.450619  0.334668  0.299011  0.312550  0.474415  0.043791   \n",
       "cont9   0.450619  1.000000  0.786895  0.606624  0.625365  0.641954  0.075436   \n",
       "cont10  0.334668  0.786895  1.000000  0.700725  0.711720  0.707498  0.041852   \n",
       "cont11  0.299011  0.606624  0.700725  1.000000  0.994340  0.462593  0.045780   \n",
       "cont12  0.312550  0.625365  0.711720  0.994340  1.000000  0.475060  0.048988   \n",
       "cont13  0.474415  0.641954  0.707498  0.462593  0.475060  1.000000  0.047066   \n",
       "cont14  0.043791  0.075436  0.041852  0.045780  0.048988  0.047066  1.000000   \n",
       "loss    0.030160  0.014994  0.020923  0.100551  0.099697 -0.005398  0.016457   \n",
       "\n",
       "            loss  \n",
       "cont1  -0.010385  \n",
       "cont2   0.141768  \n",
       "cont3   0.112521  \n",
       "cont4  -0.036294  \n",
       "cont5  -0.012236  \n",
       "cont6   0.041350  \n",
       "cont7   0.121508  \n",
       "cont8   0.030160  \n",
       "cont9   0.014994  \n",
       "cont10  0.020923  \n",
       "cont11  0.100551  \n",
       "cont12  0.099697  \n",
       "cont13 -0.005398  \n",
       "cont14  0.016457  \n",
       "loss    1.000000  "
      ]
     },
     "execution_count": 69,
     "metadata": {},
     "output_type": "execute_result"
    }
   ],
   "source": [
    "corr_cont"
   ]
  },
  {
   "cell_type": "code",
   "execution_count": null,
   "metadata": {
    "collapsed": false
   },
   "outputs": [],
   "source": []
  },
  {
   "cell_type": "code",
   "execution_count": 75,
   "metadata": {
    "collapsed": false
   },
   "outputs": [
    {
     "data": {
      "image/png": "[encoded data removed]",
      "text/plain": [
       "<matplotlib.figure.Figure at 0x1148b9d10>"
      ]
     },
     "metadata": {},
     "output_type": "display_data"
    }
   ],
   "source": [
    "plt.figure(figsize=(14,9))\n",
    "sns.heatmap(corr_cont,annot=True,vmin=0,vmax=1,cmap='YlGnBu')\n",
    "plt.show()\n"
   ]
  },
  {
   "cell_type": "code",
   "execution_count": 98,
   "metadata": {
    "collapsed": false
   },
   "outputs": [],
   "source": [
    "corrMat = corr_cont.as_matrix()\n",
    "corr_list = []"
   ]
  },
  {
   "cell_type": "code",
   "execution_count": null,
   "metadata": {
    "collapsed": false
   },
   "outputs": [],
   "source": [
    "# We one drop one of a pair of highly correlated variables\n",
    "#https://www.kaggle.com/sharmasanthosh/exploratory-study-on-ml-algorithms"
   ]
  },
  {
   "cell_type": "code",
   "execution_count": 99,
   "metadata": {
    "collapsed": false
   },
   "outputs": [
    {
     "data": {
      "text/plain": [
       "['cat1',\n",
       " 'cat2',\n",
       " 'cat3',\n",
       " 'cat4',\n",
       " 'cat5',\n",
       " 'cat6',\n",
       " 'cat7',\n",
       " 'cat8',\n",
       " 'cat9',\n",
       " 'cat10',\n",
       " 'cat11',\n",
       " 'cat12',\n",
       " 'cat13',\n",
       " 'cat14',\n",
       " 'cat15',\n",
       " 'cat16',\n",
       " 'cat17',\n",
       " 'cat18',\n",
       " 'cat19',\n",
       " 'cat20',\n",
       " 'cat21',\n",
       " 'cat22',\n",
       " 'cat23',\n",
       " 'cat24',\n",
       " 'cat25',\n",
       " 'cat26',\n",
       " 'cat27',\n",
       " 'cat28',\n",
       " 'cat29',\n",
       " 'cat30',\n",
       " 'cat31',\n",
       " 'cat32',\n",
       " 'cat33',\n",
       " 'cat34',\n",
       " 'cat35',\n",
       " 'cat36',\n",
       " 'cat37',\n",
       " 'cat38',\n",
       " 'cat39',\n",
       " 'cat40',\n",
       " 'cat41',\n",
       " 'cat42',\n",
       " 'cat43',\n",
       " 'cat44',\n",
       " 'cat45',\n",
       " 'cat46',\n",
       " 'cat47',\n",
       " 'cat48',\n",
       " 'cat49',\n",
       " 'cat50',\n",
       " 'cat51',\n",
       " 'cat52',\n",
       " 'cat53',\n",
       " 'cat54',\n",
       " 'cat55',\n",
       " 'cat56',\n",
       " 'cat57',\n",
       " 'cat58',\n",
       " 'cat59',\n",
       " 'cat60',\n",
       " 'cat61',\n",
       " 'cat62',\n",
       " 'cat63',\n",
       " 'cat64',\n",
       " 'cat65',\n",
       " 'cat66',\n",
       " 'cat67',\n",
       " 'cat68',\n",
       " 'cat69',\n",
       " 'cat70',\n",
       " 'cat71',\n",
       " 'cat72',\n",
       " 'cat73',\n",
       " 'cat74',\n",
       " 'cat75',\n",
       " 'cat76',\n",
       " 'cat77',\n",
       " 'cat78',\n",
       " 'cat79',\n",
       " 'cat80',\n",
       " 'cat81',\n",
       " 'cat82',\n",
       " 'cat83',\n",
       " 'cat84',\n",
       " 'cat85',\n",
       " 'cat86',\n",
       " 'cat87',\n",
       " 'cat88',\n",
       " 'cat89',\n",
       " 'cat90',\n",
       " 'cat91',\n",
       " 'cat92',\n",
       " 'cat93',\n",
       " 'cat94',\n",
       " 'cat95',\n",
       " 'cat96',\n",
       " 'cat97',\n",
       " 'cat98',\n",
       " 'cat99',\n",
       " 'cat100',\n",
       " 'cat101',\n",
       " 'cat102',\n",
       " 'cat103',\n",
       " 'cat104',\n",
       " 'cat105',\n",
       " 'cat106',\n",
       " 'cat107',\n",
       " 'cat108',\n",
       " 'cat109',\n",
       " 'cat110',\n",
       " 'cat111',\n",
       " 'cat112',\n",
       " 'cat113',\n",
       " 'cat114',\n",
       " 'cat115',\n",
       " 'cat116']"
      ]
     },
     "execution_count": 99,
     "metadata": {},
     "output_type": "execute_result"
    }
   ],
   "source": [
    "# Start Categorical Features\n",
    "cat_features"
   ]
  },
  {
   "cell_type": "code",
   "execution_count": 104,
   "metadata": {
    "collapsed": false
   },
   "outputs": [],
   "source": [
    "numLabels = df_train[cat_features].nunique()"
   ]
  },
  {
   "cell_type": "code",
   "execution_count": 116,
   "metadata": {
    "collapsed": false
   },
   "outputs": [
    {
     "data": {
      "text/plain": [
       "count    116.000000\n",
       "mean       9.456897\n",
       "std       31.793188\n",
       "min        2.000000\n",
       "25%        2.000000\n",
       "50%        2.000000\n",
       "75%        4.000000\n",
       "max      307.000000\n",
       "dtype: float64"
      ]
     },
     "execution_count": 116,
     "metadata": {},
     "output_type": "execute_result"
    }
   ],
   "source": [
    "numLabels.describe()"
   ]
  },
  {
   "cell_type": "code",
   "execution_count": 117,
   "metadata": {
    "collapsed": false
   },
   "outputs": [],
   "source": [
    "from sklearn.preprocessing import LabelEncoder\n",
    "from sklearn.preprocessing import OneHotEncoder"
   ]
  },
  {
   "cell_type": "code",
   "execution_count": 120,
   "metadata": {
    "collapsed": true
   },
   "outputs": [],
   "source": [
    "labels =[]\n",
    "for c in cat_features:\n",
    "    train = df_train[c].unique()\n",
    "    test = df_test[c].unique()\n",
    "    labels.append(list(set(train) | set(test)))\n",
    "    "
   ]
  },
  {
   "cell_type": "code",
   "execution_count": 126,
   "metadata": {
    "collapsed": false
   },
   "outputs": [],
   "source": [
    "cats = []\n",
    "for i,v in enumerate(cat_features):\n",
    "    #Label encode\n",
    "    label_encoder = LabelEncoder()\n",
    "    label_encoder.fit(labels[i])\n",
    "    feature = label_encoder.transform(df_train[v])\n",
    "    feature = feature.reshape(df_train.shape[0], 1)\n",
    "    #One hot encode\n",
    "    onehot_encoder = OneHotEncoder(sparse=False,n_values=len(labels[i]))\n",
    "    feature = onehot_encoder.fit_transform(feature)\n",
    "    cats.append(feature)"
   ]
  },
  {
   "cell_type": "code",
   "execution_count": 129,
   "metadata": {
    "collapsed": false
   },
   "outputs": [],
   "source": [
    "encoded_cats = np.column_stack(cats)"
   ]
  },
  {
   "cell_type": "code",
   "execution_count": 130,
   "metadata": {
    "collapsed": false
   },
   "outputs": [
    {
     "name": "stdout",
     "output_type": "stream",
     "text": [
      "(131822, 1139)\n"
     ]
    }
   ],
   "source": [
    "print(encoded_cats.shape)"
   ]
  },
  {
   "cell_type": "code",
   "execution_count": 137,
   "metadata": {
    "collapsed": false
   },
   "outputs": [],
   "source": [
    "dataset_encoded = np.concatenate((encoded_cats,df_train[cont_features].values),axis=1)"
   ]
  },
  {
   "cell_type": "code",
   "execution_count": 138,
   "metadata": {
    "collapsed": false
   },
   "outputs": [
    {
     "data": {
      "text/plain": [
       "(131822, 1154)"
      ]
     },
     "execution_count": 138,
     "metadata": {},
     "output_type": "execute_result"
    }
   ],
   "source": [
    "dataset_encoded.shape"
   ]
  },
  {
   "cell_type": "code",
   "execution_count": 139,
   "metadata": {
    "collapsed": false
   },
   "outputs": [
    {
     "data": {
      "text/plain": [
       "(131822, 132)"
      ]
     },
     "execution_count": 139,
     "metadata": {},
     "output_type": "execute_result"
    }
   ],
   "source": [
    "df_train.shape"
   ]
  },
  {
   "cell_type": "code",
   "execution_count": 149,
   "metadata": {
    "collapsed": false
   },
   "outputs": [],
   "source": [
    "rows, columns = dataset_encoded.shape"
   ]
  },
  {
   "cell_type": "code",
   "execution_count": 150,
   "metadata": {
    "collapsed": false
   },
   "outputs": [
    {
     "data": {
      "text/plain": [
       "1154"
      ]
     },
     "execution_count": 150,
     "metadata": {},
     "output_type": "execute_result"
    }
   ],
   "source": [
    "columns"
   ]
  },
  {
   "cell_type": "code",
   "execution_count": 151,
   "metadata": {
    "collapsed": false
   },
   "outputs": [],
   "source": [
    "data = dataset_encoded[:,0:(columns-1)] # remove loss column\n",
    "loss = dataset_encoded[:,(columns-1)] # loss column"
   ]
  },
  {
   "cell_type": "code",
   "execution_count": 152,
   "metadata": {
    "collapsed": true
   },
   "outputs": [],
   "source": [
    "del dataset_encoded"
   ]
  },
  {
   "cell_type": "code",
   "execution_count": 154,
   "metadata": {
    "collapsed": false
   },
   "outputs": [
    {
     "name": "stderr",
     "output_type": "stream",
     "text": [
      "/Users/niralshah/anaconda/envs/capstone/lib/python2.7/site-packages/sklearn/cross_validation.py:41: DeprecationWarning: This module was deprecated in version 0.18 in favor of the model_selection module into which all the refactored classes and functions are moved. Also note that the interface of the new CV iterators are different from that of this module. This module will be removed in 0.20.\n",
      "  \"This module will be removed in 0.20.\", DeprecationWarning)\n"
     ]
    }
   ],
   "source": [
    "from sklearn import cross_validation\n",
    "val_size = 0.1\n",
    "seed  = 2016\n",
    "X_train, X_val, Y_train, Y_val = cross_validation.train_test_split(data, loss, test_size=val_size, random_state=seed)"
   ]
  },
  {
   "cell_type": "code",
   "execution_count": 155,
   "metadata": {
    "collapsed": true
   },
   "outputs": [],
   "source": [
    "## LASSO Linear Regression:"
   ]
  },
  {
   "cell_type": "code",
   "execution_count": 172,
   "metadata": {
    "collapsed": true
   },
   "outputs": [],
   "source": [
    "from sklearn.linear_model import Lasso\n",
    "from sklearn.metrics import mean_absolute_error\n",
    "import time"
   ]
  },
  {
   "cell_type": "code",
   "execution_count": 167,
   "metadata": {
    "collapsed": true
   },
   "outputs": [],
   "source": [
    "alphas = [0.0001,0.001,0.01,0.1,1]"
   ]
  },
  {
   "cell_type": "code",
   "execution_count": null,
   "metadata": {
    "collapsed": false
   },
   "outputs": [],
   "source": [
    "results=[]\n",
    "for i,a in enumerate(alphas):\n",
    "    start = time.time()\n",
    "    clf = Lasso(alpha=a,random_state=seed)\n",
    "    clf.fit(X_train,Y_train)\n",
    "    end = time.time()\n",
    "    elapsed = end-start\n",
    "    results.append(mean_absolute_error(np.expm1(Y_val), np.expm1(clf.predict(X_val))))\n",
    "    print \"Performance:\"+str(results[i])\n",
    "    print \"Time:\"+str(elapsed)"
   ]
  },
  {
   "cell_type": "code",
   "execution_count": null,
   "metadata": {
    "collapsed": true
   },
   "outputs": [],
   "source": []
  }
 ],
 "metadata": {
  "kernelspec": {
   "display_name": "Python 2",
   "language": "python",
   "name": "python2"
  },
  "language_info": {
   "codemirror_mode": {
    "name": "ipython",
    "version": 2
   },
   "file_extension": ".py",
   "mimetype": "text/x-python",
   "name": "python",
   "nbconvert_exporter": "python",
   "pygments_lexer": "ipython2",
   "version": "2.7.13"
  }
 },
 "nbformat": 4,
 "nbformat_minor": 2
}
