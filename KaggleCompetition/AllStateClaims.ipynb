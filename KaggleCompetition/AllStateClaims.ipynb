{
 "cells": [
  {
   "cell_type": "code",
   "execution_count": 2,
   "metadata": {
    "collapsed": true
   },
   "outputs": [],
   "source": [
    "import pandas as pd\n",
    "import numpy as np\n",
    "import matplotlib.pyplot as plt\n",
    "import seaborn as sns\n",
    "%matplotlib inline"
   ]
  },
  {
   "cell_type": "code",
   "execution_count": 3,
   "metadata": {
    "collapsed": false
   },
   "outputs": [],
   "source": [
    "df_train = pd.read_csv('pml_train.csv')"
   ]
  },
  {
   "cell_type": "code",
   "execution_count": 4,
   "metadata": {
    "collapsed": true
   },
   "outputs": [],
   "source": [
    "df_test = pd.read_csv('pml_test_features.csv')"
   ]
  },
  {
   "cell_type": "code",
   "execution_count": 14,
   "metadata": {
    "collapsed": false
   },
   "outputs": [
    {
     "data": {
      "text/html": [
       "<div>\n",
       "<style scoped>\n",
       "    .dataframe tbody tr th:only-of-type {\n",
       "        vertical-align: middle;\n",
       "    }\n",
       "\n",
       "    .dataframe tbody tr th {\n",
       "        vertical-align: top;\n",
       "    }\n",
       "\n",
       "    .dataframe thead th {\n",
       "        text-align: right;\n",
       "    }\n",
       "</style>\n",
       "<table border=\"1\" class=\"dataframe\">\n",
       "  <thead>\n",
       "    <tr style=\"text-align: right;\">\n",
       "      <th></th>\n",
       "      <th>id</th>\n",
       "      <th>cat1</th>\n",
       "      <th>cat2</th>\n",
       "      <th>cat3</th>\n",
       "      <th>cat4</th>\n",
       "      <th>cat5</th>\n",
       "      <th>cat6</th>\n",
       "      <th>cat7</th>\n",
       "      <th>cat8</th>\n",
       "      <th>cat9</th>\n",
       "      <th>...</th>\n",
       "      <th>cont6</th>\n",
       "      <th>cont7</th>\n",
       "      <th>cont8</th>\n",
       "      <th>cont9</th>\n",
       "      <th>cont10</th>\n",
       "      <th>cont11</th>\n",
       "      <th>cont12</th>\n",
       "      <th>cont13</th>\n",
       "      <th>cont14</th>\n",
       "      <th>loss</th>\n",
       "    </tr>\n",
       "  </thead>\n",
       "  <tbody>\n",
       "    <tr>\n",
       "      <th>0</th>\n",
       "      <td>0</td>\n",
       "      <td>A</td>\n",
       "      <td>A</td>\n",
       "      <td>A</td>\n",
       "      <td>A</td>\n",
       "      <td>B</td>\n",
       "      <td>A</td>\n",
       "      <td>A</td>\n",
       "      <td>A</td>\n",
       "      <td>A</td>\n",
       "      <td>...</td>\n",
       "      <td>0.669748</td>\n",
       "      <td>0.515940</td>\n",
       "      <td>0.55421</td>\n",
       "      <td>0.53774</td>\n",
       "      <td>0.47225</td>\n",
       "      <td>0.492200</td>\n",
       "      <td>0.481306</td>\n",
       "      <td>0.756454</td>\n",
       "      <td>0.344502</td>\n",
       "      <td>7.674989</td>\n",
       "    </tr>\n",
       "    <tr>\n",
       "      <th>1</th>\n",
       "      <td>1</td>\n",
       "      <td>B</td>\n",
       "      <td>A</td>\n",
       "      <td>A</td>\n",
       "      <td>A</td>\n",
       "      <td>A</td>\n",
       "      <td>B</td>\n",
       "      <td>A</td>\n",
       "      <td>A</td>\n",
       "      <td>A</td>\n",
       "      <td>...</td>\n",
       "      <td>0.484775</td>\n",
       "      <td>0.698278</td>\n",
       "      <td>0.35533</td>\n",
       "      <td>0.40657</td>\n",
       "      <td>0.40666</td>\n",
       "      <td>0.468839</td>\n",
       "      <td>0.458493</td>\n",
       "      <td>0.304350</td>\n",
       "      <td>0.470455</td>\n",
       "      <td>6.928430</td>\n",
       "    </tr>\n",
       "    <tr>\n",
       "      <th>2</th>\n",
       "      <td>2</td>\n",
       "      <td>A</td>\n",
       "      <td>A</td>\n",
       "      <td>A</td>\n",
       "      <td>B</td>\n",
       "      <td>A</td>\n",
       "      <td>A</td>\n",
       "      <td>A</td>\n",
       "      <td>A</td>\n",
       "      <td>A</td>\n",
       "      <td>...</td>\n",
       "      <td>0.350956</td>\n",
       "      <td>0.363768</td>\n",
       "      <td>0.58354</td>\n",
       "      <td>0.44352</td>\n",
       "      <td>0.39599</td>\n",
       "      <td>0.341813</td>\n",
       "      <td>0.352251</td>\n",
       "      <td>0.339244</td>\n",
       "      <td>0.283969</td>\n",
       "      <td>8.407117</td>\n",
       "    </tr>\n",
       "    <tr>\n",
       "      <th>3</th>\n",
       "      <td>3</td>\n",
       "      <td>B</td>\n",
       "      <td>A</td>\n",
       "      <td>A</td>\n",
       "      <td>A</td>\n",
       "      <td>A</td>\n",
       "      <td>B</td>\n",
       "      <td>A</td>\n",
       "      <td>A</td>\n",
       "      <td>A</td>\n",
       "      <td>...</td>\n",
       "      <td>0.748243</td>\n",
       "      <td>0.538694</td>\n",
       "      <td>0.54829</td>\n",
       "      <td>0.50420</td>\n",
       "      <td>0.51111</td>\n",
       "      <td>0.711942</td>\n",
       "      <td>0.698722</td>\n",
       "      <td>0.709578</td>\n",
       "      <td>0.776114</td>\n",
       "      <td>6.811366</td>\n",
       "    </tr>\n",
       "    <tr>\n",
       "      <th>4</th>\n",
       "      <td>4</td>\n",
       "      <td>A</td>\n",
       "      <td>B</td>\n",
       "      <td>A</td>\n",
       "      <td>A</td>\n",
       "      <td>A</td>\n",
       "      <td>A</td>\n",
       "      <td>A</td>\n",
       "      <td>A</td>\n",
       "      <td>B</td>\n",
       "      <td>...</td>\n",
       "      <td>0.321058</td>\n",
       "      <td>0.326430</td>\n",
       "      <td>0.31280</td>\n",
       "      <td>0.39648</td>\n",
       "      <td>0.38016</td>\n",
       "      <td>0.245410</td>\n",
       "      <td>0.241676</td>\n",
       "      <td>0.261150</td>\n",
       "      <td>0.342082</td>\n",
       "      <td>6.883073</td>\n",
       "    </tr>\n",
       "  </tbody>\n",
       "</table>\n",
       "<p>5 rows × 132 columns</p>\n",
       "</div>"
      ],
      "text/plain": [
       "   id cat1 cat2 cat3 cat4 cat5 cat6 cat7 cat8 cat9    ...        cont6  \\\n",
       "0   0    A    A    A    A    B    A    A    A    A    ...     0.669748   \n",
       "1   1    B    A    A    A    A    B    A    A    A    ...     0.484775   \n",
       "2   2    A    A    A    B    A    A    A    A    A    ...     0.350956   \n",
       "3   3    B    A    A    A    A    B    A    A    A    ...     0.748243   \n",
       "4   4    A    B    A    A    A    A    A    A    B    ...     0.321058   \n",
       "\n",
       "      cont7    cont8    cont9   cont10    cont11    cont12    cont13  \\\n",
       "0  0.515940  0.55421  0.53774  0.47225  0.492200  0.481306  0.756454   \n",
       "1  0.698278  0.35533  0.40657  0.40666  0.468839  0.458493  0.304350   \n",
       "2  0.363768  0.58354  0.44352  0.39599  0.341813  0.352251  0.339244   \n",
       "3  0.538694  0.54829  0.50420  0.51111  0.711942  0.698722  0.709578   \n",
       "4  0.326430  0.31280  0.39648  0.38016  0.245410  0.241676  0.261150   \n",
       "\n",
       "     cont14      loss  \n",
       "0  0.344502  7.674989  \n",
       "1  0.470455  6.928430  \n",
       "2  0.283969  8.407117  \n",
       "3  0.776114  6.811366  \n",
       "4  0.342082  6.883073  \n",
       "\n",
       "[5 rows x 132 columns]"
      ]
     },
     "execution_count": 14,
     "metadata": {},
     "output_type": "execute_result"
    }
   ],
   "source": [
    "df_train.head()"
   ]
  },
  {
   "cell_type": "code",
   "execution_count": 15,
   "metadata": {
    "collapsed": false
   },
   "outputs": [
    {
     "data": {
      "text/html": [
       "<div>\n",
       "<style scoped>\n",
       "    .dataframe tbody tr th:only-of-type {\n",
       "        vertical-align: middle;\n",
       "    }\n",
       "\n",
       "    .dataframe tbody tr th {\n",
       "        vertical-align: top;\n",
       "    }\n",
       "\n",
       "    .dataframe thead th {\n",
       "        text-align: right;\n",
       "    }\n",
       "</style>\n",
       "<table border=\"1\" class=\"dataframe\">\n",
       "  <thead>\n",
       "    <tr style=\"text-align: right;\">\n",
       "      <th></th>\n",
       "      <th>id</th>\n",
       "      <th>cont1</th>\n",
       "      <th>cont2</th>\n",
       "      <th>cont3</th>\n",
       "      <th>cont4</th>\n",
       "      <th>cont5</th>\n",
       "      <th>cont6</th>\n",
       "      <th>cont7</th>\n",
       "      <th>cont8</th>\n",
       "      <th>cont9</th>\n",
       "      <th>cont10</th>\n",
       "      <th>cont11</th>\n",
       "      <th>cont12</th>\n",
       "      <th>cont13</th>\n",
       "      <th>cont14</th>\n",
       "      <th>loss</th>\n",
       "    </tr>\n",
       "  </thead>\n",
       "  <tbody>\n",
       "    <tr>\n",
       "      <th>count</th>\n",
       "      <td>131822.00000</td>\n",
       "      <td>131822.000000</td>\n",
       "      <td>131822.000000</td>\n",
       "      <td>131822.000000</td>\n",
       "      <td>131822.000000</td>\n",
       "      <td>131822.000000</td>\n",
       "      <td>131822.000000</td>\n",
       "      <td>131822.000000</td>\n",
       "      <td>131822.000000</td>\n",
       "      <td>131822.00000</td>\n",
       "      <td>131822.000000</td>\n",
       "      <td>131822.000000</td>\n",
       "      <td>131822.000000</td>\n",
       "      <td>131822.000000</td>\n",
       "      <td>131822.000000</td>\n",
       "      <td>131822.000000</td>\n",
       "    </tr>\n",
       "    <tr>\n",
       "      <th>mean</th>\n",
       "      <td>65910.50000</td>\n",
       "      <td>0.493342</td>\n",
       "      <td>0.507205</td>\n",
       "      <td>0.499348</td>\n",
       "      <td>0.491129</td>\n",
       "      <td>0.486648</td>\n",
       "      <td>0.490494</td>\n",
       "      <td>0.485201</td>\n",
       "      <td>0.486195</td>\n",
       "      <td>0.48512</td>\n",
       "      <td>0.497715</td>\n",
       "      <td>0.493509</td>\n",
       "      <td>0.493151</td>\n",
       "      <td>0.492624</td>\n",
       "      <td>0.495778</td>\n",
       "      <td>7.686542</td>\n",
       "    </tr>\n",
       "    <tr>\n",
       "      <th>std</th>\n",
       "      <td>38053.87793</td>\n",
       "      <td>0.187592</td>\n",
       "      <td>0.207240</td>\n",
       "      <td>0.202093</td>\n",
       "      <td>0.211094</td>\n",
       "      <td>0.208703</td>\n",
       "      <td>0.205043</td>\n",
       "      <td>0.178781</td>\n",
       "      <td>0.199229</td>\n",
       "      <td>0.18146</td>\n",
       "      <td>0.185664</td>\n",
       "      <td>0.209614</td>\n",
       "      <td>0.209308</td>\n",
       "      <td>0.212643</td>\n",
       "      <td>0.222450</td>\n",
       "      <td>0.811082</td>\n",
       "    </tr>\n",
       "    <tr>\n",
       "      <th>min</th>\n",
       "      <td>0.00000</td>\n",
       "      <td>0.000016</td>\n",
       "      <td>0.001149</td>\n",
       "      <td>0.002634</td>\n",
       "      <td>0.176921</td>\n",
       "      <td>0.281143</td>\n",
       "      <td>0.012683</td>\n",
       "      <td>0.069503</td>\n",
       "      <td>0.236880</td>\n",
       "      <td>0.00008</td>\n",
       "      <td>0.000000</td>\n",
       "      <td>0.035321</td>\n",
       "      <td>0.036232</td>\n",
       "      <td>0.000228</td>\n",
       "      <td>0.180268</td>\n",
       "      <td>1.832581</td>\n",
       "    </tr>\n",
       "    <tr>\n",
       "      <th>25%</th>\n",
       "      <td>32955.25000</td>\n",
       "      <td>0.344779</td>\n",
       "      <td>0.358319</td>\n",
       "      <td>0.336963</td>\n",
       "      <td>0.327354</td>\n",
       "      <td>0.281143</td>\n",
       "      <td>0.335056</td>\n",
       "      <td>0.350378</td>\n",
       "      <td>0.312800</td>\n",
       "      <td>0.35897</td>\n",
       "      <td>0.364580</td>\n",
       "      <td>0.310961</td>\n",
       "      <td>0.312482</td>\n",
       "      <td>0.315758</td>\n",
       "      <td>0.294752</td>\n",
       "      <td>7.094973</td>\n",
       "    </tr>\n",
       "    <tr>\n",
       "      <th>50%</th>\n",
       "      <td>65910.50000</td>\n",
       "      <td>0.475784</td>\n",
       "      <td>0.555782</td>\n",
       "      <td>0.527991</td>\n",
       "      <td>0.452887</td>\n",
       "      <td>0.422268</td>\n",
       "      <td>0.439786</td>\n",
       "      <td>0.438480</td>\n",
       "      <td>0.441060</td>\n",
       "      <td>0.43731</td>\n",
       "      <td>0.461190</td>\n",
       "      <td>0.457203</td>\n",
       "      <td>0.462286</td>\n",
       "      <td>0.363547</td>\n",
       "      <td>0.407411</td>\n",
       "      <td>7.658032</td>\n",
       "    </tr>\n",
       "    <tr>\n",
       "      <th>75%</th>\n",
       "      <td>98865.75000</td>\n",
       "      <td>0.623912</td>\n",
       "      <td>0.681761</td>\n",
       "      <td>0.634224</td>\n",
       "      <td>0.652072</td>\n",
       "      <td>0.635304</td>\n",
       "      <td>0.653958</td>\n",
       "      <td>0.591284</td>\n",
       "      <td>0.623580</td>\n",
       "      <td>0.55855</td>\n",
       "      <td>0.614590</td>\n",
       "      <td>0.678924</td>\n",
       "      <td>0.675759</td>\n",
       "      <td>0.689974</td>\n",
       "      <td>0.724610</td>\n",
       "      <td>8.260003</td>\n",
       "    </tr>\n",
       "    <tr>\n",
       "      <th>max</th>\n",
       "      <td>131821.00000</td>\n",
       "      <td>0.984975</td>\n",
       "      <td>0.862654</td>\n",
       "      <td>0.944251</td>\n",
       "      <td>0.952482</td>\n",
       "      <td>0.983674</td>\n",
       "      <td>0.997162</td>\n",
       "      <td>1.000000</td>\n",
       "      <td>0.980200</td>\n",
       "      <td>0.99540</td>\n",
       "      <td>0.994980</td>\n",
       "      <td>0.998742</td>\n",
       "      <td>0.998484</td>\n",
       "      <td>0.988494</td>\n",
       "      <td>0.844844</td>\n",
       "      <td>11.703655</td>\n",
       "    </tr>\n",
       "  </tbody>\n",
       "</table>\n",
       "</div>"
      ],
      "text/plain": [
       "                 id          cont1          cont2          cont3  \\\n",
       "count  131822.00000  131822.000000  131822.000000  131822.000000   \n",
       "mean    65910.50000       0.493342       0.507205       0.499348   \n",
       "std     38053.87793       0.187592       0.207240       0.202093   \n",
       "min         0.00000       0.000016       0.001149       0.002634   \n",
       "25%     32955.25000       0.344779       0.358319       0.336963   \n",
       "50%     65910.50000       0.475784       0.555782       0.527991   \n",
       "75%     98865.75000       0.623912       0.681761       0.634224   \n",
       "max    131821.00000       0.984975       0.862654       0.944251   \n",
       "\n",
       "               cont4          cont5          cont6          cont7  \\\n",
       "count  131822.000000  131822.000000  131822.000000  131822.000000   \n",
       "mean        0.491129       0.486648       0.490494       0.485201   \n",
       "std         0.211094       0.208703       0.205043       0.178781   \n",
       "min         0.176921       0.281143       0.012683       0.069503   \n",
       "25%         0.327354       0.281143       0.335056       0.350378   \n",
       "50%         0.452887       0.422268       0.439786       0.438480   \n",
       "75%         0.652072       0.635304       0.653958       0.591284   \n",
       "max         0.952482       0.983674       0.997162       1.000000   \n",
       "\n",
       "               cont8         cont9         cont10         cont11  \\\n",
       "count  131822.000000  131822.00000  131822.000000  131822.000000   \n",
       "mean        0.486195       0.48512       0.497715       0.493509   \n",
       "std         0.199229       0.18146       0.185664       0.209614   \n",
       "min         0.236880       0.00008       0.000000       0.035321   \n",
       "25%         0.312800       0.35897       0.364580       0.310961   \n",
       "50%         0.441060       0.43731       0.461190       0.457203   \n",
       "75%         0.623580       0.55855       0.614590       0.678924   \n",
       "max         0.980200       0.99540       0.994980       0.998742   \n",
       "\n",
       "              cont12         cont13         cont14           loss  \n",
       "count  131822.000000  131822.000000  131822.000000  131822.000000  \n",
       "mean        0.493151       0.492624       0.495778       7.686542  \n",
       "std         0.209308       0.212643       0.222450       0.811082  \n",
       "min         0.036232       0.000228       0.180268       1.832581  \n",
       "25%         0.312482       0.315758       0.294752       7.094973  \n",
       "50%         0.462286       0.363547       0.407411       7.658032  \n",
       "75%         0.675759       0.689974       0.724610       8.260003  \n",
       "max         0.998484       0.988494       0.844844      11.703655  "
      ]
     },
     "execution_count": 15,
     "metadata": {},
     "output_type": "execute_result"
    }
   ],
   "source": [
    "df_train.describe()"
   ]
  },
  {
   "cell_type": "code",
   "execution_count": 16,
   "metadata": {
    "collapsed": false
   },
   "outputs": [],
   "source": [
    "cont_features = []\n",
    "cat_features = []\n",
    "for c in df_train.columns:\n",
    "    if 'cont' in c:\n",
    "        cont_features.append(c)\n",
    "    elif 'cat' in c:\n",
    "        cat_features.append(c)"
   ]
  },
  {
   "cell_type": "code",
   "execution_count": 17,
   "metadata": {
    "collapsed": false
   },
   "outputs": [
    {
     "data": {
      "text/plain": [
       "14"
      ]
     },
     "execution_count": 17,
     "metadata": {},
     "output_type": "execute_result"
    }
   ],
   "source": [
    "len(cont_features) # 14 continuous features"
   ]
  },
  {
   "cell_type": "code",
   "execution_count": 18,
   "metadata": {
    "collapsed": false
   },
   "outputs": [
    {
     "data": {
      "text/plain": [
       "116"
      ]
     },
     "execution_count": 18,
     "metadata": {},
     "output_type": "execute_result"
    }
   ],
   "source": [
    "len(cat_features) #116 categorical features"
   ]
  },
  {
   "cell_type": "code",
   "execution_count": 19,
   "metadata": {
    "collapsed": false
   },
   "outputs": [
    {
     "data": {
      "text/plain": [
       "['cont1',\n",
       " 'cont2',\n",
       " 'cont3',\n",
       " 'cont4',\n",
       " 'cont5',\n",
       " 'cont6',\n",
       " 'cont7',\n",
       " 'cont8',\n",
       " 'cont9',\n",
       " 'cont10',\n",
       " 'cont11',\n",
       " 'cont12',\n",
       " 'cont13',\n",
       " 'cont14']"
      ]
     },
     "execution_count": 19,
     "metadata": {},
     "output_type": "execute_result"
    }
   ],
   "source": [
    "cont_features"
   ]
  },
  {
   "cell_type": "markdown",
   "metadata": {},
   "source": [
    "#### Since we have both continous and categorical features lets see how we can deal with continuous"
   ]
  },
  {
   "cell_type": "code",
   "execution_count": 1,
   "metadata": {
    "collapsed": false
   },
   "outputs": [
    {
     "ename": "NameError",
     "evalue": "name 'plt' is not defined",
     "output_type": "error",
     "traceback": [
      "\u001b[0;31m---------------------------------------------------------------------------\u001b[0m",
      "\u001b[0;31mNameError\u001b[0m                                 Traceback (most recent call last)",
      "\u001b[0;32m<ipython-input-1-b0e423d8b48a>\u001b[0m in \u001b[0;36m<module>\u001b[0;34m()\u001b[0m\n\u001b[0;32m----> 1\u001b[0;31m \u001b[0mplt\u001b[0m\u001b[0;34m.\u001b[0m\u001b[0mfigure\u001b[0m\u001b[0;34m(\u001b[0m\u001b[0mfigsize\u001b[0m\u001b[0;34m=\u001b[0m\u001b[0;34m(\u001b[0m\u001b[0;36m14\u001b[0m\u001b[0;34m,\u001b[0m\u001b[0;36m9\u001b[0m\u001b[0;34m)\u001b[0m\u001b[0;34m)\u001b[0m\u001b[0;34m\u001b[0m\u001b[0m\n\u001b[0m\u001b[1;32m      2\u001b[0m \u001b[0msns\u001b[0m\u001b[0;34m.\u001b[0m\u001b[0mboxplot\u001b[0m\u001b[0;34m(\u001b[0m\u001b[0mdata\u001b[0m\u001b[0;34m=\u001b[0m\u001b[0mdf_train\u001b[0m\u001b[0;34m[\u001b[0m\u001b[0mcont_features\u001b[0m\u001b[0;34m]\u001b[0m\u001b[0;34m)\u001b[0m\u001b[0;34m\u001b[0m\u001b[0m\n\u001b[1;32m      3\u001b[0m \u001b[0mplt\u001b[0m\u001b[0;34m.\u001b[0m\u001b[0mtitle\u001b[0m\u001b[0;34m(\u001b[0m\u001b[0;34m'Box-Plot of Continous Features'\u001b[0m\u001b[0;34m)\u001b[0m\u001b[0;34m\u001b[0m\u001b[0m\n",
      "\u001b[0;31mNameError\u001b[0m: name 'plt' is not defined"
     ]
    }
   ],
   "source": [
    "plt.figure(figsize=(14,9))\n",
    "sns.boxplot(data=df_train[cont_features])\n",
    "plt.title('Box-Plot of Continous Features')"
   ]
  },
  {
   "cell_type": "code",
   "execution_count": 21,
   "metadata": {
    "collapsed": false
   },
   "outputs": [
    {
     "data": {
      "text/plain": [
       "id        0.000000\n",
       "cont1     0.518830\n",
       "cont2    -0.309839\n",
       "cont3    -0.014510\n",
       "cont4     0.421794\n",
       "cont5     0.686283\n",
       "cont6     0.463641\n",
       "cont7     0.824971\n",
       "cont8     0.679365\n",
       "cont9     1.075070\n",
       "cont10    0.358105\n",
       "cont11    0.280530\n",
       "cont12    0.292257\n",
       "cont13    0.383133\n",
       "cont14    0.247764\n",
       "loss      0.104820\n",
       "dtype: float64"
      ]
     },
     "execution_count": 21,
     "metadata": {},
     "output_type": "execute_result"
    }
   ],
   "source": [
    "df_train.skew()"
   ]
  },
  {
   "cell_type": "code",
   "execution_count": 22,
   "metadata": {
    "collapsed": true
   },
   "outputs": [],
   "source": [
    "# Skews close to 0 are better\n",
    "# Loss has the highest skew:\n"
   ]
  },
  {
   "cell_type": "code",
   "execution_count": 23,
   "metadata": {
    "collapsed": false
   },
   "outputs": [
    {
     "data": {
      "text/plain": [
       "<matplotlib.text.Text at 0x10622e550>"
      ]
     },
     "execution_count": 23,
     "metadata": {},
     "output_type": "execute_result"
    },
    {
     "data": {
      "image/png": "[encoded data removed]",
      "text/plain": [
       "<matplotlib.figure.Figure at 0x1063e57d0>"
      ]
     },
     "metadata": {},
     "output_type": "display_data"
    }
   ],
   "source": [
    "plt.figure(figsize=(14,9))\n",
    "sns.distplot(df_train['loss'])\n",
    "plt.title('Loss Function Distribution plot')"
   ]
  },
  {
   "cell_type": "code",
   "execution_count": 24,
   "metadata": {
    "collapsed": false
   },
   "outputs": [
    {
     "data": {
      "text/plain": [
       "<matplotlib.text.Text at 0x111051f10>"
      ]
     },
     "execution_count": 24,
     "metadata": {},
     "output_type": "execute_result"
    },
    {
     "data": {
      "image/png": "[encoded data removed]",
      "text/plain": [
       "<matplotlib.figure.Figure at 0x10efe3650>"
      ]
     },
     "metadata": {},
     "output_type": "display_data"
    }
   ],
   "source": [
    "# since all values of loss are so small, use log1p to \n",
    "# normalize distribution of loss\n",
    "plt.figure(figsize=(14,9))\n",
    "sns.distplot(np.log1p(df_train['loss']))\n",
    "plt.title('Loss Function Distribution plot')"
   ]
  },
  {
   "cell_type": "code",
   "execution_count": 25,
   "metadata": {
    "collapsed": false
   },
   "outputs": [
    {
     "data": {
      "image/png": "[encoded data removed]",
      "text/plain": [
       "<matplotlib.figure.Figure at 0x10efe36d0>"
      ]
     },
     "metadata": {},
     "output_type": "display_data"
    }
   ],
   "source": [
    "sns.violinplot(data=df_train,y='loss')\n",
    "plt.show()"
   ]
  },
  {
   "cell_type": "code",
   "execution_count": 26,
   "metadata": {
    "collapsed": false
   },
   "outputs": [
    {
     "data": {
      "image/png": "[encoded data removed]",
      "text/plain": [
       "<matplotlib.figure.Figure at 0x110d77610>"
      ]
     },
     "metadata": {},
     "output_type": "display_data"
    }
   ],
   "source": [
    "df_train['loss']= np.log1p(df_train['loss'])\n",
    "sns.violinplot(data=df_train,y='loss')\n",
    "plt.show()\n",
    "# improved skew, but still some exists in the bottom quartile"
   ]
  },
  {
   "cell_type": "code",
   "execution_count": 27,
   "metadata": {
    "collapsed": true
   },
   "outputs": [],
   "source": [
    "cont_features.append('loss')\n",
    "corr_cont = df_train[cont_features].corr()"
   ]
  },
  {
   "cell_type": "code",
   "execution_count": 28,
   "metadata": {
    "collapsed": false
   },
   "outputs": [
    {
     "data": {
      "text/html": [
       "<div>\n",
       "<style scoped>\n",
       "    .dataframe tbody tr th:only-of-type {\n",
       "        vertical-align: middle;\n",
       "    }\n",
       "\n",
       "    .dataframe tbody tr th {\n",
       "        vertical-align: top;\n",
       "    }\n",
       "\n",
       "    .dataframe thead th {\n",
       "        text-align: right;\n",
       "    }\n",
       "</style>\n",
       "<table border=\"1\" class=\"dataframe\">\n",
       "  <thead>\n",
       "    <tr style=\"text-align: right;\">\n",
       "      <th></th>\n",
       "      <th>cont1</th>\n",
       "      <th>cont2</th>\n",
       "      <th>cont3</th>\n",
       "      <th>cont4</th>\n",
       "      <th>cont5</th>\n",
       "      <th>cont6</th>\n",
       "      <th>cont7</th>\n",
       "      <th>cont8</th>\n",
       "      <th>cont9</th>\n",
       "      <th>cont10</th>\n",
       "      <th>cont11</th>\n",
       "      <th>cont12</th>\n",
       "      <th>cont13</th>\n",
       "      <th>cont14</th>\n",
       "      <th>loss</th>\n",
       "    </tr>\n",
       "  </thead>\n",
       "  <tbody>\n",
       "    <tr>\n",
       "      <th>cont1</th>\n",
       "      <td>1.000000</td>\n",
       "      <td>-0.087295</td>\n",
       "      <td>-0.446104</td>\n",
       "      <td>0.367370</td>\n",
       "      <td>-0.026451</td>\n",
       "      <td>0.758735</td>\n",
       "      <td>0.366697</td>\n",
       "      <td>0.359196</td>\n",
       "      <td>0.930134</td>\n",
       "      <td>0.809178</td>\n",
       "      <td>0.595201</td>\n",
       "      <td>0.613389</td>\n",
       "      <td>0.534108</td>\n",
       "      <td>0.057368</td>\n",
       "      <td>-0.005286</td>\n",
       "    </tr>\n",
       "    <tr>\n",
       "      <th>cont2</th>\n",
       "      <td>-0.087295</td>\n",
       "      <td>1.000000</td>\n",
       "      <td>0.457124</td>\n",
       "      <td>0.038294</td>\n",
       "      <td>0.190392</td>\n",
       "      <td>0.014106</td>\n",
       "      <td>0.046314</td>\n",
       "      <td>0.138197</td>\n",
       "      <td>-0.034460</td>\n",
       "      <td>0.061041</td>\n",
       "      <td>0.114710</td>\n",
       "      <td>0.104221</td>\n",
       "      <td>0.022249</td>\n",
       "      <td>-0.044432</td>\n",
       "      <td>0.099270</td>\n",
       "    </tr>\n",
       "    <tr>\n",
       "      <th>cont3</th>\n",
       "      <td>-0.446104</td>\n",
       "      <td>0.457124</td>\n",
       "      <td>1.000000</td>\n",
       "      <td>-0.341400</td>\n",
       "      <td>0.089215</td>\n",
       "      <td>-0.351001</td>\n",
       "      <td>0.096357</td>\n",
       "      <td>-0.185084</td>\n",
       "      <td>-0.417942</td>\n",
       "      <td>-0.327565</td>\n",
       "      <td>0.024803</td>\n",
       "      <td>0.005621</td>\n",
       "      <td>-0.419619</td>\n",
       "      <td>-0.039931</td>\n",
       "      <td>0.077400</td>\n",
       "    </tr>\n",
       "    <tr>\n",
       "      <th>cont4</th>\n",
       "      <td>0.367370</td>\n",
       "      <td>0.038294</td>\n",
       "      <td>-0.341400</td>\n",
       "      <td>1.000000</td>\n",
       "      <td>0.165936</td>\n",
       "      <td>0.220855</td>\n",
       "      <td>-0.115359</td>\n",
       "      <td>0.528926</td>\n",
       "      <td>0.329293</td>\n",
       "      <td>0.283774</td>\n",
       "      <td>0.120666</td>\n",
       "      <td>0.130446</td>\n",
       "      <td>0.179399</td>\n",
       "      <td>0.019609</td>\n",
       "      <td>-0.023568</td>\n",
       "    </tr>\n",
       "    <tr>\n",
       "      <th>cont5</th>\n",
       "      <td>-0.026451</td>\n",
       "      <td>0.190392</td>\n",
       "      <td>0.089215</td>\n",
       "      <td>0.165936</td>\n",
       "      <td>1.000000</td>\n",
       "      <td>-0.149247</td>\n",
       "      <td>-0.248730</td>\n",
       "      <td>0.010671</td>\n",
       "      <td>-0.089271</td>\n",
       "      <td>-0.065655</td>\n",
       "      <td>-0.151239</td>\n",
       "      <td>-0.147740</td>\n",
       "      <td>-0.083173</td>\n",
       "      <td>-0.018081</td>\n",
       "      <td>-0.014074</td>\n",
       "    </tr>\n",
       "    <tr>\n",
       "      <th>cont6</th>\n",
       "      <td>0.758735</td>\n",
       "      <td>0.014106</td>\n",
       "      <td>-0.351001</td>\n",
       "      <td>0.220855</td>\n",
       "      <td>-0.149247</td>\n",
       "      <td>1.000000</td>\n",
       "      <td>0.656555</td>\n",
       "      <td>0.435154</td>\n",
       "      <td>0.798092</td>\n",
       "      <td>0.883501</td>\n",
       "      <td>0.772054</td>\n",
       "      <td>0.783538</td>\n",
       "      <td>0.814269</td>\n",
       "      <td>0.041113</td>\n",
       "      <td>0.031882</td>\n",
       "    </tr>\n",
       "    <tr>\n",
       "      <th>cont7</th>\n",
       "      <td>0.366697</td>\n",
       "      <td>0.046314</td>\n",
       "      <td>0.096357</td>\n",
       "      <td>-0.115359</td>\n",
       "      <td>-0.248730</td>\n",
       "      <td>0.656555</td>\n",
       "      <td>1.000000</td>\n",
       "      <td>0.139375</td>\n",
       "      <td>0.383775</td>\n",
       "      <td>0.490053</td>\n",
       "      <td>0.746344</td>\n",
       "      <td>0.741841</td>\n",
       "      <td>0.283733</td>\n",
       "      <td>0.019531</td>\n",
       "      <td>0.082895</td>\n",
       "    </tr>\n",
       "    <tr>\n",
       "      <th>cont8</th>\n",
       "      <td>0.359196</td>\n",
       "      <td>0.138197</td>\n",
       "      <td>-0.185084</td>\n",
       "      <td>0.528926</td>\n",
       "      <td>0.010671</td>\n",
       "      <td>0.435154</td>\n",
       "      <td>0.139375</td>\n",
       "      <td>1.000000</td>\n",
       "      <td>0.450619</td>\n",
       "      <td>0.334668</td>\n",
       "      <td>0.299011</td>\n",
       "      <td>0.312550</td>\n",
       "      <td>0.474415</td>\n",
       "      <td>0.043791</td>\n",
       "      <td>0.032190</td>\n",
       "    </tr>\n",
       "    <tr>\n",
       "      <th>cont9</th>\n",
       "      <td>0.930134</td>\n",
       "      <td>-0.034460</td>\n",
       "      <td>-0.417942</td>\n",
       "      <td>0.329293</td>\n",
       "      <td>-0.089271</td>\n",
       "      <td>0.798092</td>\n",
       "      <td>0.383775</td>\n",
       "      <td>0.450619</td>\n",
       "      <td>1.000000</td>\n",
       "      <td>0.786895</td>\n",
       "      <td>0.606624</td>\n",
       "      <td>0.625365</td>\n",
       "      <td>0.641954</td>\n",
       "      <td>0.075436</td>\n",
       "      <td>0.019314</td>\n",
       "    </tr>\n",
       "    <tr>\n",
       "      <th>cont10</th>\n",
       "      <td>0.809178</td>\n",
       "      <td>0.061041</td>\n",
       "      <td>-0.327565</td>\n",
       "      <td>0.283774</td>\n",
       "      <td>-0.065655</td>\n",
       "      <td>0.883501</td>\n",
       "      <td>0.490053</td>\n",
       "      <td>0.334668</td>\n",
       "      <td>0.786895</td>\n",
       "      <td>1.000000</td>\n",
       "      <td>0.700725</td>\n",
       "      <td>0.711720</td>\n",
       "      <td>0.707498</td>\n",
       "      <td>0.041852</td>\n",
       "      <td>0.011442</td>\n",
       "    </tr>\n",
       "    <tr>\n",
       "      <th>cont11</th>\n",
       "      <td>0.595201</td>\n",
       "      <td>0.114710</td>\n",
       "      <td>0.024803</td>\n",
       "      <td>0.120666</td>\n",
       "      <td>-0.151239</td>\n",
       "      <td>0.772054</td>\n",
       "      <td>0.746344</td>\n",
       "      <td>0.299011</td>\n",
       "      <td>0.606624</td>\n",
       "      <td>0.700725</td>\n",
       "      <td>1.000000</td>\n",
       "      <td>0.994340</td>\n",
       "      <td>0.462593</td>\n",
       "      <td>0.045780</td>\n",
       "      <td>0.070879</td>\n",
       "    </tr>\n",
       "    <tr>\n",
       "      <th>cont12</th>\n",
       "      <td>0.613389</td>\n",
       "      <td>0.104221</td>\n",
       "      <td>0.005621</td>\n",
       "      <td>0.130446</td>\n",
       "      <td>-0.147740</td>\n",
       "      <td>0.783538</td>\n",
       "      <td>0.741841</td>\n",
       "      <td>0.312550</td>\n",
       "      <td>0.625365</td>\n",
       "      <td>0.711720</td>\n",
       "      <td>0.994340</td>\n",
       "      <td>1.000000</td>\n",
       "      <td>0.475060</td>\n",
       "      <td>0.048988</td>\n",
       "      <td>0.070496</td>\n",
       "    </tr>\n",
       "    <tr>\n",
       "      <th>cont13</th>\n",
       "      <td>0.534108</td>\n",
       "      <td>0.022249</td>\n",
       "      <td>-0.419619</td>\n",
       "      <td>0.179399</td>\n",
       "      <td>-0.083173</td>\n",
       "      <td>0.814269</td>\n",
       "      <td>0.283733</td>\n",
       "      <td>0.474415</td>\n",
       "      <td>0.641954</td>\n",
       "      <td>0.707498</td>\n",
       "      <td>0.462593</td>\n",
       "      <td>0.475060</td>\n",
       "      <td>1.000000</td>\n",
       "      <td>0.047066</td>\n",
       "      <td>0.003408</td>\n",
       "    </tr>\n",
       "    <tr>\n",
       "      <th>cont14</th>\n",
       "      <td>0.057368</td>\n",
       "      <td>-0.044432</td>\n",
       "      <td>-0.039931</td>\n",
       "      <td>0.019609</td>\n",
       "      <td>-0.018081</td>\n",
       "      <td>0.041113</td>\n",
       "      <td>0.019531</td>\n",
       "      <td>0.043791</td>\n",
       "      <td>0.075436</td>\n",
       "      <td>0.041852</td>\n",
       "      <td>0.045780</td>\n",
       "      <td>0.048988</td>\n",
       "      <td>0.047066</td>\n",
       "      <td>1.000000</td>\n",
       "      <td>0.024660</td>\n",
       "    </tr>\n",
       "    <tr>\n",
       "      <th>loss</th>\n",
       "      <td>-0.005286</td>\n",
       "      <td>0.099270</td>\n",
       "      <td>0.077400</td>\n",
       "      <td>-0.023568</td>\n",
       "      <td>-0.014074</td>\n",
       "      <td>0.031882</td>\n",
       "      <td>0.082895</td>\n",
       "      <td>0.032190</td>\n",
       "      <td>0.019314</td>\n",
       "      <td>0.011442</td>\n",
       "      <td>0.070879</td>\n",
       "      <td>0.070496</td>\n",
       "      <td>0.003408</td>\n",
       "      <td>0.024660</td>\n",
       "      <td>1.000000</td>\n",
       "    </tr>\n",
       "  </tbody>\n",
       "</table>\n",
       "</div>"
      ],
      "text/plain": [
       "           cont1     cont2     cont3     cont4     cont5     cont6     cont7  \\\n",
       "cont1   1.000000 -0.087295 -0.446104  0.367370 -0.026451  0.758735  0.366697   \n",
       "cont2  -0.087295  1.000000  0.457124  0.038294  0.190392  0.014106  0.046314   \n",
       "cont3  -0.446104  0.457124  1.000000 -0.341400  0.089215 -0.351001  0.096357   \n",
       "cont4   0.367370  0.038294 -0.341400  1.000000  0.165936  0.220855 -0.115359   \n",
       "cont5  -0.026451  0.190392  0.089215  0.165936  1.000000 -0.149247 -0.248730   \n",
       "cont6   0.758735  0.014106 -0.351001  0.220855 -0.149247  1.000000  0.656555   \n",
       "cont7   0.366697  0.046314  0.096357 -0.115359 -0.248730  0.656555  1.000000   \n",
       "cont8   0.359196  0.138197 -0.185084  0.528926  0.010671  0.435154  0.139375   \n",
       "cont9   0.930134 -0.034460 -0.417942  0.329293 -0.089271  0.798092  0.383775   \n",
       "cont10  0.809178  0.061041 -0.327565  0.283774 -0.065655  0.883501  0.490053   \n",
       "cont11  0.595201  0.114710  0.024803  0.120666 -0.151239  0.772054  0.746344   \n",
       "cont12  0.613389  0.104221  0.005621  0.130446 -0.147740  0.783538  0.741841   \n",
       "cont13  0.534108  0.022249 -0.419619  0.179399 -0.083173  0.814269  0.283733   \n",
       "cont14  0.057368 -0.044432 -0.039931  0.019609 -0.018081  0.041113  0.019531   \n",
       "loss   -0.005286  0.099270  0.077400 -0.023568 -0.014074  0.031882  0.082895   \n",
       "\n",
       "           cont8     cont9    cont10    cont11    cont12    cont13    cont14  \\\n",
       "cont1   0.359196  0.930134  0.809178  0.595201  0.613389  0.534108  0.057368   \n",
       "cont2   0.138197 -0.034460  0.061041  0.114710  0.104221  0.022249 -0.044432   \n",
       "cont3  -0.185084 -0.417942 -0.327565  0.024803  0.005621 -0.419619 -0.039931   \n",
       "cont4   0.528926  0.329293  0.283774  0.120666  0.130446  0.179399  0.019609   \n",
       "cont5   0.010671 -0.089271 -0.065655 -0.151239 -0.147740 -0.083173 -0.018081   \n",
       "cont6   0.435154  0.798092  0.883501  0.772054  0.783538  0.814269  0.041113   \n",
       "cont7   0.139375  0.383775  0.490053  0.746344  0.741841  0.283733  0.019531   \n",
       "cont8   1.000000  0.450619  0.334668  0.299011  0.312550  0.474415  0.043791   \n",
       "cont9   0.450619  1.000000  0.786895  0.606624  0.625365  0.641954  0.075436   \n",
       "cont10  0.334668  0.786895  1.000000  0.700725  0.711720  0.707498  0.041852   \n",
       "cont11  0.299011  0.606624  0.700725  1.000000  0.994340  0.462593  0.045780   \n",
       "cont12  0.312550  0.625365  0.711720  0.994340  1.000000  0.475060  0.048988   \n",
       "cont13  0.474415  0.641954  0.707498  0.462593  0.475060  1.000000  0.047066   \n",
       "cont14  0.043791  0.075436  0.041852  0.045780  0.048988  0.047066  1.000000   \n",
       "loss    0.032190  0.019314  0.011442  0.070879  0.070496  0.003408  0.024660   \n",
       "\n",
       "            loss  \n",
       "cont1  -0.005286  \n",
       "cont2   0.099270  \n",
       "cont3   0.077400  \n",
       "cont4  -0.023568  \n",
       "cont5  -0.014074  \n",
       "cont6   0.031882  \n",
       "cont7   0.082895  \n",
       "cont8   0.032190  \n",
       "cont9   0.019314  \n",
       "cont10  0.011442  \n",
       "cont11  0.070879  \n",
       "cont12  0.070496  \n",
       "cont13  0.003408  \n",
       "cont14  0.024660  \n",
       "loss    1.000000  "
      ]
     },
     "execution_count": 28,
     "metadata": {},
     "output_type": "execute_result"
    }
   ],
   "source": [
    "corr_cont"
   ]
  },
  {
   "cell_type": "code",
   "execution_count": null,
   "metadata": {
    "collapsed": false
   },
   "outputs": [],
   "source": []
  },
  {
   "cell_type": "code",
   "execution_count": 30,
   "metadata": {
    "collapsed": false
   },
   "outputs": [],
   "source": [
    "corrMat = corr_cont.as_matrix()\n",
    "corr_list = []"
   ]
  },
  {
   "cell_type": "code",
   "execution_count": 29,
   "metadata": {
    "collapsed": false
   },
   "outputs": [
    {
     "data": {
      "image/png": "[encoded data removed]",
      "text/plain": [
       "<matplotlib.figure.Figure at 0x10fe88990>"
      ]
     },
     "metadata": {},
     "output_type": "display_data"
    }
   ],
   "source": [
    "plt.figure(figsize=(14,9))\n",
    "sns.heatmap(corr_cont,annot=True,vmin=0,vmax=1,cmap='YlGnBu')\n",
    "plt.show()\n"
   ]
  },
  {
   "cell_type": "code",
   "execution_count": 31,
   "metadata": {
    "collapsed": false
   },
   "outputs": [],
   "source": [
    "# We one drop one of a pair of highly correlated variables\n",
    "#https://www.kaggle.com/sharmasanthosh/exploratory-study-on-ml-algorithms"
   ]
  },
  {
   "cell_type": "code",
   "execution_count": null,
   "metadata": {
    "collapsed": false
   },
   "outputs": [],
   "source": []
  },
  {
   "cell_type": "code",
   "execution_count": 33,
   "metadata": {
    "collapsed": false
   },
   "outputs": [],
   "source": [
    "numLabels = df_train[cat_features].nunique()"
   ]
  },
  {
   "cell_type": "code",
   "execution_count": 34,
   "metadata": {
    "collapsed": false
   },
   "outputs": [
    {
     "data": {
      "text/plain": [
       "count    116.000000\n",
       "mean       9.456897\n",
       "std       31.793188\n",
       "min        2.000000\n",
       "25%        2.000000\n",
       "50%        2.000000\n",
       "75%        4.000000\n",
       "max      307.000000\n",
       "dtype: float64"
      ]
     },
     "execution_count": 34,
     "metadata": {},
     "output_type": "execute_result"
    }
   ],
   "source": [
    "numLabels.describe()"
   ]
  },
  {
   "cell_type": "code",
   "execution_count": 35,
   "metadata": {
    "collapsed": false
   },
   "outputs": [],
   "source": [
    "from sklearn.preprocessing import LabelEncoder\n",
    "from sklearn.preprocessing import OneHotEncoder"
   ]
  },
  {
   "cell_type": "code",
   "execution_count": 36,
   "metadata": {
    "collapsed": true
   },
   "outputs": [],
   "source": [
    "labels =[]\n",
    "for c in cat_features:\n",
    "    train = df_train[c].unique()\n",
    "    test = df_test[c].unique()\n",
    "    labels.append(list(set(train) | set(test)))\n",
    "    "
   ]
  },
  {
   "cell_type": "code",
   "execution_count": 37,
   "metadata": {
    "collapsed": false
   },
   "outputs": [],
   "source": [
    "cats = []\n",
    "cats_test =[]\n",
    "for i,v in enumerate(cat_features):\n",
    "    #Label encode\n",
    "    label_encoder = LabelEncoder()\n",
    "    label_encoder.fit(labels[i])\n",
    "    feature = label_encoder.transform(df_train[v])\n",
    "    f_test = label_encoder.transform(df_test[v])\n",
    "    feature = feature.reshape(df_train.shape[0], 1)\n",
    "    f_test = f_test.reshape(df_test.shape[0],1)\n",
    "    #One hot encode\n",
    "    onehot_encoder = OneHotEncoder(sparse=False,n_values=len(labels[i]))\n",
    "    feature = onehot_encoder.fit_transform(feature)\n",
    "    f_test = onehot_encoder.fit_transform(f_test)\n",
    "    cats.append(feature)\n",
    "    cats_test.append(f_test)"
   ]
  },
  {
   "cell_type": "code",
   "execution_count": 38,
   "metadata": {
    "collapsed": false
   },
   "outputs": [],
   "source": [
    "encoded_cats = np.column_stack(cats)\n",
    "encoded_catsTest=np.column_stack(cats_test)"
   ]
  },
  {
   "cell_type": "code",
   "execution_count": 27,
   "metadata": {
    "collapsed": false
   },
   "outputs": [
    {
     "name": "stdout",
     "output_type": "stream",
     "text": [
      "(131822, 1139)\n"
     ]
    }
   ],
   "source": [
    "print(encoded_cats.shape)"
   ]
  },
  {
   "cell_type": "code",
   "execution_count": 28,
   "metadata": {
    "collapsed": false
   },
   "outputs": [
    {
     "name": "stdout",
     "output_type": "stream",
     "text": [
      "(56496, 1139)\n"
     ]
    }
   ],
   "source": [
    "print(encoded_catsTest.shape)"
   ]
  },
  {
   "cell_type": "code",
   "execution_count": 29,
   "metadata": {
    "collapsed": false
   },
   "outputs": [],
   "source": [
    "dataset_encoded = np.concatenate((encoded_cats,df_train[cont_features].values),axis=1)"
   ]
  },
  {
   "cell_type": "code",
   "execution_count": 30,
   "metadata": {
    "collapsed": false
   },
   "outputs": [],
   "source": [
    "cont_features.remove('loss')\n",
    "dataTestE = np.concatenate((encoded_catsTest,df_test[cont_features].values),axis=1)"
   ]
  },
  {
   "cell_type": "code",
   "execution_count": 31,
   "metadata": {
    "collapsed": false
   },
   "outputs": [],
   "source": [
    "dataset_encoded.save('')"
   ]
  },
  {
   "cell_type": "code",
   "execution_count": 32,
   "metadata": {
    "collapsed": true
   },
   "outputs": [],
   "source": [
    "dataTestE.tofile('dataTestE')"
   ]
  },
  {
   "cell_type": "code",
   "execution_count": 8,
   "metadata": {
    "collapsed": true
   },
   "outputs": [],
   "source": [
    "dataset_encoded = np.fromfile('dataset_encoded')"
   ]
  },
  {
   "cell_type": "code",
   "execution_count": 9,
   "metadata": {
    "collapsed": true
   },
   "outputs": [],
   "source": [
    "dataTestE = np.fromfile('dataTestE')"
   ]
  },
  {
   "cell_type": "code",
   "execution_count": 44,
   "metadata": {
    "collapsed": false
   },
   "outputs": [],
   "source": [
    "dataTestE=dataTestE.reshape(56496,1153)\n",
    "dataset_encoded = dataset_encoded.reshape(131822,1154)"
   ]
  },
  {
   "cell_type": "code",
   "execution_count": 45,
   "metadata": {
    "collapsed": false
   },
   "outputs": [
    {
     "data": {
      "text/plain": [
       "(131822, 1154)"
      ]
     },
     "execution_count": 45,
     "metadata": {},
     "output_type": "execute_result"
    }
   ],
   "source": [
    "dataset_encoded.shape"
   ]
  },
  {
   "cell_type": "code",
   "execution_count": 46,
   "metadata": {
    "collapsed": false
   },
   "outputs": [
    {
     "data": {
      "text/plain": [
       "(56496, 1153)"
      ]
     },
     "execution_count": 46,
     "metadata": {},
     "output_type": "execute_result"
    }
   ],
   "source": [
    "dataTestE.shape"
   ]
  },
  {
   "cell_type": "code",
   "execution_count": 47,
   "metadata": {
    "collapsed": false
   },
   "outputs": [],
   "source": [
    "rows, columns = dataset_encoded.shape"
   ]
  },
  {
   "cell_type": "code",
   "execution_count": 48,
   "metadata": {
    "collapsed": false
   },
   "outputs": [
    {
     "data": {
      "text/plain": [
       "1154"
      ]
     },
     "execution_count": 48,
     "metadata": {},
     "output_type": "execute_result"
    }
   ],
   "source": [
    "columns"
   ]
  },
  {
   "cell_type": "code",
   "execution_count": 49,
   "metadata": {
    "collapsed": false
   },
   "outputs": [],
   "source": [
    "data = dataset_encoded[:,0:(columns-1)] # remove loss column\n",
    "loss = dataset_encoded[:,(columns-1)] # loss column"
   ]
  },
  {
   "cell_type": "code",
   "execution_count": 37,
   "metadata": {
    "collapsed": true
   },
   "outputs": [],
   "source": [
    "del dataset_encoded"
   ]
  },
  {
   "cell_type": "code",
   "execution_count": 50,
   "metadata": {
    "collapsed": false
   },
   "outputs": [
    {
     "name": "stderr",
     "output_type": "stream",
     "text": [
      "/Users/niralshah/anaconda/envs/capstone/lib/python2.7/site-packages/sklearn/cross_validation.py:41: DeprecationWarning: This module was deprecated in version 0.18 in favor of the model_selection module into which all the refactored classes and functions are moved. Also note that the interface of the new CV iterators are different from that of this module. This module will be removed in 0.20.\n",
      "  \"This module will be removed in 0.20.\", DeprecationWarning)\n"
     ]
    }
   ],
   "source": [
    "from sklearn import cross_validation\n",
    "val_size = 0.1\n",
    "seed  = 2016\n",
    "X_train, X_val, Y_train, Y_val = cross_validation.train_test_split(data, loss, test_size=val_size, random_state=seed)"
   ]
  },
  {
   "cell_type": "code",
   "execution_count": 39,
   "metadata": {
    "collapsed": true
   },
   "outputs": [],
   "source": [
    "## LASSO Linear Regression:"
   ]
  },
  {
   "cell_type": "code",
   "execution_count": 51,
   "metadata": {
    "collapsed": true
   },
   "outputs": [],
   "source": [
    "from sklearn.linear_model import Lasso\n",
    "from sklearn.metrics import mean_absolute_error\n",
    "import time"
   ]
  },
  {
   "cell_type": "code",
   "execution_count": 41,
   "metadata": {
    "collapsed": true
   },
   "outputs": [],
   "source": [
    "alphas = [0.0001,0.001,0.01,0.1,1]"
   ]
  },
  {
   "cell_type": "code",
   "execution_count": 52,
   "metadata": {
    "collapsed": true
   },
   "outputs": [],
   "source": [
    "results=[]"
   ]
  },
  {
   "cell_type": "code",
   "execution_count": 28,
   "metadata": {
    "collapsed": false
   },
   "outputs": [
    {
     "name": "stderr",
     "output_type": "stream",
     "text": [
      "/Users/niralshah/anaconda/envs/capstone/lib/python2.7/site-packages/sklearn/linear_model/coordinate_descent.py:491: ConvergenceWarning: Objective did not converge. You might want to increase the number of iterations. Fitting data with very small alpha may cause precision problems.\n",
      "  ConvergenceWarning)\n"
     ]
    },
    {
     "name": "stdout",
     "output_type": "stream",
     "text": [
      "Performance:1225.306767904611\n",
      "Time:171.96288085\n",
      "Performance:1226.9920518686936\n",
      "Time:31.1218321323\n",
      "Performance:1318.4090279846314\n",
      "Time:13.7477860451\n",
      "Performance:1644.9781856849947\n",
      "Time:12.8921720982\n",
      "Performance:1776.6256454363674\n",
      "Time:6.19267010689\n"
     ]
    }
   ],
   "source": [
    "for i,a in enumerate(alphas):\n",
    "    start = time.time()\n",
    "    clf = Lasso(alpha=a,random_state=seed)\n",
    "    clf.fit(X_train,Y_train)\n",
    "    end = time.time()\n",
    "    elapsed = end-start\n",
    "    results.append(mean_absolute_error(np.expm1(Y_val), np.expm1(clf.predict(X_val))))\n",
    "    print \"Performance:\"+str(results[i])\n",
    "    print \"Time:\"+str(elapsed)"
   ]
  },
  {
   "cell_type": "code",
   "execution_count": 77,
   "metadata": {
    "collapsed": false
   },
   "outputs": [
    {
     "data": {
      "text/plain": [
       "Lasso(alpha=0.01, copy_X=True, fit_intercept=True, max_iter=1000,\n",
       "   normalize=False, positive=False, precompute=False, random_state=2016,\n",
       "   selection='cyclic', tol=0.0001, warm_start=False)"
      ]
     },
     "execution_count": 77,
     "metadata": {},
     "output_type": "execute_result"
    }
   ],
   "source": [
    "clf = Lasso(alpha=alphas[2],random_state=seed)\n",
    "clf.fit(X_train,Y_train)"
   ]
  },
  {
   "cell_type": "code",
   "execution_count": 78,
   "metadata": {
    "collapsed": true
   },
   "outputs": [],
   "source": [
    "predictions = clf.predict(dataTestE)"
   ]
  },
  {
   "cell_type": "code",
   "execution_count": 79,
   "metadata": {
    "collapsed": false
   },
   "outputs": [],
   "source": [
    "predLoss = pd.Series(predictions,name='loss')"
   ]
  },
  {
   "cell_type": "code",
   "execution_count": 80,
   "metadata": {
    "collapsed": false
   },
   "outputs": [],
   "source": [
    "submission  = pd.concat([df_test['id'],predLoss],axis=1)"
   ]
  },
  {
   "cell_type": "code",
   "execution_count": 66,
   "metadata": {
    "collapsed": false
   },
   "outputs": [
    {
     "data": {
      "text/plain": [
       "pandas.core.frame.DataFrame"
      ]
     },
     "execution_count": 66,
     "metadata": {},
     "output_type": "execute_result"
    }
   ],
   "source": [
    "type(submission)"
   ]
  },
  {
   "cell_type": "code",
   "execution_count": 81,
   "metadata": {
    "collapsed": false
   },
   "outputs": [
    {
     "data": {
      "text/html": [
       "<div>\n",
       "<style scoped>\n",
       "    .dataframe tbody tr th:only-of-type {\n",
       "        vertical-align: middle;\n",
       "    }\n",
       "\n",
       "    .dataframe tbody tr th {\n",
       "        vertical-align: top;\n",
       "    }\n",
       "\n",
       "    .dataframe thead th {\n",
       "        text-align: right;\n",
       "    }\n",
       "</style>\n",
       "<table border=\"1\" class=\"dataframe\">\n",
       "  <thead>\n",
       "    <tr style=\"text-align: right;\">\n",
       "      <th></th>\n",
       "      <th>id</th>\n",
       "      <th>loss</th>\n",
       "    </tr>\n",
       "  </thead>\n",
       "  <tbody>\n",
       "    <tr>\n",
       "      <th>0</th>\n",
       "      <td>131822</td>\n",
       "      <td>7.111741</td>\n",
       "    </tr>\n",
       "    <tr>\n",
       "      <th>1</th>\n",
       "      <td>131823</td>\n",
       "      <td>7.454183</td>\n",
       "    </tr>\n",
       "    <tr>\n",
       "      <th>2</th>\n",
       "      <td>131824</td>\n",
       "      <td>8.127508</td>\n",
       "    </tr>\n",
       "    <tr>\n",
       "      <th>3</th>\n",
       "      <td>131825</td>\n",
       "      <td>7.296020</td>\n",
       "    </tr>\n",
       "    <tr>\n",
       "      <th>4</th>\n",
       "      <td>131826</td>\n",
       "      <td>7.955291</td>\n",
       "    </tr>\n",
       "    <tr>\n",
       "      <th>5</th>\n",
       "      <td>131827</td>\n",
       "      <td>8.050174</td>\n",
       "    </tr>\n",
       "    <tr>\n",
       "      <th>6</th>\n",
       "      <td>131828</td>\n",
       "      <td>7.140294</td>\n",
       "    </tr>\n",
       "    <tr>\n",
       "      <th>7</th>\n",
       "      <td>131829</td>\n",
       "      <td>7.794941</td>\n",
       "    </tr>\n",
       "    <tr>\n",
       "      <th>8</th>\n",
       "      <td>131830</td>\n",
       "      <td>7.814928</td>\n",
       "    </tr>\n",
       "    <tr>\n",
       "      <th>9</th>\n",
       "      <td>131831</td>\n",
       "      <td>7.991233</td>\n",
       "    </tr>\n",
       "    <tr>\n",
       "      <th>10</th>\n",
       "      <td>131832</td>\n",
       "      <td>7.631031</td>\n",
       "    </tr>\n",
       "    <tr>\n",
       "      <th>11</th>\n",
       "      <td>131833</td>\n",
       "      <td>7.489368</td>\n",
       "    </tr>\n",
       "    <tr>\n",
       "      <th>12</th>\n",
       "      <td>131834</td>\n",
       "      <td>7.224661</td>\n",
       "    </tr>\n",
       "    <tr>\n",
       "      <th>13</th>\n",
       "      <td>131835</td>\n",
       "      <td>7.411621</td>\n",
       "    </tr>\n",
       "    <tr>\n",
       "      <th>14</th>\n",
       "      <td>131836</td>\n",
       "      <td>7.337286</td>\n",
       "    </tr>\n",
       "    <tr>\n",
       "      <th>15</th>\n",
       "      <td>131837</td>\n",
       "      <td>8.325238</td>\n",
       "    </tr>\n",
       "    <tr>\n",
       "      <th>16</th>\n",
       "      <td>131838</td>\n",
       "      <td>7.493337</td>\n",
       "    </tr>\n",
       "    <tr>\n",
       "      <th>17</th>\n",
       "      <td>131839</td>\n",
       "      <td>7.247611</td>\n",
       "    </tr>\n",
       "    <tr>\n",
       "      <th>18</th>\n",
       "      <td>131840</td>\n",
       "      <td>7.851382</td>\n",
       "    </tr>\n",
       "    <tr>\n",
       "      <th>19</th>\n",
       "      <td>131841</td>\n",
       "      <td>7.498478</td>\n",
       "    </tr>\n",
       "    <tr>\n",
       "      <th>20</th>\n",
       "      <td>131842</td>\n",
       "      <td>9.091353</td>\n",
       "    </tr>\n",
       "    <tr>\n",
       "      <th>21</th>\n",
       "      <td>131843</td>\n",
       "      <td>7.789514</td>\n",
       "    </tr>\n",
       "    <tr>\n",
       "      <th>22</th>\n",
       "      <td>131844</td>\n",
       "      <td>7.978535</td>\n",
       "    </tr>\n",
       "    <tr>\n",
       "      <th>23</th>\n",
       "      <td>131845</td>\n",
       "      <td>8.104637</td>\n",
       "    </tr>\n",
       "    <tr>\n",
       "      <th>24</th>\n",
       "      <td>131846</td>\n",
       "      <td>8.634677</td>\n",
       "    </tr>\n",
       "    <tr>\n",
       "      <th>25</th>\n",
       "      <td>131847</td>\n",
       "      <td>7.180211</td>\n",
       "    </tr>\n",
       "    <tr>\n",
       "      <th>26</th>\n",
       "      <td>131848</td>\n",
       "      <td>8.567633</td>\n",
       "    </tr>\n",
       "    <tr>\n",
       "      <th>27</th>\n",
       "      <td>131849</td>\n",
       "      <td>7.773767</td>\n",
       "    </tr>\n",
       "    <tr>\n",
       "      <th>28</th>\n",
       "      <td>131850</td>\n",
       "      <td>7.123514</td>\n",
       "    </tr>\n",
       "    <tr>\n",
       "      <th>29</th>\n",
       "      <td>131851</td>\n",
       "      <td>7.158957</td>\n",
       "    </tr>\n",
       "    <tr>\n",
       "      <th>...</th>\n",
       "      <td>...</td>\n",
       "      <td>...</td>\n",
       "    </tr>\n",
       "    <tr>\n",
       "      <th>56466</th>\n",
       "      <td>188288</td>\n",
       "      <td>8.089237</td>\n",
       "    </tr>\n",
       "    <tr>\n",
       "      <th>56467</th>\n",
       "      <td>188289</td>\n",
       "      <td>8.448904</td>\n",
       "    </tr>\n",
       "    <tr>\n",
       "      <th>56468</th>\n",
       "      <td>188290</td>\n",
       "      <td>8.722450</td>\n",
       "    </tr>\n",
       "    <tr>\n",
       "      <th>56469</th>\n",
       "      <td>188291</td>\n",
       "      <td>7.241464</td>\n",
       "    </tr>\n",
       "    <tr>\n",
       "      <th>56470</th>\n",
       "      <td>188292</td>\n",
       "      <td>7.252349</td>\n",
       "    </tr>\n",
       "    <tr>\n",
       "      <th>56471</th>\n",
       "      <td>188293</td>\n",
       "      <td>7.586578</td>\n",
       "    </tr>\n",
       "    <tr>\n",
       "      <th>56472</th>\n",
       "      <td>188294</td>\n",
       "      <td>8.161220</td>\n",
       "    </tr>\n",
       "    <tr>\n",
       "      <th>56473</th>\n",
       "      <td>188295</td>\n",
       "      <td>7.363057</td>\n",
       "    </tr>\n",
       "    <tr>\n",
       "      <th>56474</th>\n",
       "      <td>188296</td>\n",
       "      <td>7.705217</td>\n",
       "    </tr>\n",
       "    <tr>\n",
       "      <th>56475</th>\n",
       "      <td>188297</td>\n",
       "      <td>7.349252</td>\n",
       "    </tr>\n",
       "    <tr>\n",
       "      <th>56476</th>\n",
       "      <td>188298</td>\n",
       "      <td>7.382994</td>\n",
       "    </tr>\n",
       "    <tr>\n",
       "      <th>56477</th>\n",
       "      <td>188299</td>\n",
       "      <td>7.543420</td>\n",
       "    </tr>\n",
       "    <tr>\n",
       "      <th>56478</th>\n",
       "      <td>188300</td>\n",
       "      <td>8.484406</td>\n",
       "    </tr>\n",
       "    <tr>\n",
       "      <th>56479</th>\n",
       "      <td>188301</td>\n",
       "      <td>7.595923</td>\n",
       "    </tr>\n",
       "    <tr>\n",
       "      <th>56480</th>\n",
       "      <td>188302</td>\n",
       "      <td>7.831664</td>\n",
       "    </tr>\n",
       "    <tr>\n",
       "      <th>56481</th>\n",
       "      <td>188303</td>\n",
       "      <td>8.301865</td>\n",
       "    </tr>\n",
       "    <tr>\n",
       "      <th>56482</th>\n",
       "      <td>188304</td>\n",
       "      <td>7.362019</td>\n",
       "    </tr>\n",
       "    <tr>\n",
       "      <th>56483</th>\n",
       "      <td>188305</td>\n",
       "      <td>7.550700</td>\n",
       "    </tr>\n",
       "    <tr>\n",
       "      <th>56484</th>\n",
       "      <td>188306</td>\n",
       "      <td>7.877829</td>\n",
       "    </tr>\n",
       "    <tr>\n",
       "      <th>56485</th>\n",
       "      <td>188307</td>\n",
       "      <td>7.479009</td>\n",
       "    </tr>\n",
       "    <tr>\n",
       "      <th>56486</th>\n",
       "      <td>188308</td>\n",
       "      <td>7.322749</td>\n",
       "    </tr>\n",
       "    <tr>\n",
       "      <th>56487</th>\n",
       "      <td>188309</td>\n",
       "      <td>8.463700</td>\n",
       "    </tr>\n",
       "    <tr>\n",
       "      <th>56488</th>\n",
       "      <td>188310</td>\n",
       "      <td>7.242009</td>\n",
       "    </tr>\n",
       "    <tr>\n",
       "      <th>56489</th>\n",
       "      <td>188311</td>\n",
       "      <td>7.729503</td>\n",
       "    </tr>\n",
       "    <tr>\n",
       "      <th>56490</th>\n",
       "      <td>188312</td>\n",
       "      <td>7.140449</td>\n",
       "    </tr>\n",
       "    <tr>\n",
       "      <th>56491</th>\n",
       "      <td>188313</td>\n",
       "      <td>7.446492</td>\n",
       "    </tr>\n",
       "    <tr>\n",
       "      <th>56492</th>\n",
       "      <td>188314</td>\n",
       "      <td>7.505661</td>\n",
       "    </tr>\n",
       "    <tr>\n",
       "      <th>56493</th>\n",
       "      <td>188315</td>\n",
       "      <td>7.517271</td>\n",
       "    </tr>\n",
       "    <tr>\n",
       "      <th>56494</th>\n",
       "      <td>188316</td>\n",
       "      <td>8.141114</td>\n",
       "    </tr>\n",
       "    <tr>\n",
       "      <th>56495</th>\n",
       "      <td>188317</td>\n",
       "      <td>7.886078</td>\n",
       "    </tr>\n",
       "  </tbody>\n",
       "</table>\n",
       "<p>56496 rows × 2 columns</p>\n",
       "</div>"
      ],
      "text/plain": [
       "           id      loss\n",
       "0      131822  7.111741\n",
       "1      131823  7.454183\n",
       "2      131824  8.127508\n",
       "3      131825  7.296020\n",
       "4      131826  7.955291\n",
       "5      131827  8.050174\n",
       "6      131828  7.140294\n",
       "7      131829  7.794941\n",
       "8      131830  7.814928\n",
       "9      131831  7.991233\n",
       "10     131832  7.631031\n",
       "11     131833  7.489368\n",
       "12     131834  7.224661\n",
       "13     131835  7.411621\n",
       "14     131836  7.337286\n",
       "15     131837  8.325238\n",
       "16     131838  7.493337\n",
       "17     131839  7.247611\n",
       "18     131840  7.851382\n",
       "19     131841  7.498478\n",
       "20     131842  9.091353\n",
       "21     131843  7.789514\n",
       "22     131844  7.978535\n",
       "23     131845  8.104637\n",
       "24     131846  8.634677\n",
       "25     131847  7.180211\n",
       "26     131848  8.567633\n",
       "27     131849  7.773767\n",
       "28     131850  7.123514\n",
       "29     131851  7.158957\n",
       "...       ...       ...\n",
       "56466  188288  8.089237\n",
       "56467  188289  8.448904\n",
       "56468  188290  8.722450\n",
       "56469  188291  7.241464\n",
       "56470  188292  7.252349\n",
       "56471  188293  7.586578\n",
       "56472  188294  8.161220\n",
       "56473  188295  7.363057\n",
       "56474  188296  7.705217\n",
       "56475  188297  7.349252\n",
       "56476  188298  7.382994\n",
       "56477  188299  7.543420\n",
       "56478  188300  8.484406\n",
       "56479  188301  7.595923\n",
       "56480  188302  7.831664\n",
       "56481  188303  8.301865\n",
       "56482  188304  7.362019\n",
       "56483  188305  7.550700\n",
       "56484  188306  7.877829\n",
       "56485  188307  7.479009\n",
       "56486  188308  7.322749\n",
       "56487  188309  8.463700\n",
       "56488  188310  7.242009\n",
       "56489  188311  7.729503\n",
       "56490  188312  7.140449\n",
       "56491  188313  7.446492\n",
       "56492  188314  7.505661\n",
       "56493  188315  7.517271\n",
       "56494  188316  8.141114\n",
       "56495  188317  7.886078\n",
       "\n",
       "[56496 rows x 2 columns]"
      ]
     },
     "execution_count": 81,
     "metadata": {},
     "output_type": "execute_result"
    }
   ],
   "source": [
    "submission"
   ]
  },
  {
   "cell_type": "code",
   "execution_count": 82,
   "metadata": {
    "collapsed": true
   },
   "outputs": [],
   "source": [
    "submission.to_csv('submission.csv',index=False)"
   ]
  },
  {
   "cell_type": "code",
   "execution_count": null,
   "metadata": {
    "collapsed": false
   },
   "outputs": [],
   "source": [
    "from sklearn.tree import DecisionTreeRegressor\n",
    "depths = [5]\n",
    "cart_results =[]\n",
    "for i,d in enumerate(depths):\n",
    "    start = time.time()\n",
    "    clf = DecisionTreeRegressor(criterion='mae',max_depth=d,random_state=seed)\n",
    "    clf.fit(X_train,Y_train)\n",
    "    end = time.time()\n",
    "    elapsed = end-start\n",
    "    cart_results.append(mean_absolute_error(np.expm1(Y_val), np.expm1(clf.predict(X_val))))\n",
    "    print \"Performance:\"+str(cart_results[i])\n",
    "    print \"Time:\"+str(elapsed)"
   ]
  },
  {
   "cell_type": "code",
   "execution_count": 89,
   "metadata": {
    "collapsed": false
   },
   "outputs": [
    {
     "data": {
      "text/plain": [
       "DecisionTreeRegressor(criterion='mse', max_depth=1, max_features=None,\n",
       "           max_leaf_nodes=None, min_impurity_decrease=0.0,\n",
       "           min_impurity_split=None, min_samples_leaf=1,\n",
       "           min_samples_split=2, min_weight_fraction_leaf=0.0,\n",
       "           presort=False, random_state=2016, splitter='best')"
      ]
     },
     "execution_count": 89,
     "metadata": {},
     "output_type": "execute_result"
    }
   ],
   "source": [
    "clf"
   ]
  },
  {
   "cell_type": "code",
   "execution_count": 85,
   "metadata": {
    "collapsed": true
   },
   "outputs": [],
   "source": [
    "predictions = clf.predict(dataTestE)"
   ]
  },
  {
   "cell_type": "code",
   "execution_count": 86,
   "metadata": {
    "collapsed": true
   },
   "outputs": [],
   "source": [
    "predLoss = pd.Series(predictions,name='loss')\n",
    "submission  = pd.concat([df_test['id'],predLoss],axis=1)"
   ]
  },
  {
   "cell_type": "code",
   "execution_count": 87,
   "metadata": {
    "collapsed": false
   },
   "outputs": [
    {
     "data": {
      "text/html": [
       "<div>\n",
       "<style scoped>\n",
       "    .dataframe tbody tr th:only-of-type {\n",
       "        vertical-align: middle;\n",
       "    }\n",
       "\n",
       "    .dataframe tbody tr th {\n",
       "        vertical-align: top;\n",
       "    }\n",
       "\n",
       "    .dataframe thead th {\n",
       "        text-align: right;\n",
       "    }\n",
       "</style>\n",
       "<table border=\"1\" class=\"dataframe\">\n",
       "  <thead>\n",
       "    <tr style=\"text-align: right;\">\n",
       "      <th></th>\n",
       "      <th>id</th>\n",
       "      <th>loss</th>\n",
       "    </tr>\n",
       "  </thead>\n",
       "  <tbody>\n",
       "    <tr>\n",
       "      <th>0</th>\n",
       "      <td>131822</td>\n",
       "      <td>7.450818</td>\n",
       "    </tr>\n",
       "    <tr>\n",
       "      <th>1</th>\n",
       "      <td>131823</td>\n",
       "      <td>7.450818</td>\n",
       "    </tr>\n",
       "    <tr>\n",
       "      <th>2</th>\n",
       "      <td>131824</td>\n",
       "      <td>8.328981</td>\n",
       "    </tr>\n",
       "    <tr>\n",
       "      <th>3</th>\n",
       "      <td>131825</td>\n",
       "      <td>7.450818</td>\n",
       "    </tr>\n",
       "    <tr>\n",
       "      <th>4</th>\n",
       "      <td>131826</td>\n",
       "      <td>8.328981</td>\n",
       "    </tr>\n",
       "    <tr>\n",
       "      <th>5</th>\n",
       "      <td>131827</td>\n",
       "      <td>8.328981</td>\n",
       "    </tr>\n",
       "    <tr>\n",
       "      <th>6</th>\n",
       "      <td>131828</td>\n",
       "      <td>7.450818</td>\n",
       "    </tr>\n",
       "    <tr>\n",
       "      <th>7</th>\n",
       "      <td>131829</td>\n",
       "      <td>8.328981</td>\n",
       "    </tr>\n",
       "    <tr>\n",
       "      <th>8</th>\n",
       "      <td>131830</td>\n",
       "      <td>7.450818</td>\n",
       "    </tr>\n",
       "    <tr>\n",
       "      <th>9</th>\n",
       "      <td>131831</td>\n",
       "      <td>8.328981</td>\n",
       "    </tr>\n",
       "    <tr>\n",
       "      <th>10</th>\n",
       "      <td>131832</td>\n",
       "      <td>7.450818</td>\n",
       "    </tr>\n",
       "    <tr>\n",
       "      <th>11</th>\n",
       "      <td>131833</td>\n",
       "      <td>7.450818</td>\n",
       "    </tr>\n",
       "    <tr>\n",
       "      <th>12</th>\n",
       "      <td>131834</td>\n",
       "      <td>7.450818</td>\n",
       "    </tr>\n",
       "    <tr>\n",
       "      <th>13</th>\n",
       "      <td>131835</td>\n",
       "      <td>7.450818</td>\n",
       "    </tr>\n",
       "    <tr>\n",
       "      <th>14</th>\n",
       "      <td>131836</td>\n",
       "      <td>7.450818</td>\n",
       "    </tr>\n",
       "    <tr>\n",
       "      <th>15</th>\n",
       "      <td>131837</td>\n",
       "      <td>8.328981</td>\n",
       "    </tr>\n",
       "    <tr>\n",
       "      <th>16</th>\n",
       "      <td>131838</td>\n",
       "      <td>7.450818</td>\n",
       "    </tr>\n",
       "    <tr>\n",
       "      <th>17</th>\n",
       "      <td>131839</td>\n",
       "      <td>7.450818</td>\n",
       "    </tr>\n",
       "    <tr>\n",
       "      <th>18</th>\n",
       "      <td>131840</td>\n",
       "      <td>7.450818</td>\n",
       "    </tr>\n",
       "    <tr>\n",
       "      <th>19</th>\n",
       "      <td>131841</td>\n",
       "      <td>7.450818</td>\n",
       "    </tr>\n",
       "    <tr>\n",
       "      <th>20</th>\n",
       "      <td>131842</td>\n",
       "      <td>8.328981</td>\n",
       "    </tr>\n",
       "    <tr>\n",
       "      <th>21</th>\n",
       "      <td>131843</td>\n",
       "      <td>8.328981</td>\n",
       "    </tr>\n",
       "    <tr>\n",
       "      <th>22</th>\n",
       "      <td>131844</td>\n",
       "      <td>7.450818</td>\n",
       "    </tr>\n",
       "    <tr>\n",
       "      <th>23</th>\n",
       "      <td>131845</td>\n",
       "      <td>8.328981</td>\n",
       "    </tr>\n",
       "    <tr>\n",
       "      <th>24</th>\n",
       "      <td>131846</td>\n",
       "      <td>8.328981</td>\n",
       "    </tr>\n",
       "    <tr>\n",
       "      <th>25</th>\n",
       "      <td>131847</td>\n",
       "      <td>7.450818</td>\n",
       "    </tr>\n",
       "    <tr>\n",
       "      <th>26</th>\n",
       "      <td>131848</td>\n",
       "      <td>8.328981</td>\n",
       "    </tr>\n",
       "    <tr>\n",
       "      <th>27</th>\n",
       "      <td>131849</td>\n",
       "      <td>8.328981</td>\n",
       "    </tr>\n",
       "    <tr>\n",
       "      <th>28</th>\n",
       "      <td>131850</td>\n",
       "      <td>7.450818</td>\n",
       "    </tr>\n",
       "    <tr>\n",
       "      <th>29</th>\n",
       "      <td>131851</td>\n",
       "      <td>7.450818</td>\n",
       "    </tr>\n",
       "    <tr>\n",
       "      <th>...</th>\n",
       "      <td>...</td>\n",
       "      <td>...</td>\n",
       "    </tr>\n",
       "    <tr>\n",
       "      <th>56466</th>\n",
       "      <td>188288</td>\n",
       "      <td>8.328981</td>\n",
       "    </tr>\n",
       "    <tr>\n",
       "      <th>56467</th>\n",
       "      <td>188289</td>\n",
       "      <td>8.328981</td>\n",
       "    </tr>\n",
       "    <tr>\n",
       "      <th>56468</th>\n",
       "      <td>188290</td>\n",
       "      <td>8.328981</td>\n",
       "    </tr>\n",
       "    <tr>\n",
       "      <th>56469</th>\n",
       "      <td>188291</td>\n",
       "      <td>7.450818</td>\n",
       "    </tr>\n",
       "    <tr>\n",
       "      <th>56470</th>\n",
       "      <td>188292</td>\n",
       "      <td>7.450818</td>\n",
       "    </tr>\n",
       "    <tr>\n",
       "      <th>56471</th>\n",
       "      <td>188293</td>\n",
       "      <td>7.450818</td>\n",
       "    </tr>\n",
       "    <tr>\n",
       "      <th>56472</th>\n",
       "      <td>188294</td>\n",
       "      <td>8.328981</td>\n",
       "    </tr>\n",
       "    <tr>\n",
       "      <th>56473</th>\n",
       "      <td>188295</td>\n",
       "      <td>7.450818</td>\n",
       "    </tr>\n",
       "    <tr>\n",
       "      <th>56474</th>\n",
       "      <td>188296</td>\n",
       "      <td>7.450818</td>\n",
       "    </tr>\n",
       "    <tr>\n",
       "      <th>56475</th>\n",
       "      <td>188297</td>\n",
       "      <td>7.450818</td>\n",
       "    </tr>\n",
       "    <tr>\n",
       "      <th>56476</th>\n",
       "      <td>188298</td>\n",
       "      <td>7.450818</td>\n",
       "    </tr>\n",
       "    <tr>\n",
       "      <th>56477</th>\n",
       "      <td>188299</td>\n",
       "      <td>7.450818</td>\n",
       "    </tr>\n",
       "    <tr>\n",
       "      <th>56478</th>\n",
       "      <td>188300</td>\n",
       "      <td>8.328981</td>\n",
       "    </tr>\n",
       "    <tr>\n",
       "      <th>56479</th>\n",
       "      <td>188301</td>\n",
       "      <td>7.450818</td>\n",
       "    </tr>\n",
       "    <tr>\n",
       "      <th>56480</th>\n",
       "      <td>188302</td>\n",
       "      <td>7.450818</td>\n",
       "    </tr>\n",
       "    <tr>\n",
       "      <th>56481</th>\n",
       "      <td>188303</td>\n",
       "      <td>8.328981</td>\n",
       "    </tr>\n",
       "    <tr>\n",
       "      <th>56482</th>\n",
       "      <td>188304</td>\n",
       "      <td>7.450818</td>\n",
       "    </tr>\n",
       "    <tr>\n",
       "      <th>56483</th>\n",
       "      <td>188305</td>\n",
       "      <td>7.450818</td>\n",
       "    </tr>\n",
       "    <tr>\n",
       "      <th>56484</th>\n",
       "      <td>188306</td>\n",
       "      <td>7.450818</td>\n",
       "    </tr>\n",
       "    <tr>\n",
       "      <th>56485</th>\n",
       "      <td>188307</td>\n",
       "      <td>7.450818</td>\n",
       "    </tr>\n",
       "    <tr>\n",
       "      <th>56486</th>\n",
       "      <td>188308</td>\n",
       "      <td>7.450818</td>\n",
       "    </tr>\n",
       "    <tr>\n",
       "      <th>56487</th>\n",
       "      <td>188309</td>\n",
       "      <td>8.328981</td>\n",
       "    </tr>\n",
       "    <tr>\n",
       "      <th>56488</th>\n",
       "      <td>188310</td>\n",
       "      <td>7.450818</td>\n",
       "    </tr>\n",
       "    <tr>\n",
       "      <th>56489</th>\n",
       "      <td>188311</td>\n",
       "      <td>7.450818</td>\n",
       "    </tr>\n",
       "    <tr>\n",
       "      <th>56490</th>\n",
       "      <td>188312</td>\n",
       "      <td>7.450818</td>\n",
       "    </tr>\n",
       "    <tr>\n",
       "      <th>56491</th>\n",
       "      <td>188313</td>\n",
       "      <td>7.450818</td>\n",
       "    </tr>\n",
       "    <tr>\n",
       "      <th>56492</th>\n",
       "      <td>188314</td>\n",
       "      <td>7.450818</td>\n",
       "    </tr>\n",
       "    <tr>\n",
       "      <th>56493</th>\n",
       "      <td>188315</td>\n",
       "      <td>7.450818</td>\n",
       "    </tr>\n",
       "    <tr>\n",
       "      <th>56494</th>\n",
       "      <td>188316</td>\n",
       "      <td>8.328981</td>\n",
       "    </tr>\n",
       "    <tr>\n",
       "      <th>56495</th>\n",
       "      <td>188317</td>\n",
       "      <td>7.450818</td>\n",
       "    </tr>\n",
       "  </tbody>\n",
       "</table>\n",
       "<p>56496 rows × 2 columns</p>\n",
       "</div>"
      ],
      "text/plain": [
       "           id      loss\n",
       "0      131822  7.450818\n",
       "1      131823  7.450818\n",
       "2      131824  8.328981\n",
       "3      131825  7.450818\n",
       "4      131826  8.328981\n",
       "5      131827  8.328981\n",
       "6      131828  7.450818\n",
       "7      131829  8.328981\n",
       "8      131830  7.450818\n",
       "9      131831  8.328981\n",
       "10     131832  7.450818\n",
       "11     131833  7.450818\n",
       "12     131834  7.450818\n",
       "13     131835  7.450818\n",
       "14     131836  7.450818\n",
       "15     131837  8.328981\n",
       "16     131838  7.450818\n",
       "17     131839  7.450818\n",
       "18     131840  7.450818\n",
       "19     131841  7.450818\n",
       "20     131842  8.328981\n",
       "21     131843  8.328981\n",
       "22     131844  7.450818\n",
       "23     131845  8.328981\n",
       "24     131846  8.328981\n",
       "25     131847  7.450818\n",
       "26     131848  8.328981\n",
       "27     131849  8.328981\n",
       "28     131850  7.450818\n",
       "29     131851  7.450818\n",
       "...       ...       ...\n",
       "56466  188288  8.328981\n",
       "56467  188289  8.328981\n",
       "56468  188290  8.328981\n",
       "56469  188291  7.450818\n",
       "56470  188292  7.450818\n",
       "56471  188293  7.450818\n",
       "56472  188294  8.328981\n",
       "56473  188295  7.450818\n",
       "56474  188296  7.450818\n",
       "56475  188297  7.450818\n",
       "56476  188298  7.450818\n",
       "56477  188299  7.450818\n",
       "56478  188300  8.328981\n",
       "56479  188301  7.450818\n",
       "56480  188302  7.450818\n",
       "56481  188303  8.328981\n",
       "56482  188304  7.450818\n",
       "56483  188305  7.450818\n",
       "56484  188306  7.450818\n",
       "56485  188307  7.450818\n",
       "56486  188308  7.450818\n",
       "56487  188309  8.328981\n",
       "56488  188310  7.450818\n",
       "56489  188311  7.450818\n",
       "56490  188312  7.450818\n",
       "56491  188313  7.450818\n",
       "56492  188314  7.450818\n",
       "56493  188315  7.450818\n",
       "56494  188316  8.328981\n",
       "56495  188317  7.450818\n",
       "\n",
       "[56496 rows x 2 columns]"
      ]
     },
     "execution_count": 87,
     "metadata": {},
     "output_type": "execute_result"
    }
   ],
   "source": [
    "submission"
   ]
  },
  {
   "cell_type": "code",
   "execution_count": 88,
   "metadata": {
    "collapsed": true
   },
   "outputs": [],
   "source": [
    "submission.to_csv('submission.csv',index=False)"
   ]
  },
  {
   "cell_type": "code",
   "execution_count": null,
   "metadata": {
    "collapsed": true
   },
   "outputs": [],
   "source": []
  }
 ],
 "metadata": {
  "kernelspec": {
   "display_name": "Python 2",
   "language": "python",
   "name": "python2"
  },
  "language_info": {
   "codemirror_mode": {
    "name": "ipython",
    "version": 2
   },
   "file_extension": ".py",
   "mimetype": "text/x-python",
   "name": "python",
   "nbconvert_exporter": "python",
   "pygments_lexer": "ipython2",
   "version": "2.7.13"
  }
 },
 "nbformat": 4,
 "nbformat_minor": 2
}
