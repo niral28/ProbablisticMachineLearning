{
 "cells": [
  {
   "cell_type": "markdown",
   "metadata": {},
   "source": [
    "# ML HW 2\n",
    "## By Niral Shah\n",
    "## 02/07/18"
   ]
  },
  {
   "cell_type": "code",
   "execution_count": 214,
   "metadata": {
    "collapsed": true
   },
   "outputs": [],
   "source": [
    "import numpy as np\n",
    "import matplotlib.pyplot as plt\n",
    "import pandas as pd\n",
    "import math"
   ]
  },
  {
   "cell_type": "markdown",
   "metadata": {},
   "source": [
    "## Problem 1"
   ]
  },
  {
   "cell_type": "code",
   "execution_count": 686,
   "metadata": {
    "collapsed": false
   },
   "outputs": [],
   "source": [
    "def predict(data,labels, w):    \n",
    "    count = 0\n",
    "    tp = 0\n",
    "    fp = 0\n",
    "    tn = 0\n",
    "    fn = 0\n",
    "    \n",
    "    N = len(labels)\n",
    "    for i in range(0,N):\n",
    "        x = data[i]\n",
    "        y = labels[i]\n",
    "        if(y*np.matmul(np.transpose(w), x)<=0):\n",
    "            if(y==1):\n",
    "                fn+=1;\n",
    "            else:\n",
    "                fp+=1;\n",
    "            count+=1;\n",
    "        else:\n",
    "            if(y==1):\n",
    "                tp+=1;\n",
    "            else:\n",
    "                tn+=1;\n",
    "    return (count,tp,fp,tn,fn)\n",
    "\n",
    "def perceptron(data,labels,w = np.zeros((2)),I = 50):\n",
    "    N = len(labels)\n",
    "    acc = np.zeros((1))\n",
    "    epochs = I\n",
    "    updates =0\n",
    "    for e in range(1,I+1):\n",
    "        metrics = predict(data,labels,w)[0]\n",
    "        acc = np.resize(acc,(e))\n",
    "        acc[e-1]=(1-(metrics)/float(N))\n",
    "        for i in range(0,N):\n",
    "            y = labels[i]\n",
    "            x = data[i]\n",
    "            if(y*np.matmul(np.transpose(w), x)<=0):\n",
    "                w = w + y*x\n",
    "                updates+=1\n",
    "            else:\n",
    "                if(epochs == I and acc[e-1] >=0.999):\n",
    "                    print \"Converges at epoch: \"+ str(e)\n",
    "                    return (w,acc,e,updates)   \n",
    "    return (w,acc,e,updates)            "
   ]
  },
  {
   "cell_type": "code",
   "execution_count": 687,
   "metadata": {
    "collapsed": false
   },
   "outputs": [],
   "source": [
    "# Setup data\n",
    "x = np.zeros(shape=(7,2))  # data\n",
    "y = np.zeros((7))  # label\n",
    "w = np.zeros((2)) #weight vector (no bias)\n",
    "x[0] = [0.75,0.10]; y[0] = -1;\n",
    "x[1] = [0.85,0.80]; y[1] = -1;\n",
    "x[3] = [0.15,0.10]; y[3] = -1;\n",
    "x[6] = [0.85,0.25]; y[6] = -1;\n",
    "\n",
    "\n",
    "x[2] = [0.85,0.95]; y[2] = 1;\n",
    "x[4] = [0.05,0.25]; y[4] = 1;\n",
    "x[5] = [0.05,0.50]; y[5] = 1;"
   ]
  },
  {
   "cell_type": "markdown",
   "metadata": {},
   "source": [
    "### Problem 1a)\n",
    "How many iterations does Perceptron Algorithm take to converge? What is the error? "
   ]
  },
  {
   "cell_type": "code",
   "execution_count": 688,
   "metadata": {
    "collapsed": false
   },
   "outputs": [
    {
     "name": "stdout",
     "output_type": "stream",
     "text": [
      "Converges at epoch: 3\n",
      "Number of Iterations to converge:7\n"
     ]
    }
   ],
   "source": [
    "retvals = perceptron(x,y,w)\n",
    "print \"Number of Iterations to converge:\" + str(retvals[3])"
   ]
  },
  {
   "cell_type": "code",
   "execution_count": 7,
   "metadata": {
    "collapsed": false
   },
   "outputs": [
    {
     "data": {
      "image/png": "[encoded data removed]",
      "text/plain": [
       "<matplotlib.figure.Figure at 0x114376bd0>"
      ]
     },
     "metadata": {},
     "output_type": "display_data"
    },
    {
     "name": "stdout",
     "output_type": "stream",
     "text": [
      "weight vector:[-1.05  1.1 ]\n",
      "Error:0.0\n"
     ]
    }
   ],
   "source": [
    "# Plot the Perceptron Convergence Graph:\n",
    "I = retvals[2]\n",
    "acc_val = retvals[1]\n",
    "ep = np.arange(0,I)\n",
    "fig, ax = plt.subplots()\n",
    "ax.plot(ep,acc_val,'r',label='Training')\n",
    "legend = ax.legend()\n",
    "ax.set_yticks(np.linspace(0,1,0.05),minor=True)\n",
    "plt.ylabel('Accuracy')\n",
    "plt.xlabel('Number of Epochs (starting at 0)')\n",
    "plt.title('Perceptron Accuracy w/'+str(I)+' epochs')\n",
    "plt.show()\n",
    "print \"weight vector:\" + str(retvals[0])\n",
    "print \"Error:\" + str(1-acc_val[-1])"
   ]
  },
  {
   "cell_type": "markdown",
   "metadata": {},
   "source": [
    "### Problem 1a  (cont'd) \n",
    "Plot observed data, decision boundary, other decision boundaries that have the same error. "
   ]
  },
  {
   "cell_type": "code",
   "execution_count": 689,
   "metadata": {
    "collapsed": false
   },
   "outputs": [],
   "source": [
    "# This section builds functions for plotting: \n",
    "\n",
    "w = retvals[0] # the hyper plane from perceptron\n",
    "m1 = w[0] #x1 value from weight vector\n",
    "m2 = w[1] #x2 value from weight vector \n",
    "\n",
    "f = lambda a : (-1*m1*a)/float(m2) #combine weight vector for function of hyperplane\n",
    "f2 = lambda a : (0.95/0.85)*a # the upper bound of the hyperplane is at the point (0.85,0.95) (y=1)\n",
    "\n",
    "sqrt = np.vectorize(math.sqrt) # The 3 point line\n",
    "f3 = lambda a: sqrt(a) "
   ]
  },
  {
   "cell_type": "code",
   "execution_count": 690,
   "metadata": {
    "collapsed": false,
    "scrolled": true
   },
   "outputs": [
    {
     "data": {
      "image/png": "[encoded data removed]",
      "text/plain": [
       "<matplotlib.figure.Figure at 0x11a861c10>"
      ]
     },
     "metadata": {},
     "output_type": "display_data"
    }
   ],
   "source": [
    "# Plot the Linear Classifier Hyperplane, upperbound and points;\n",
    "fig, ax = plt.subplots()\n",
    "x0 = x[y[:]==-1]\n",
    "y0 = y[y[:]==-1]\n",
    "\n",
    "x1 = x[y[:]==1]\n",
    "y1 = y[y[:]==1]\n",
    "\n",
    "xval = np.linspace(0,1,20)\n",
    "\n",
    "ax.plot(x0[:,0], x0[:,1], 'ro',label='2 points')\n",
    "ax.plot(x1[:,0],x1[:,1],'bo',label='3 points')\n",
    "ax.plot(xval,f3(xval),'k', label='Actual 3 pt line')\n",
    "ax.plot(xval,f(xval),'g-',label='original hyperplane')\n",
    "ax.plot(xval,f2(xval),'g--',label='upper bound hyperplane')\n",
    "ax.fill_between(xval, f(xval), f2(xval), color='blue', alpha='0.1')\n",
    "\n",
    "box = ax.get_position()\n",
    "ax.set_position([box.x0, box.y0, box.width * 0.8, box.height])\n",
    "\n",
    "# Put a legend to the right of the current axis\n",
    "ax.legend(loc='center left', bbox_to_anchor=(1, 0.5))\n",
    "\n",
    "\n",
    "plt.xlabel('X1')\n",
    "plt.ylabel('X2')\n",
    "plt.title('Perceptron Classifier: Three Point vs Paint')\n",
    "plt.show()"
   ]
  },
  {
   "cell_type": "code",
   "execution_count": 10,
   "metadata": {
    "collapsed": false
   },
   "outputs": [
    {
     "data": {
      "text/plain": [
       "0.9545454545454547"
      ]
     },
     "execution_count": 10,
     "metadata": {},
     "output_type": "execute_result"
    }
   ],
   "source": [
    "(-1*m1)/float(m2) "
   ]
  },
  {
   "cell_type": "code",
   "execution_count": 11,
   "metadata": {
    "collapsed": false
   },
   "outputs": [
    {
     "data": {
      "text/plain": [
       "1.1176470588235294"
      ]
     },
     "execution_count": 11,
     "metadata": {},
     "output_type": "execute_result"
    }
   ],
   "source": [
    "(0.95)/float(0.85) "
   ]
  },
  {
   "cell_type": "markdown",
   "metadata": {},
   "source": [
    "The blue shaded area between the solid green line and the dashed green line represents all the possible decisions boundaries that could seperate the points with the same error. The slope of the hyperplane that seperates this data perfectly and goes through the origin ranges from 0.9545 to 1.1176."
   ]
  },
  {
   "cell_type": "markdown",
   "metadata": {},
   "source": [
    "### Problem 1b:\n"
   ]
  },
  {
   "cell_type": "code",
   "execution_count": 691,
   "metadata": {
    "collapsed": false
   },
   "outputs": [],
   "source": [
    "# Calculate Impurity:\n",
    "def impurity(data,labels):\n",
    "    if len(labels)==0:\n",
    "        return 0\n",
    "    else:\n",
    "        pos = (len(data[labels[:]==1]))/float(len(labels))\n",
    "        I = 2*pos*(1-pos)\n",
    "        return I"
   ]
  },
  {
   "cell_type": "code",
   "execution_count": 692,
   "metadata": {
    "collapsed": true
   },
   "outputs": [],
   "source": [
    "# Calculate Change in Gini\n",
    "def calc_gini(data,labels):\n",
    "    N= float(data.shape[0])\n",
    "    if(N!=0):\n",
    "        p = len(labels[labels[:]==1])\n",
    "        p= p/N\n",
    "        return p*(1-p)\n",
    "    else:\n",
    "        return -1\n",
    "\n",
    "#Total Gini Reduction\n",
    "def changeInGini(I,data,labels,decide):  \n",
    "    N= float(data.shape[0])\n",
    "    \n",
    "    pos_data = data[decide(data,1)]\n",
    "    neg_data = data[decide(data,-1)]\n",
    "    \n",
    "    pos_labels = labels[decide(data,1)]\n",
    "    neg_labels= labels[decide(data,-1)]\n",
    "    \n",
    "    pos = (pos_data.shape[0])/N\n",
    "    neg = (neg_data.shape[0])/N\n",
    "    \n",
    "    pg = calc_gini(pos_data,pos_labels)\n",
    "    pg = pos*pg\n",
    "    \n",
    "    ng = calc_gini(neg_data,neg_labels)\n",
    "    ng = neg*ng\n",
    "    \n",
    "    deltaG = I - (pg + ng)\n",
    " \n",
    "    return deltaG"
   ]
  },
  {
   "cell_type": "code",
   "execution_count": 14,
   "metadata": {
    "collapsed": false
   },
   "outputs": [],
   "source": [
    "def determine_best_split(x,y,decideX1,decideX2):\n",
    "    I = impurity(x,y)\n",
    "    if I !=0:\n",
    "        max_val = -1\n",
    "        split_val = -1\n",
    "        best_index = -1\n",
    "\n",
    "        for i in range(0,x.shape[1]):  \n",
    "            if i==0:\n",
    "                split_val = changeInGini(I,x[:,i],y,decideX1)\n",
    "                if(split_val>max_val):\n",
    "                    max_val = split_val\n",
    "                    best_index =i\n",
    "            else:\n",
    "                split_val = changeInGini(I,x[:,i],y,decideX2)\n",
    "                if(split_val>=max_val):\n",
    "                    max_val = split_val\n",
    "                    best_index =i\n",
    "        return (best_index,split_val)\n",
    "    else:\n",
    "        return (-1,-1) #indicating its a leaf"
   ]
  },
  {
   "cell_type": "code",
   "execution_count": 693,
   "metadata": {
    "collapsed": true
   },
   "outputs": [],
   "source": [
    "# Helper method to partition the data set (as a tree split would)\n",
    "def partition(data,f_idx,labels,decide):\n",
    "    pos_data = data[decide(data[:,f_idx],1)]\n",
    "    neg_data = data[decide(data[:,f_idx],-1)]\n",
    "    \n",
    "    pos_labels = labels[decide(data[:,f_idx],1)]\n",
    "    neg_labels= labels[decide(data[:,f_idx],-1)]\n",
    "    \n",
    "    return (pos_data,pos_labels, neg_data,neg_labels)"
   ]
  },
  {
   "cell_type": "code",
   "execution_count": 694,
   "metadata": {
    "collapsed": false
   },
   "outputs": [],
   "source": [
    "# Threshold Functions for X1 and X2\n",
    "qX1 = lambda d,v: d[:]<0.1 if v==1 else d[:]>=0.1\n",
    "qX2 = lambda d,v: d[:]>=0.9 if v==1 else d[:]<0.9\n",
    "questions = [qX1,qX2]"
   ]
  },
  {
   "cell_type": "markdown",
   "metadata": {},
   "source": [
    "### Problem 1b: \n",
    "\n",
    "The following sections shows how a decision tree was grown manually (without third party libraries) using gini reduction:\n",
    "\n",
    "### I.  Split 1 (Root): \n",
    "First decide which criteria to split on X1<0.1 or X2>=0.9 (These classifiers were determined based on approximations from the data)"
   ]
  },
  {
   "cell_type": "code",
   "execution_count": 17,
   "metadata": {
    "collapsed": false
   },
   "outputs": [],
   "source": [
    "split_dec = determine_best_split(x,y,questions[0],questions[1]) # (criteria to split on, gini_gain)"
   ]
  },
  {
   "cell_type": "code",
   "execution_count": 18,
   "metadata": {
    "collapsed": true
   },
   "outputs": [],
   "source": [
    "retvals = partition(x,split_dec[0],y,questions[split_dec[0]]) "
   ]
  },
  {
   "cell_type": "code",
   "execution_count": 19,
   "metadata": {
    "collapsed": false
   },
   "outputs": [
    {
     "name": "stdout",
     "output_type": "stream",
     "text": [
      "Root: (split on X1<0.1)\n",
      "True Branch (count:2), impurity:0.0\n",
      "False Branch (count:5), impurity:0.32\n"
     ]
    }
   ],
   "source": [
    "true_branch = (retvals[0],retvals[1])\n",
    "false_branch = (retvals[2],retvals[3]) \n",
    "\n",
    "\n",
    "print \"Root: (split on X1<0.1)\"\n",
    "print \"True Branch (count:\"+str(len(true_branch[1]))+\"), impurity:\"+ str(impurity(true_branch[0],true_branch[1]))\n",
    "print \"False Branch (count:\"+str(len(false_branch[1]))+\"), impurity:\"+ str(impurity(false_branch[0],false_branch[1]))"
   ]
  },
  {
   "cell_type": "markdown",
   "metadata": {},
   "source": [
    "### II. Split 2: \n",
    "Since the true branch has an impurity of 0, no further splitting is necessary for that branch. Thus we can focus on determining the best split for the false branch (again considering the same two criteria)"
   ]
  },
  {
   "cell_type": "code",
   "execution_count": 22,
   "metadata": {
    "collapsed": false
   },
   "outputs": [],
   "source": [
    "split_dec = determine_best_split(false_branch[0], false_branch[1],questions[0],questions[1])"
   ]
  },
  {
   "cell_type": "code",
   "execution_count": 23,
   "metadata": {
    "collapsed": true
   },
   "outputs": [],
   "source": [
    "retvals = partition(false_branch[0],split_dec[0],false_branch[1],questions[split_dec[0]])  #split on false branch"
   ]
  },
  {
   "cell_type": "code",
   "execution_count": 24,
   "metadata": {
    "collapsed": false
   },
   "outputs": [
    {
     "name": "stdout",
     "output_type": "stream",
     "text": [
      "Split 2: (split on X2>=0.9)\n",
      "True Branch (count:1), impurity:0.0\n",
      "False Branch (count:4), impurity:0.0\n"
     ]
    }
   ],
   "source": [
    "true_branch2 = (retvals[0],retvals[1])\n",
    "false_branch2 = (retvals[2],retvals[3])\n",
    "\n",
    "print \"Split 2: (split on X2>=0.9)\"\n",
    "print \"True Branch (count:\"+str(len(true_branch2[1]))+\"), impurity:\"+ str(impurity(true_branch2[0],true_branch2[1]))\n",
    "print \"False Branch (count:\"+str(len(false_branch2[1]))+\"), impurity:\"+ str(impurity(false_branch2[0],false_branch2[1]))"
   ]
  },
  {
   "cell_type": "markdown",
   "metadata": {},
   "source": [
    "### Decision Tree Visualization"
   ]
  },
  {
   "cell_type": "code",
   "execution_count": 695,
   "metadata": {
    "collapsed": false
   },
   "outputs": [
    {
     "data": {
      "image/svg+xml": [
       "<?xml version=\"1.0\" encoding=\"UTF-8\" standalone=\"no\"?>\n",
       "<!DOCTYPE svg PUBLIC \"-//W3C//DTD SVG 1.1//EN\"\n",
       " \"http://www.w3.org/Graphics/SVG/1.1/DTD/svg11.dtd\">\n",
       "<!-- Generated by graphviz version 2.40.1 (20161225.0304)\n",
       " -->\n",
       "<!-- Title: Tree Pages: 1 -->\n",
       "<svg width=\"267pt\" height=\"258pt\"\n",
       " viewBox=\"0.00 0.00 266.54 258.00\" xmlns=\"http://www.w3.org/2000/svg\" xmlns:xlink=\"http://www.w3.org/1999/xlink\">\n",
       "<g id=\"graph0\" class=\"graph\" transform=\"scale(1 1) rotate(0) translate(4 254)\">\n",
       "<title>Tree</title>\n",
       "<polygon fill=\"#ffffff\" stroke=\"transparent\" points=\"-4,4 -4,-254 262.5371,-254 262.5371,4 -4,4\"/>\n",
       "<!-- 0 -->\n",
       "<g id=\"node1\" class=\"node\">\n",
       "<title>0</title>\n",
       "<polygon fill=\"none\" stroke=\"#000000\" points=\"147.3068,-250 56.2303,-250 56.2303,-186 147.3068,-186 147.3068,-250\"/>\n",
       "<text text-anchor=\"middle\" x=\"101.7686\" y=\"-234.8\" font-family=\"Times,serif\" font-size=\"14.00\" fill=\"#000000\">X[0] &lt;= 0.1</text>\n",
       "<text text-anchor=\"middle\" x=\"101.7686\" y=\"-220.8\" font-family=\"Times,serif\" font-size=\"14.00\" fill=\"#000000\">gini = 0.49</text>\n",
       "<text text-anchor=\"middle\" x=\"101.7686\" y=\"-206.8\" font-family=\"Times,serif\" font-size=\"14.00\" fill=\"#000000\">samples = 7</text>\n",
       "<text text-anchor=\"middle\" x=\"101.7686\" y=\"-192.8\" font-family=\"Times,serif\" font-size=\"14.00\" fill=\"#000000\">value = [4, 3]</text>\n",
       "</g>\n",
       "<!-- 1 -->\n",
       "<g id=\"node2\" class=\"node\">\n",
       "<title>1</title>\n",
       "<polygon fill=\"none\" stroke=\"#000000\" points=\"91.3068,-143 .2303,-143 .2303,-93 91.3068,-93 91.3068,-143\"/>\n",
       "<text text-anchor=\"middle\" x=\"45.7686\" y=\"-127.8\" font-family=\"Times,serif\" font-size=\"14.00\" fill=\"#000000\">gini = 0.0</text>\n",
       "<text text-anchor=\"middle\" x=\"45.7686\" y=\"-113.8\" font-family=\"Times,serif\" font-size=\"14.00\" fill=\"#000000\">samples = 2</text>\n",
       "<text text-anchor=\"middle\" x=\"45.7686\" y=\"-99.8\" font-family=\"Times,serif\" font-size=\"14.00\" fill=\"#000000\">value = [0, 2]</text>\n",
       "</g>\n",
       "<!-- 0&#45;&gt;1 -->\n",
       "<g id=\"edge1\" class=\"edge\">\n",
       "<title>0&#45;&gt;1</title>\n",
       "<path fill=\"none\" stroke=\"#000000\" d=\"M83.7416,-185.8089C77.6965,-175.0142 70.9381,-162.9456 64.8174,-152.0158\"/>\n",
       "<polygon fill=\"#000000\" stroke=\"#000000\" points=\"67.7955,-150.1705 59.8557,-143.1555 61.688,-153.5907 67.7955,-150.1705\"/>\n",
       "<text text-anchor=\"middle\" x=\"53.0692\" y=\"-163.0168\" font-family=\"Times,serif\" font-size=\"14.00\" fill=\"#000000\">True</text>\n",
       "</g>\n",
       "<!-- 2 -->\n",
       "<g id=\"node3\" class=\"node\">\n",
       "<title>2</title>\n",
       "<polygon fill=\"none\" stroke=\"#000000\" points=\"205.9945,-150 109.5426,-150 109.5426,-86 205.9945,-86 205.9945,-150\"/>\n",
       "<text text-anchor=\"middle\" x=\"157.7686\" y=\"-134.8\" font-family=\"Times,serif\" font-size=\"14.00\" fill=\"#000000\">X[1] &lt;= 0.875</text>\n",
       "<text text-anchor=\"middle\" x=\"157.7686\" y=\"-120.8\" font-family=\"Times,serif\" font-size=\"14.00\" fill=\"#000000\">gini = 0.32</text>\n",
       "<text text-anchor=\"middle\" x=\"157.7686\" y=\"-106.8\" font-family=\"Times,serif\" font-size=\"14.00\" fill=\"#000000\">samples = 5</text>\n",
       "<text text-anchor=\"middle\" x=\"157.7686\" y=\"-92.8\" font-family=\"Times,serif\" font-size=\"14.00\" fill=\"#000000\">value = [4, 1]</text>\n",
       "</g>\n",
       "<!-- 0&#45;&gt;2 -->\n",
       "<g id=\"edge2\" class=\"edge\">\n",
       "<title>0&#45;&gt;2</title>\n",
       "<path fill=\"none\" stroke=\"#000000\" d=\"M119.7956,-185.8089C124.5916,-177.2445 129.8367,-167.8782 134.8562,-158.915\"/>\n",
       "<polygon fill=\"#000000\" stroke=\"#000000\" points=\"137.943,-160.566 139.7753,-150.1308 131.8355,-157.1457 137.943,-160.566\"/>\n",
       "<text text-anchor=\"middle\" x=\"146.5618\" y=\"-169.992\" font-family=\"Times,serif\" font-size=\"14.00\" fill=\"#000000\">False</text>\n",
       "</g>\n",
       "<!-- 3 -->\n",
       "<g id=\"node4\" class=\"node\">\n",
       "<title>3</title>\n",
       "<polygon fill=\"none\" stroke=\"#000000\" points=\"148.3068,-50 57.2303,-50 57.2303,0 148.3068,0 148.3068,-50\"/>\n",
       "<text text-anchor=\"middle\" x=\"102.7686\" y=\"-34.8\" font-family=\"Times,serif\" font-size=\"14.00\" fill=\"#000000\">gini = 0.0</text>\n",
       "<text text-anchor=\"middle\" x=\"102.7686\" y=\"-20.8\" font-family=\"Times,serif\" font-size=\"14.00\" fill=\"#000000\">samples = 4</text>\n",
       "<text text-anchor=\"middle\" x=\"102.7686\" y=\"-6.8\" font-family=\"Times,serif\" font-size=\"14.00\" fill=\"#000000\">value = [4, 0]</text>\n",
       "</g>\n",
       "<!-- 2&#45;&gt;3 -->\n",
       "<g id=\"edge3\" class=\"edge\">\n",
       "<title>2&#45;&gt;3</title>\n",
       "<path fill=\"none\" stroke=\"#000000\" d=\"M138.8407,-85.9947C133.6204,-77.1676 127.9421,-67.5662 122.6686,-58.6491\"/>\n",
       "<polygon fill=\"#000000\" stroke=\"#000000\" points=\"125.6649,-56.8398 117.5618,-50.014 119.6397,-60.4031 125.6649,-56.8398\"/>\n",
       "</g>\n",
       "<!-- 4 -->\n",
       "<g id=\"node5\" class=\"node\">\n",
       "<title>4</title>\n",
       "<polygon fill=\"none\" stroke=\"#000000\" points=\"258.3068,-50 167.2303,-50 167.2303,0 258.3068,0 258.3068,-50\"/>\n",
       "<text text-anchor=\"middle\" x=\"212.7686\" y=\"-34.8\" font-family=\"Times,serif\" font-size=\"14.00\" fill=\"#000000\">gini = 0.0</text>\n",
       "<text text-anchor=\"middle\" x=\"212.7686\" y=\"-20.8\" font-family=\"Times,serif\" font-size=\"14.00\" fill=\"#000000\">samples = 1</text>\n",
       "<text text-anchor=\"middle\" x=\"212.7686\" y=\"-6.8\" font-family=\"Times,serif\" font-size=\"14.00\" fill=\"#000000\">value = [0, 1]</text>\n",
       "</g>\n",
       "<!-- 2&#45;&gt;4 -->\n",
       "<g id=\"edge4\" class=\"edge\">\n",
       "<title>2&#45;&gt;4</title>\n",
       "<path fill=\"none\" stroke=\"#000000\" d=\"M176.6964,-85.9947C181.9168,-77.1676 187.595,-67.5662 192.8686,-58.6491\"/>\n",
       "<polygon fill=\"#000000\" stroke=\"#000000\" points=\"195.8975,-60.4031 197.9753,-50.014 189.8722,-56.8398 195.8975,-60.4031\"/>\n",
       "</g>\n",
       "</g>\n",
       "</svg>\n"
      ],
      "text/plain": [
       "<graphviz.files.Source at 0x11a7a22d0>"
      ]
     },
     "execution_count": 695,
     "metadata": {},
     "output_type": "execute_result"
    }
   ],
   "source": [
    "# Double Check: Verify Gini Reduction Algorithm with sklearn:\n",
    "from sklearn.tree import DecisionTreeClassifier\n",
    "from sklearn import tree\n",
    "import graphviz \n",
    "clf_gini = DecisionTreeClassifier()\n",
    "clf_gini.fit(x,y)\n",
    "\n",
    "dot_data = tree.export_graphviz(clf_gini, out_file=None)\n",
    "graph = graphviz.Source(dot_data)\n",
    "graph"
   ]
  },
  {
   "cell_type": "markdown",
   "metadata": {},
   "source": [
    "### IV. Find Other Thresholds that have the same error"
   ]
  },
  {
   "cell_type": "code",
   "execution_count": 716,
   "metadata": {
    "collapsed": false
   },
   "outputs": [
    {
     "data": {
      "image/png": "[encoded data removed]",
      "text/plain": [
       "<matplotlib.figure.Figure at 0x11a6ea2d0>"
      ]
     },
     "metadata": {},
     "output_type": "display_data"
    }
   ],
   "source": [
    "# Goal: Maximize Reduction in Gini Index: \n",
    "# Thus lets find criteria that does that:\n",
    "\n",
    "#Split 1:\n",
    "\n",
    "x1_splitCriteria = np.zeros((100))\n",
    "x2_splitCriteria = np.zeros((100))\n",
    "count =0\n",
    "I = impurity(x,y)\n",
    "criteria = np.linspace(0,1,100)\n",
    "for C in criteria:\n",
    "    \n",
    "    q_X1 = lambda d,v: d[:]<C if v==1 else d[:]>=C\n",
    "    q_X2 = lambda d,v: d[:]>=C if v==1 else d[:]<C\n",
    "    x1_splitCriteria[count] = changeInGini(I,x[:,0],y,q_X1)\n",
    "    x2_splitCriteria[count] = changeInGini(I,x[:,1],y,q_X2)\n",
    "    count+=1\n",
    "    \n",
    "fig, ax = plt.subplots()  \n",
    "ax.plot(criteria[3:14],x1_splitCriteria[3:14],'r+',label='X1, split same error')\n",
    "ax.plot(criteria,x1_splitCriteria, label='X1<')\n",
    "ax.plot(criteria,x2_splitCriteria, label='X2>=')\n",
    "legend = ax.legend()\n",
    "plt.title('Split 1 (root): Gini Reduction Value based on Threshold')\n",
    "plt.xlabel('Threshold')\n",
    "plt.ylabel('Gini Reduction Value')\n",
    "plt.show()"
   ]
  },
  {
   "cell_type": "code",
   "execution_count": 733,
   "metadata": {
    "collapsed": false
   },
   "outputs": [
    {
     "data": {
      "image/png": "[encoded data removed]",
      "text/plain": [
       "<matplotlib.figure.Figure at 0x119f3d190>"
      ]
     },
     "metadata": {},
     "output_type": "display_data"
    },
    {
     "name": "stdout",
     "output_type": "stream",
     "text": [
      "Best Split value for X2>0.808080808081\n"
     ]
    }
   ],
   "source": [
    "# Split 2: (we don't look at X1 because we've already split on that attribute)\n",
    "x1_splitCriteria = np.zeros((100))\n",
    "x2_splitCriteria = np.zeros((100))\n",
    "count =0\n",
    "I = impurity(x,y)\n",
    "criteria = np.linspace(0,1,100)\n",
    "for C in criteria:\n",
    "    \n",
    "    q_X1 = lambda d,v: d[:]<C if v==1 else d[:]>=C\n",
    "    q_X2 = lambda d,v: d[:]>=C if v==1 else d[:]<C\n",
    "    x2_splitCriteria[count] = changeInGini(I,false_branch[0][:,1],false_branch[1],q_X2)\n",
    "    count+=1\n",
    "fig, ax = plt.subplots()  \n",
    "ax.plot(criteria[80:95],x2_splitCriteria[80:95],'r+', label='Best X2 Split Error Equal')\n",
    "ax.plot(criteria,x2_splitCriteria, label='X2<=')\n",
    "legend = ax.legend()\n",
    "plt.title('Split 2: Gini Reduction Value based on Threshold')\n",
    "plt.xlabel('Threshold')\n",
    "plt.ylabel('Gini Reduction Value')\n",
    "plt.show()\n",
    "\n",
    "print \"Best Split value for X2>\" + str(criteria[x2_splitCriteria.argmax()])"
   ]
  },
  {
   "cell_type": "markdown",
   "metadata": {},
   "source": [
    "### Problem 1c: Calculating Minimum Empircal Loss (Linear)"
   ]
  },
  {
   "cell_type": "code",
   "execution_count": 787,
   "metadata": {
    "collapsed": false
   },
   "outputs": [
    {
     "data": {
      "image/png": "[encoded data removed]",
      "text/plain": [
       "<matplotlib.figure.Figure at 0x119ec2250>"
      ]
     },
     "metadata": {},
     "output_type": "display_data"
    }
   ],
   "source": [
    "f2 = lambda a : (0.95/0.85)*a # the upper bound of the hyperplane is at the point (0.85,0.95) (y=1)\n",
    "f2 = np.vectorize(f2)\n",
    "\n",
    "fig, ax = plt.subplots() \n",
    "ax.plot(xval,f3(xval),label='3pt line')\n",
    "ax.plot(xval,f2(xval),label='linear hyperplane')\n",
    "ax.axvline(x=0.8,linestyle='dotted', label='alpha')\n",
    "ax.axvline(x=0.9,linestyle='dotted',label='alpha^2')\n",
    "legend = ax.legend()\n",
    "plt.fill_between(xval, f3(xval), f2(xval), color='blue', alpha='0.1')\n",
    "plt.title('Regions of Error w/Linear Classifier')\n",
    "plt.xlabel('X1')\n",
    "plt.ylabel('X2')\n",
    "plt.show()"
   ]
  },
  {
   "cell_type": "markdown",
   "metadata": {},
   "source": [
    "#### Explanation: \n",
    "The graph above shows the 3 areas that need to be minimized. The goal is to find the sloepe value of $ \\alpha$ that minimizes the area under the curve. \n",
    "\n",
    "Equation: \n",
    "\n",
    "$$\\frac{\\partial}{\\partial a} ( \\int_{0}^{1/\\alpha^2} {\\sqrt{x}} - {\\alpha x}  dx + \\int_{1/\\alpha^2}^{1/\\alpha} {\\alpha x}-{\\sqrt{x}} dx  + \\int_{1/\\alpha}^{1} 1 - {\\sqrt{x}} dx  ) = 0 $$\n",
    "$$ \\vdots $$\n",
    "$$ \\vdots $$\n",
    "$$ \\alpha = \\sqrt{2} $$\n",
    "\n",
    "The ideal $ \\alpha $ tha minimizes empirical error is $ \\sqrt{2} $"
   ]
  },
  {
   "cell_type": "markdown",
   "metadata": {},
   "source": [
    "## ------------------------------------------------------------------------------------------------\n",
    "### Problem 1d: Calculating Minimum Empircal Loss (Decision Trees)"
   ]
  },
  {
   "cell_type": "code",
   "execution_count": 786,
   "metadata": {
    "collapsed": false
   },
   "outputs": [
    {
     "data": {
      "image/png": "[encoded data removed]",
      "text/plain": [
       "<matplotlib.figure.Figure at 0x11a61d190>"
      ]
     },
     "metadata": {},
     "output_type": "display_data"
    }
   ],
   "source": [
    "f2 = lambda a : (0.95/0.85)*0 # the upper bound of the hyperplane is at the point (0.85,0.95) (y=1)\n",
    "f2 = np.vectorize(f2)\n",
    "\n",
    "xsplit2 = np.linspace(0,0.51,100)\n",
    "f_split2 = lambda a : 0.2 # the upper bound of the hyperplane is at the point (0.85,0.95) (y=1)\n",
    "f_split2 = np.vectorize(f_split2)\n",
    "\n",
    "xsplit3 = np.linspace(0.5,1,100)\n",
    "f_split3 = lambda a : 0.8 # the upper bound of the hyperplane is at the point (0.85,0.95) (y=1)\n",
    "f_split3 = np.vectorize(f_split3)\n",
    "\n",
    "fig, ax = plt.subplots() \n",
    "ax.plot(xval,f3(xval),label='3pt line')\n",
    "ax.plot(xsplit2,f_split2(xsplit2),label='s2')\n",
    "ax.plot(xsplit3,f_split3(xsplit3),label='s3')\n",
    "\n",
    "ax.axvline(x=0.5,linestyle='dotted', label='s1')\n",
    "\n",
    "legend = ax.legend()\n",
    "plt.fill_between(xsplit2, f_split2(xsplit2), f3(xsplit2), color='red', alpha='0.1')\n",
    "plt.fill_between(xsplit3, f_split3(xsplit3), f3(xsplit3), color='red', alpha='0.1')\n",
    "plt.title('Regions of Error w/Decision Tree Split at X1')\n",
    "plt.xlabel('X1')\n",
    "plt.ylabel('X2')\n",
    "plt.show()"
   ]
  },
  {
   "cell_type": "markdown",
   "metadata": {},
   "source": [
    "#### Explanation: \n",
    "The graph above shows the 4 areas that need to be minimized. The goal is to find the sloepe value of $ \\alpha$ that minimizes the area under the curve. \n",
    "\n",
    "Area under the Curve: \n",
    "\n",
    "$$\\int_{0}^{s_2^2} {s_2} - {\\sqrt{x}}  dx + \\int_{s_2^2}^{s_1} {\\sqrt{x}} - {s_2} dx  + \\int_{s_1}^{s_3^2} {s_3}-{\\sqrt{x}} dx + \\int_{s_3^2}^{1} {\\sqrt{x}} - {s_3} dx $$\n",
    "$$ \\vdots $$\n",
    "$$ \\vdots $$\n",
    "\n",
    "Now set up a system of equations to solve for $s_1$, $s_2$, $s_3$ : \n",
    "\n",
    "$$\\frac{\\partial}{\\partial s_1} (\\int_{0}^{s_2^2} {s_2} - {\\sqrt{x}}  dx + \\int_{s_2^2}^{s_1} {\\sqrt{x}} - {s_2} dx  + \\int_{s_1}^{s_3^2} {s_3}-{\\sqrt{x}} dx + \\int_{s_3^2}^{1} {\\sqrt{x}} - {s_3} dx ) = 0$$\n",
    "$$ \\vdots $$\n",
    "$$\\frac{\\partial}{\\partial s_2} (\\int_{0}^{s_2^2} {s_2} - {\\sqrt{x}}  dx + \\int_{s_2^2}^{s_1} {\\sqrt{x}} - {s_2} dx  + \\int_{s_1}^{s_3^2} {s_3}-{\\sqrt{x}} dx + \\int_{s_3^2}^{1} {\\sqrt{x}} - {s_3} dx ) = 0$$\n",
    "$$ \\vdots $$\n",
    "$$\\frac{\\partial}{\\partial s_3} (\\int_{0}^{s_2^2} {s_2} - {\\sqrt{x}}  dx + \\int_{s_2^2}^{s_1} {\\sqrt{x}} - {s_2} dx  + \\int_{s_1}^{s_3^2} {s_3}-{\\sqrt{x}} dx + \\int_{s_3^2}^{1} {\\sqrt{x}} - {s_3} dx ) = 0$$\n",
    "\n",
    "\n",
    "After solving the 3 partial derivatives as a system of equations the following result was found:\n",
    "\n",
    "The minimum value for $ s_1 $ = $1/8$\n",
    "\n",
    "The minimum value for $ s_2 $ = $1/4$\n",
    "\n",
    "The minimum value for $ s_3 $ = $3/4$"
   ]
  },
  {
   "cell_type": "markdown",
   "metadata": {},
   "source": [
    "### Problem 1d, part 2: "
   ]
  },
  {
   "cell_type": "code",
   "execution_count": 816,
   "metadata": {
    "collapsed": false
   },
   "outputs": [
    {
     "data": {
      "image/png": "[encoded data removed]",
      "text/plain": [
       "<matplotlib.figure.Figure at 0x117776bd0>"
      ]
     },
     "metadata": {},
     "output_type": "display_data"
    }
   ],
   "source": [
    "f2 = lambda a : (0.95/0.85)*0 # the upper bound of the hyperplane is at the point (0.85,0.95) (y=1)\n",
    "f2 = np.vectorize(f2)\n",
    "\n",
    "xsplit2 = np.linspace(0,0.51,100)\n",
    "f_split2 = lambda a : 0.5 # the upper bound of the hyperplane is at the point (0.85,0.95) (y=1)\n",
    "f_split2 = np.vectorize(f_split2)\n",
    "\n",
    "xsplit3 = np.linspace(0.5,1,100)\n",
    "f_split3 = lambda a : 0.8 # the upper bound of the hyperplane is at the point (0.85,0.95) (y=1)\n",
    "f_split3 = np.vectorize(f_split3)\n",
    "\n",
    "fig, ax = plt.subplots() \n",
    "ax.plot(xval,f3(xval),label='3pt line')\n",
    "ax.plot(xval,f_split2(xval),label='s1')\n",
    "\n",
    "\n",
    "ax.axvline(x=0.1,linestyle='dotted', ymax=0.5, label='s2')\n",
    "s2split = np.ones(100)\n",
    "s2split *=0.1\n",
    "s2splity = np.linspace(0,1,100)\n",
    "xsplit2 = np.linspace(0.1,0.25,100)\n",
    "\n",
    "s3split = np.ones(100)\n",
    "s3split *=0.75\n",
    "s3splity = np.linspace(0,1,100)\n",
    "\n",
    "\n",
    "ax.axvline(x=0.75,linestyle='dotted',ymin=0.5, label='s3')\n",
    "\n",
    "legend = ax.legend()\n",
    "plt.fill_between(xsplit2, f_split2(xsplit2), f3(xsplit2), color='red', alpha='0.1')\n",
    "xsplit2 = np.linspace(0,0.1,100)\n",
    "plt.fill_between(xsplit2, np.zeros((100)), f3(xsplit2), color='red', alpha='0.1')\n",
    "xsplit2 = np.linspace(0.25,0.75,100)\n",
    "plt.fill_between(xsplit2, f_split2(xsplit2), f3(xsplit2), color='red', alpha='0.1')\n",
    "xsplit2 = np.linspace(0.75,1,100)\n",
    "plt.fill_between(xsplit2, np.ones((100)), f3(xsplit2), color='red', alpha='0.1')\n",
    "plt.title('Regions of Error w/Decision Tree Split at X2')\n",
    "plt.xlabel('X1')\n",
    "plt.ylabel('X2')\n",
    "plt.show()"
   ]
  },
  {
   "cell_type": "markdown",
   "metadata": {},
   "source": [
    "#### Explanation: \n",
    "The graph above shows the 4 areas that need to be minimized. The goal is to find the sloepe value of $ \\alpha$ that minimizes the area under the curve. \n",
    "\n",
    "Area under the Curve: \n",
    "\n",
    "$$\\int_{0}^{s_2^2} {\\sqrt{x}}  dx + \\int_{s_2}^{s_1^2} {s_1} - {\\sqrt{x}} dx  + \\int_{s_1^2}^{s_3} {\\sqrt{x}}-{s_1} dx + \\int_{s_3}^{1} {1} - {\\sqrt{x}} dx $$\n",
    "$$ \\vdots $$\n",
    "$$ \\vdots $$\n",
    "\n",
    "Now set up a system of equations to solve for $s_1$, $s_2$, $s_3$ : \n",
    "\n",
    "$$\\frac{\\partial}{\\partial s_1} (\\int_{0}^{s_2^2} {\\sqrt{x}}  dx + \\int_{s_2}^{s_1^2} {s_1} - {\\sqrt{x}} dx  + \\int_{s_1^2}^{s_3} {\\sqrt{x}}-{s_1} dx + \\int_{s_3}^{1} {1} - {\\sqrt{x}} dx) = 0$$\n",
    "$$ \\vdots $$\n",
    "$$\\frac{\\partial}{\\partial s_2} (\\int_{0}^{s_2^2} {\\sqrt{x}}  dx + \\int_{s_2}^{s_1^2} {s_1} - {\\sqrt{x}} dx  + \\int_{s_1^2}^{s_3} {\\sqrt{x}}-{s_1} dx + \\int_{s_3}^{1} {1} - {\\sqrt{x}} dx) = 0$$\n",
    "$$ \\vdots $$\n",
    "$$\\frac{\\partial}{\\partial s_3} (\\int_{0}^{s_2^2} {\\sqrt{x}}  dx + \\int_{s_2}^{s_1^2} {s_1} - {\\sqrt{x}} dx  + \\int_{s_1^2}^{s_3} {\\sqrt{x}}-{s_1} dx + \\int_{s_3}^{1} {1} - {\\sqrt{x}} dx) = 0$$\n",
    "\n",
    "\n",
    "After solving the 3 partial derivatives as a system of equations the following result was found:\n",
    "\n",
    "The minimum value for $ s_1 $ $ \\approx$ $0.6076$\n",
    "\n",
    "The minimum value for $ s_1 $ $ \\approx$ $0.1519$\n",
    "\n",
    "The minimum value for $ s_1 $ $ \\approx$ $0.64609$\n"
   ]
  },
  {
   "cell_type": "markdown",
   "metadata": {},
   "source": [
    "### Problems 1e-f: \n",
    "#### Transforming variables to minimize true risk "
   ]
  },
  {
   "cell_type": "markdown",
   "metadata": {},
   "source": [
    "Let's try transforming the variable by setting ${X_1}$ $ =  \\sqrt {X_1}$"
   ]
  },
  {
   "cell_type": "code",
   "execution_count": 28,
   "metadata": {
    "collapsed": false
   },
   "outputs": [],
   "source": [
    "tx=x\n",
    "tx[:,0]=sqrt(tx[:,0])"
   ]
  },
  {
   "cell_type": "code",
   "execution_count": 29,
   "metadata": {
    "collapsed": false
   },
   "outputs": [
    {
     "name": "stdout",
     "output_type": "stream",
     "text": [
      "15\n"
     ]
    }
   ],
   "source": [
    "retvals = perceptron(tx,y)"
   ]
  },
  {
   "cell_type": "code",
   "execution_count": 30,
   "metadata": {
    "collapsed": false
   },
   "outputs": [],
   "source": [
    "w_t = retvals[0]"
   ]
  },
  {
   "cell_type": "code",
   "execution_count": 58,
   "metadata": {
    "collapsed": false
   },
   "outputs": [
    {
     "data": {
      "image/png": "[encoded data removed]",
      "text/plain": [
       "<matplotlib.figure.Figure at 0x119f61a90>"
      ]
     },
     "metadata": {},
     "output_type": "display_data"
    }
   ],
   "source": [
    "plt.plot(retvals[1])\n",
    "plt.title('Perceptron Algorithm Transformed X1:')\n",
    "plt.xlabel('Epochs')\n",
    "plt.ylabel('Accuracy')\n",
    "plt.show()"
   ]
  },
  {
   "cell_type": "code",
   "execution_count": 61,
   "metadata": {
    "collapsed": false
   },
   "outputs": [
    {
     "data": {
      "image/png": "[encoded data removed]",
      "text/plain": [
       "<matplotlib.figure.Figure at 0x11791b990>"
      ]
     },
     "metadata": {},
     "output_type": "display_data"
    }
   ],
   "source": [
    "w_t = retvals[0]\n",
    "m1 = w_t[0]\n",
    "m2 = w_t[1]\n",
    "\n",
    "f_t = lambda a : (-1*m1*a)/float(m2) \n",
    "\n",
    "fig, ax = plt.subplots()\n",
    "ax.plot(sqrt(x0[:,0]),x0[:,1],'ro')\n",
    "ax.plot(sqrt(x1[:,0]),x1[:,1],'bo')\n",
    "ax.plot(xval,f_t(xval),'g-',label='original hyperplane')\n",
    "ax.plot(xval,f3(xval),'k', label='Actual 3 pt line')\n",
    "plt.title('Linear Classifier Transformed X1')\n",
    "plt.show()"
   ]
  },
  {
   "cell_type": "code",
   "execution_count": 47,
   "metadata": {
    "collapsed": false
   },
   "outputs": [
    {
     "data": {
      "image/svg+xml": [
       "<?xml version=\"1.0\" encoding=\"UTF-8\" standalone=\"no\"?>\n",
       "<!DOCTYPE svg PUBLIC \"-//W3C//DTD SVG 1.1//EN\"\n",
       " \"http://www.w3.org/Graphics/SVG/1.1/DTD/svg11.dtd\">\n",
       "<!-- Generated by graphviz version 2.40.1 (20161225.0304)\n",
       " -->\n",
       "<!-- Title: Tree Pages: 1 -->\n",
       "<svg width=\"267pt\" height=\"258pt\"\n",
       " viewBox=\"0.00 0.00 266.54 258.00\" xmlns=\"http://www.w3.org/2000/svg\" xmlns:xlink=\"http://www.w3.org/1999/xlink\">\n",
       "<g id=\"graph0\" class=\"graph\" transform=\"scale(1 1) rotate(0) translate(4 254)\">\n",
       "<title>Tree</title>\n",
       "<polygon fill=\"#ffffff\" stroke=\"transparent\" points=\"-4,4 -4,-254 262.5371,-254 262.5371,4 -4,4\"/>\n",
       "<!-- 0 -->\n",
       "<g id=\"node1\" class=\"node\">\n",
       "<title>0</title>\n",
       "<polygon fill=\"none\" stroke=\"#000000\" points=\"149.9945,-250 53.5426,-250 53.5426,-186 149.9945,-186 149.9945,-250\"/>\n",
       "<text text-anchor=\"middle\" x=\"101.7686\" y=\"-234.8\" font-family=\"Times,serif\" font-size=\"14.00\" fill=\"#000000\">X[0] &lt;= 0.305</text>\n",
       "<text text-anchor=\"middle\" x=\"101.7686\" y=\"-220.8\" font-family=\"Times,serif\" font-size=\"14.00\" fill=\"#000000\">gini = 0.49</text>\n",
       "<text text-anchor=\"middle\" x=\"101.7686\" y=\"-206.8\" font-family=\"Times,serif\" font-size=\"14.00\" fill=\"#000000\">samples = 7</text>\n",
       "<text text-anchor=\"middle\" x=\"101.7686\" y=\"-192.8\" font-family=\"Times,serif\" font-size=\"14.00\" fill=\"#000000\">value = [4, 3]</text>\n",
       "</g>\n",
       "<!-- 1 -->\n",
       "<g id=\"node2\" class=\"node\">\n",
       "<title>1</title>\n",
       "<polygon fill=\"none\" stroke=\"#000000\" points=\"91.3068,-143 .2303,-143 .2303,-93 91.3068,-93 91.3068,-143\"/>\n",
       "<text text-anchor=\"middle\" x=\"45.7686\" y=\"-127.8\" font-family=\"Times,serif\" font-size=\"14.00\" fill=\"#000000\">gini = 0.0</text>\n",
       "<text text-anchor=\"middle\" x=\"45.7686\" y=\"-113.8\" font-family=\"Times,serif\" font-size=\"14.00\" fill=\"#000000\">samples = 2</text>\n",
       "<text text-anchor=\"middle\" x=\"45.7686\" y=\"-99.8\" font-family=\"Times,serif\" font-size=\"14.00\" fill=\"#000000\">value = [0, 2]</text>\n",
       "</g>\n",
       "<!-- 0&#45;&gt;1 -->\n",
       "<g id=\"edge1\" class=\"edge\">\n",
       "<title>0&#45;&gt;1</title>\n",
       "<path fill=\"none\" stroke=\"#000000\" d=\"M83.7416,-185.8089C77.6965,-175.0142 70.9381,-162.9456 64.8174,-152.0158\"/>\n",
       "<polygon fill=\"#000000\" stroke=\"#000000\" points=\"67.7955,-150.1705 59.8557,-143.1555 61.688,-153.5907 67.7955,-150.1705\"/>\n",
       "<text text-anchor=\"middle\" x=\"53.0692\" y=\"-163.0168\" font-family=\"Times,serif\" font-size=\"14.00\" fill=\"#000000\">True</text>\n",
       "</g>\n",
       "<!-- 2 -->\n",
       "<g id=\"node3\" class=\"node\">\n",
       "<title>2</title>\n",
       "<polygon fill=\"none\" stroke=\"#000000\" points=\"205.9945,-150 109.5426,-150 109.5426,-86 205.9945,-86 205.9945,-150\"/>\n",
       "<text text-anchor=\"middle\" x=\"157.7686\" y=\"-134.8\" font-family=\"Times,serif\" font-size=\"14.00\" fill=\"#000000\">X[1] &lt;= 0.875</text>\n",
       "<text text-anchor=\"middle\" x=\"157.7686\" y=\"-120.8\" font-family=\"Times,serif\" font-size=\"14.00\" fill=\"#000000\">gini = 0.32</text>\n",
       "<text text-anchor=\"middle\" x=\"157.7686\" y=\"-106.8\" font-family=\"Times,serif\" font-size=\"14.00\" fill=\"#000000\">samples = 5</text>\n",
       "<text text-anchor=\"middle\" x=\"157.7686\" y=\"-92.8\" font-family=\"Times,serif\" font-size=\"14.00\" fill=\"#000000\">value = [4, 1]</text>\n",
       "</g>\n",
       "<!-- 0&#45;&gt;2 -->\n",
       "<g id=\"edge2\" class=\"edge\">\n",
       "<title>0&#45;&gt;2</title>\n",
       "<path fill=\"none\" stroke=\"#000000\" d=\"M119.7956,-185.8089C124.5916,-177.2445 129.8367,-167.8782 134.8562,-158.915\"/>\n",
       "<polygon fill=\"#000000\" stroke=\"#000000\" points=\"137.943,-160.566 139.7753,-150.1308 131.8355,-157.1457 137.943,-160.566\"/>\n",
       "<text text-anchor=\"middle\" x=\"146.5618\" y=\"-169.992\" font-family=\"Times,serif\" font-size=\"14.00\" fill=\"#000000\">False</text>\n",
       "</g>\n",
       "<!-- 3 -->\n",
       "<g id=\"node4\" class=\"node\">\n",
       "<title>3</title>\n",
       "<polygon fill=\"none\" stroke=\"#000000\" points=\"148.3068,-50 57.2303,-50 57.2303,0 148.3068,0 148.3068,-50\"/>\n",
       "<text text-anchor=\"middle\" x=\"102.7686\" y=\"-34.8\" font-family=\"Times,serif\" font-size=\"14.00\" fill=\"#000000\">gini = 0.0</text>\n",
       "<text text-anchor=\"middle\" x=\"102.7686\" y=\"-20.8\" font-family=\"Times,serif\" font-size=\"14.00\" fill=\"#000000\">samples = 4</text>\n",
       "<text text-anchor=\"middle\" x=\"102.7686\" y=\"-6.8\" font-family=\"Times,serif\" font-size=\"14.00\" fill=\"#000000\">value = [4, 0]</text>\n",
       "</g>\n",
       "<!-- 2&#45;&gt;3 -->\n",
       "<g id=\"edge3\" class=\"edge\">\n",
       "<title>2&#45;&gt;3</title>\n",
       "<path fill=\"none\" stroke=\"#000000\" d=\"M138.8407,-85.9947C133.6204,-77.1676 127.9421,-67.5662 122.6686,-58.6491\"/>\n",
       "<polygon fill=\"#000000\" stroke=\"#000000\" points=\"125.6649,-56.8398 117.5618,-50.014 119.6397,-60.4031 125.6649,-56.8398\"/>\n",
       "</g>\n",
       "<!-- 4 -->\n",
       "<g id=\"node5\" class=\"node\">\n",
       "<title>4</title>\n",
       "<polygon fill=\"none\" stroke=\"#000000\" points=\"258.3068,-50 167.2303,-50 167.2303,0 258.3068,0 258.3068,-50\"/>\n",
       "<text text-anchor=\"middle\" x=\"212.7686\" y=\"-34.8\" font-family=\"Times,serif\" font-size=\"14.00\" fill=\"#000000\">gini = 0.0</text>\n",
       "<text text-anchor=\"middle\" x=\"212.7686\" y=\"-20.8\" font-family=\"Times,serif\" font-size=\"14.00\" fill=\"#000000\">samples = 1</text>\n",
       "<text text-anchor=\"middle\" x=\"212.7686\" y=\"-6.8\" font-family=\"Times,serif\" font-size=\"14.00\" fill=\"#000000\">value = [0, 1]</text>\n",
       "</g>\n",
       "<!-- 2&#45;&gt;4 -->\n",
       "<g id=\"edge4\" class=\"edge\">\n",
       "<title>2&#45;&gt;4</title>\n",
       "<path fill=\"none\" stroke=\"#000000\" d=\"M176.6964,-85.9947C181.9168,-77.1676 187.595,-67.5662 192.8686,-58.6491\"/>\n",
       "<polygon fill=\"#000000\" stroke=\"#000000\" points=\"195.8975,-60.4031 197.9753,-50.014 189.8722,-56.8398 195.8975,-60.4031\"/>\n",
       "</g>\n",
       "</g>\n",
       "</svg>\n"
      ],
      "text/plain": [
       "<graphviz.files.Source at 0x119dadd90>"
      ]
     },
     "execution_count": 47,
     "metadata": {},
     "output_type": "execute_result"
    }
   ],
   "source": [
    "# Build a decision tree on transformed data\n",
    "from sklearn.tree import DecisionTreeClassifier\n",
    "from sklearn import tree\n",
    "import graphviz \n",
    "clf_gini = DecisionTreeClassifier()\n",
    "clf_gini.fit(tx,y)\n",
    "\n",
    "dot_data = tree.export_graphviz(clf_gini, out_file=None)\n",
    "graph = graphviz.Source(dot_data)\n",
    "graph"
   ]
  },
  {
   "cell_type": "code",
   "execution_count": 35,
   "metadata": {
    "collapsed": false
   },
   "outputs": [],
   "source": [
    "from scipy import integrate"
   ]
  },
  {
   "cell_type": "markdown",
   "metadata": {},
   "source": [
    "### Problem 1e: Transforming variables minimize true risk linear classifier \n",
    "\n",
    "For this problem it was realized that taking the sqrt of variable X1 minimized the true risk. Thus this transformation was applied."
   ]
  },
  {
   "cell_type": "code",
   "execution_count": 818,
   "metadata": {
    "collapsed": false
   },
   "outputs": [
    {
     "name": "stdout",
     "output_type": "stream",
     "text": [
      "The minimized True Risk: 0.191627973941\n"
     ]
    }
   ],
   "source": [
    "intersection_pt = 1/((-m1/float(m2))**2) # the intersection of sqrt(x)=linear classifier is  where x = 1/m^2\n",
    "r,err = integrate.quad(f3,0,intersection_pt)\n",
    "r2,err = integrate.quad(f_t,0,intersection_pt)\n",
    "true_risk_transformed = r-r2\n",
    "print \"The minimized True Risk: \" + str(true_risk_transformed)"
   ]
  },
  {
   "cell_type": "markdown",
   "metadata": {},
   "source": [
    "### Problem 1f: Transforming variables minimize true risk decision tree\n",
    "Can the decision tree obtain an error as good as or better than the linear classifier?"
   ]
  },
  {
   "cell_type": "code",
   "execution_count": 48,
   "metadata": {
    "collapsed": false
   },
   "outputs": [],
   "source": [
    "f_l = lambda x: 0.875"
   ]
  },
  {
   "cell_type": "code",
   "execution_count": 49,
   "metadata": {
    "collapsed": false
   },
   "outputs": [],
   "source": [
    "intersection_pt = float(sqrt(0.935))\n",
    "r,err = integrate.quad(f_l,0.305,intersection_pt)"
   ]
  },
  {
   "cell_type": "code",
   "execution_count": 50,
   "metadata": {
    "collapsed": false
   },
   "outputs": [],
   "source": [
    "intersection_pt = float(sqrt(0.935))\n",
    "r2,err = integrate.quad(f3,0.305,intersection_pt)"
   ]
  },
  {
   "cell_type": "code",
   "execution_count": 51,
   "metadata": {
    "collapsed": false
   },
   "outputs": [],
   "source": [
    "first_err_region = r-r2"
   ]
  },
  {
   "cell_type": "code",
   "execution_count": 52,
   "metadata": {
    "collapsed": false
   },
   "outputs": [],
   "source": [
    "intersection_pt = float(sqrt(0.935))\n",
    "r,err = integrate.quad(f_l,intersection_pt,1)\n",
    "\n",
    "intersection_pt = float(sqrt(0.935))\n",
    "r2,err = integrate.quad(f3,intersection_pt,1)"
   ]
  },
  {
   "cell_type": "code",
   "execution_count": 53,
   "metadata": {
    "collapsed": false
   },
   "outputs": [],
   "source": [
    "second_err_region = r2-r"
   ]
  },
  {
   "cell_type": "code",
   "execution_count": 54,
   "metadata": {
    "collapsed": false
   },
   "outputs": [],
   "source": [
    "error_tree= first_err_region + second_err_region"
   ]
  },
  {
   "cell_type": "code",
   "execution_count": 55,
   "metadata": {
    "collapsed": false
   },
   "outputs": [
    {
     "name": "stdout",
     "output_type": "stream",
     "text": [
      "Decision Tree True Risk Error: 0.0614652770347\n"
     ]
    }
   ],
   "source": [
    "print \"Decision Tree True Risk Error: \"+ str(error_tree)"
   ]
  },
  {
   "cell_type": "markdown",
   "metadata": {},
   "source": [
    "Since the error of the tree is 0.0614, it is safe to say that the decision tree can achieve the same error as the linear classifier of 0.16954. "
   ]
  },
  {
   "cell_type": "markdown",
   "metadata": {},
   "source": [
    "### Problem 1h:  Classify the Paint"
   ]
  },
  {
   "cell_type": "code",
   "execution_count": 842,
   "metadata": {
    "collapsed": false
   },
   "outputs": [
    {
     "data": {
      "image/png": "[encoded data removed]",
      "text/plain": [
       "<matplotlib.figure.Figure at 0x119e00190>"
      ]
     },
     "metadata": {},
     "output_type": "display_data"
    }
   ],
   "source": [
    "f2 = lambda a : (0.35/0.85)*a # the upper bound of the hyperplane is at the point (0.85,0.95) (y=1)\n",
    "f2 = np.vectorize(f2)\n",
    "\n",
    "paint = np.linspace(0.5,1,100)\n",
    "fP = lambda a : 0.25 # the upper bound of the hyperplane is at the point (0.85,0.95) (y=1)\n",
    "fP = np.vectorize(fP)\n",
    "\n",
    "fig, ax = plt.subplots() \n",
    "ax.plot(paint,fP(paint),label='3pt line')\n",
    "ax.plot(xval,f2(xval),label='linear hyperplane')\n",
    "ax.axvline(x=0.5, ymax=0.6)\n",
    "legend = ax.legend()\n",
    "\n",
    "plt.fill_between(paint, f2(paint), fP(paint), color='red', alpha='0.1')\n",
    "plt.title('Regions of Error w/Linear Classifier')\n",
    "plt.xlabel('X1')\n",
    "plt.ylabel('X2')\n",
    "plt.show()"
   ]
  },
  {
   "cell_type": "markdown",
   "metadata": {},
   "source": [
    "#### Explanation: \n",
    "The graph above shows the 2 areas that need to be minimized. The goal is to find the sloepe value of $ \\alpha$ that minimizes the area under the curve. \n",
    "\n",
    "Equation: \n",
    "\n",
    "$$\\frac{\\partial}{\\partial a} ( \\int_{0.5}^{0.25/\\alpha} 0.25 - {\\sqrt{x}} dx + \\int_{1}^{0.25/\\alpha} {\\alpha x}-{0.25} dx ) = 0 $$\n",
    "$$ \\vdots $$\n",
    "$$ \\vdots $$\n",
    "$$ \\alpha = 1/\\sqrt{10} $$\n",
    "\n",
    "The ideal $ \\alpha $ tha minimizes empirical error is $ 1/\\sqrt{10} $\n",
    "$\\alpha$ $\\approx$ ${0.31623}$"
   ]
  },
  {
   "cell_type": "markdown",
   "metadata": {},
   "source": [
    "### Problem 1i : Optimal depth 2 decision tree "
   ]
  },
  {
   "cell_type": "code",
   "execution_count": 855,
   "metadata": {
    "collapsed": false
   },
   "outputs": [
    {
     "data": {
      "image/png": "[encoded data removed]",
      "text/plain": [
       "<matplotlib.figure.Figure at 0x119eaddd0>"
      ]
     },
     "metadata": {},
     "output_type": "display_data"
    }
   ],
   "source": [
    "\n",
    "paint = np.linspace(0.5,1,100)\n",
    "fP = lambda a : 0.25 # the upper bound of the hyperplane is at the point (0.85,0.95) (y=1)\n",
    "fP = np.vectorize(fP)\n",
    "\n",
    "fig, ax = plt.subplots() \n",
    "ax.plot(paint,fP(paint),label='Paint')\n",
    "ax.axvline(x=0.5,label='s1', linestyle='dotted', color='red')\n",
    "ax.axhline(y=0.25, xmin=0.5, label='s2',linestyle='dotted',color='red')\n",
    "legend = ax.legend()\n",
    "ax.axvline(x=0.5, ymax=0.5)\n",
    "plt.xlim(0,1)\n",
    "\n",
    "plt.title('Regions of Error w/Optimal Decision Tree')\n",
    "plt.xlabel('X1')\n",
    "plt.ylabel('X2')\n",
    "plt.show()"
   ]
  },
  {
   "cell_type": "markdown",
   "metadata": {},
   "source": [
    "#### Explanation: \n",
    "\n",
    "The optimal decision tree is the one that will split on X1<0.5, and for values X1>=0.5, split a second time on X2<= 0.25. This will result in a decision tree with error 0. "
   ]
  },
  {
   "cell_type": "markdown",
   "metadata": {},
   "source": [
    "# Problem 2"
   ]
  },
  {
   "cell_type": "code",
   "execution_count": 863,
   "metadata": {
    "collapsed": true
   },
   "outputs": [],
   "source": [
    "df_train = pd.read_csv('train.csv')\n",
    "df_test = pd.read_csv('test.csv')"
   ]
  },
  {
   "cell_type": "code",
   "execution_count": 864,
   "metadata": {
    "collapsed": false
   },
   "outputs": [],
   "source": [
    "train = pd.DataFrame.as_matrix(df_train)\n",
    "test = pd.DataFrame.as_matrix(df_test)\n",
    "fix_zeros = np.vectorize(lambda x: -1 if x==0 else x)"
   ]
  },
  {
   "cell_type": "code",
   "execution_count": 865,
   "metadata": {
    "collapsed": false
   },
   "outputs": [],
   "source": [
    "train[:,-1]=fix_zeros(train[:,-1])\n",
    "test[:,-1]=fix_zeros(test[:,-1])"
   ]
  },
  {
   "cell_type": "code",
   "execution_count": 866,
   "metadata": {
    "collapsed": true
   },
   "outputs": [],
   "source": [
    "dat = train[:,0:-1]\n",
    "lab = train[:,-1]"
   ]
  },
  {
   "cell_type": "markdown",
   "metadata": {},
   "source": [
    "### Custom Methods (Code): \n",
    "The methods below were designed to calculate variable importance, surrogate split and growing a random forest. "
   ]
  },
  {
   "cell_type": "code",
   "execution_count": 195,
   "metadata": {
    "collapsed": false
   },
   "outputs": [],
   "source": [
    "def maximizeSplit(data,labels):\n",
    "    x1_splitCriteria = np.zeros(shape=(100,data.shape[1]))\n",
    "    x2_splitCriteria = np.zeros(shape=(100,data.shape[1]))\n",
    "\n",
    "    I = impurity(data,labels)\n",
    "    criteria = np.linspace(0,1,100)\n",
    "    \n",
    "    for i in range(0,data.shape[1]): # iterate over columns\n",
    "        count =0\n",
    "        for C in criteria:\n",
    "            q_L = lambda d,v: d[:]<=C if v==1 else d[:]>=C\n",
    "            q_G = lambda d,v: d[:]>=C if v==1 else d[:]<C\n",
    "            x1_splitCriteria[count,i] = changeInGini(I,data[:,i],labels,q_L)\n",
    "            x2_splitCriteria[count,i] = changeInGini(I,data[:,i],labels,q_G)\n",
    "            count+=1\n",
    "    return (x1_splitCriteria,x2_splitCriteria, criteria)"
   ]
  },
  {
   "cell_type": "code",
   "execution_count": 212,
   "metadata": {
    "collapsed": false
   },
   "outputs": [],
   "source": [
    "def find_best_split_vars(x1_split_criteria, x2_split_criteria,criteria):\n",
    "\n",
    "    variable_best_criteria = np.zeros(shape=(x1_split_criteria.shape[1],3))\n",
    "    \n",
    "    for i in range(0,x1_split_criteria.shape[1]):\n",
    "        maxX1 = max(x1_split_criteria[:,i])\n",
    "        maxX2 = max(x2_split_criteria[:,i])\n",
    "        \n",
    "        if (maxX1>=maxX2):\n",
    "            C = criteria[np.argmax(x1_split_criteria[:,i])]\n",
    "            variable_best_criteria[i]=[maxX1,C,0]\n",
    "        else:\n",
    "            C = criteria[np.argmax(x2_split_criteria[:,i])]\n",
    "            variable_best_criteria[i]=[maxX2,C,1]\n",
    "    return variable_best_criteria"
   ]
  },
  {
   "cell_type": "code",
   "execution_count": 218,
   "metadata": {
    "collapsed": true
   },
   "outputs": [],
   "source": [
    "def calc_best_giniReduction_each_var(data,labels):\n",
    "    values = maximizeSplit(data,labels)\n",
    "    return find_best_split_vars(values[0],values[1],values[2])"
   ]
  },
  {
   "cell_type": "code",
   "execution_count": 281,
   "metadata": {
    "collapsed": true
   },
   "outputs": [],
   "source": [
    "def calc_surrogate_split(data,labels,excl_ind,st): #excl_ind is the attribute to exclude\n",
    "    N = float(data.shape[0])\n",
    "    lam_vals = np.zeros((data.shape[1]))\n",
    "    ffun = np.vectorize(lambda z,y: True if z & y else False)\n",
    "    \n",
    "    for i in range(0,data.shape[1]):\n",
    "        if i != excl_ind:\n",
    "            pL = len(data[:,i][data[:,i][:]<st])/N\n",
    "            pR = len(data[:,i][data[:,i][:]<st])/N\n",
    "            \n",
    "            a = data[:,excl_ind][:]<st\n",
    "            b=  data[:,i][:]<st\n",
    "            PL = len(data[:,i][ffun(a,b)])/N\n",
    "            \n",
    "            c = data[:,excl_ind][:]>st\n",
    "            d =  data[:,i][:]>st\n",
    "            PR = len(data[:,i][ffun(c,d)])/N\n",
    "            \n",
    "            lam_vals[i] = (min(pL,pR)-(1-PL-PR))/(min(pL,pR))\n",
    "        else:\n",
    "            lam_vals[i] =-1*sys.float_info.max\n",
    "    return lam_vals"
   ]
  },
  {
   "cell_type": "code",
   "execution_count": 384,
   "metadata": {
    "collapsed": true
   },
   "outputs": [],
   "source": [
    "def get_split_and_surrogate(data,labels):\n",
    "        split_info = calc_best_giniReduction_each_var(data,labels)\n",
    "        best_split_ind = np.argmax(split_info[:,0])\n",
    "        \n",
    "        lambda_vals = calc_surrogate_split(data,labels,best_split_ind,0.5)\n",
    "        surrogate_split_ind = np.argmax(lambda_vals)\n",
    "        \n",
    "        Imp_best_split = split_info[:,0][best_split_ind]\n",
    "        Imp_surr_split = split_info[:,0][surrogate_split_ind]\n",
    "        \n",
    "        best_split_info = [best_split_ind, Imp_best_split]\n",
    "        surr_split_info = [surrogate_split_ind, Imp_surr_split]\n",
    "        \n",
    "        return (best_split_info,surr_split_info)"
   ]
  },
  {
   "cell_type": "code",
   "execution_count": 395,
   "metadata": {
    "collapsed": false
   },
   "outputs": [],
   "source": [
    "def variable_importance(K_features, best_split_info, surrogate_split_info):\n",
    "    var_imp = np.zeros(K_features)\n",
    "    \n",
    "    best_split_ind = best_split_info[0]\n",
    "    Imp_best_split = best_split_info[1]\n",
    "    \n",
    "    surrogate_split_ind = surrogate_split_info[0]\n",
    "    Imp_surrsplit = surrogate_split_info[1]\n",
    "    \n",
    "    for i in range(0,len(var_imp)):\n",
    "        if i == best_split_ind:\n",
    "            var_imp[i]+=Imp_best_split\n",
    "        elif i == surrogate_split_ind:\n",
    "            var_imp[i]+=Imp_surr_split\n",
    "    return var_imp"
   ]
  },
  {
   "cell_type": "markdown",
   "metadata": {},
   "source": [
    "### Part 2a,  Calculating Variable Importance"
   ]
  },
  {
   "cell_type": "code",
   "execution_count": 875,
   "metadata": {
    "collapsed": false
   },
   "outputs": [],
   "source": [
    "split_info = get_split_and_surrogate(dat,lab) # This method returns the split and the surrogate variables\n",
    "# Best Split X1\n",
    "# Surrogate X2"
   ]
  },
  {
   "cell_type": "code",
   "execution_count": 857,
   "metadata": {
    "collapsed": false
   },
   "outputs": [],
   "source": [
    "var_imp = variable_importance(5,split_info[0],split_info[1])"
   ]
  },
  {
   "cell_type": "markdown",
   "metadata": {},
   "source": [
    "#### Part 2a ii)"
   ]
  },
  {
   "cell_type": "code",
   "execution_count": 858,
   "metadata": {
    "collapsed": false
   },
   "outputs": [
    {
     "data": {
      "image/png": "[encoded data removed]",
      "text/plain": [
       "<matplotlib.figure.Figure at 0x11a797090>"
      ]
     },
     "metadata": {},
     "output_type": "display_data"
    }
   ],
   "source": [
    "plt.plot(range(0,5),var_imp,'ro')\n",
    "plt.xticks(range(5),('X1','X2','X3','X4','X5'))\n",
    "plt.title('Variable Importance')\n",
    "plt.ylabel('Impurity')\n",
    "plt.xlabel('Attribute')\n",
    "plt.show()"
   ]
  },
  {
   "cell_type": "markdown",
   "metadata": {},
   "source": [
    "| Variable | Measure (Eq 3) |\n",
    "|----------|----------------|\n",
    "| X1       | 0.38483527     |\n",
    "| X2       | 0.30245711     |\n",
    "| X3       | N/A            |\n",
    "| X4       | N/A            |\n",
    "| X5       | N/A            |"
   ]
  },
  {
   "cell_type": "markdown",
   "metadata": {},
   "source": [
    "#### Part 2a i) Decision Trees"
   ]
  },
  {
   "cell_type": "markdown",
   "metadata": {},
   "source": [
    "#### Decision Tree Best Split"
   ]
  },
  {
   "cell_type": "code",
   "execution_count": 868,
   "metadata": {
    "collapsed": false
   },
   "outputs": [
    {
     "data": {
      "image/svg+xml": [
       "<?xml version=\"1.0\" encoding=\"UTF-8\" standalone=\"no\"?>\n",
       "<!DOCTYPE svg PUBLIC \"-//W3C//DTD SVG 1.1//EN\"\n",
       " \"http://www.w3.org/Graphics/SVG/1.1/DTD/svg11.dtd\">\n",
       "<!-- Generated by graphviz version 2.40.1 (20161225.0304)\n",
       " -->\n",
       "<!-- Title: Tree Pages: 1 -->\n",
       "<svg width=\"252pt\" height=\"158pt\"\n",
       " viewBox=\"0.00 0.00 251.54 158.00\" xmlns=\"http://www.w3.org/2000/svg\" xmlns:xlink=\"http://www.w3.org/1999/xlink\">\n",
       "<g id=\"graph0\" class=\"graph\" transform=\"scale(1 1) rotate(0) translate(4 154)\">\n",
       "<title>Tree</title>\n",
       "<polygon fill=\"#ffffff\" stroke=\"transparent\" points=\"-4,4 -4,-154 247.5371,-154 247.5371,4 -4,4\"/>\n",
       "<!-- 0 -->\n",
       "<g id=\"node1\" class=\"node\">\n",
       "<title>0</title>\n",
       "<polygon fill=\"none\" stroke=\"#000000\" points=\"180.8066,-150 61.7306,-150 61.7306,-86 180.8066,-86 180.8066,-150\"/>\n",
       "<text text-anchor=\"middle\" x=\"121.2686\" y=\"-134.8\" font-family=\"Times,serif\" font-size=\"14.00\" fill=\"#000000\">X[0] &lt;= 0.5</text>\n",
       "<text text-anchor=\"middle\" x=\"121.2686\" y=\"-120.8\" font-family=\"Times,serif\" font-size=\"14.00\" fill=\"#000000\">gini = 0.499</text>\n",
       "<text text-anchor=\"middle\" x=\"121.2686\" y=\"-106.8\" font-family=\"Times,serif\" font-size=\"14.00\" fill=\"#000000\">samples = 500</text>\n",
       "<text text-anchor=\"middle\" x=\"121.2686\" y=\"-92.8\" font-family=\"Times,serif\" font-size=\"14.00\" fill=\"#000000\">value = [241, 259]</text>\n",
       "</g>\n",
       "<!-- 1 -->\n",
       "<g id=\"node2\" class=\"node\">\n",
       "<title>1</title>\n",
       "<polygon fill=\"none\" stroke=\"#000000\" points=\"112.3066,-50 .2305,-50 .2305,0 112.3066,0 112.3066,-50\"/>\n",
       "<text text-anchor=\"middle\" x=\"56.2686\" y=\"-34.8\" font-family=\"Times,serif\" font-size=\"14.00\" fill=\"#000000\">gini = 0.241</text>\n",
       "<text text-anchor=\"middle\" x=\"56.2686\" y=\"-20.8\" font-family=\"Times,serif\" font-size=\"14.00\" fill=\"#000000\">samples = 243</text>\n",
       "<text text-anchor=\"middle\" x=\"56.2686\" y=\"-6.8\" font-family=\"Times,serif\" font-size=\"14.00\" fill=\"#000000\">value = [209, 34]</text>\n",
       "</g>\n",
       "<!-- 0&#45;&gt;1 -->\n",
       "<g id=\"edge1\" class=\"edge\">\n",
       "<title>0&#45;&gt;1</title>\n",
       "<path fill=\"none\" stroke=\"#000000\" d=\"M98.8992,-85.9947C92.6655,-77.0756 85.8793,-67.3661 79.5921,-58.3706\"/>\n",
       "<polygon fill=\"#000000\" stroke=\"#000000\" points=\"82.349,-56.2054 73.7515,-50.014 76.6115,-60.2156 82.349,-56.2054\"/>\n",
       "<text text-anchor=\"middle\" x=\"69.3891\" y=\"-70.4305\" font-family=\"Times,serif\" font-size=\"14.00\" fill=\"#000000\">True</text>\n",
       "</g>\n",
       "<!-- 2 -->\n",
       "<g id=\"node3\" class=\"node\">\n",
       "<title>2</title>\n",
       "<polygon fill=\"none\" stroke=\"#000000\" points=\"243.3066,-50 131.2305,-50 131.2305,0 243.3066,0 243.3066,-50\"/>\n",
       "<text text-anchor=\"middle\" x=\"187.2686\" y=\"-34.8\" font-family=\"Times,serif\" font-size=\"14.00\" fill=\"#000000\">gini = 0.218</text>\n",
       "<text text-anchor=\"middle\" x=\"187.2686\" y=\"-20.8\" font-family=\"Times,serif\" font-size=\"14.00\" fill=\"#000000\">samples = 257</text>\n",
       "<text text-anchor=\"middle\" x=\"187.2686\" y=\"-6.8\" font-family=\"Times,serif\" font-size=\"14.00\" fill=\"#000000\">value = [32, 225]</text>\n",
       "</g>\n",
       "<!-- 0&#45;&gt;2 -->\n",
       "<g id=\"edge2\" class=\"edge\">\n",
       "<title>0&#45;&gt;2</title>\n",
       "<path fill=\"none\" stroke=\"#000000\" d=\"M143.982,-85.9947C150.3116,-77.0756 157.2023,-67.3661 163.5862,-58.3706\"/>\n",
       "<polygon fill=\"#000000\" stroke=\"#000000\" points=\"166.5834,-60.1947 169.5167,-50.014 160.8749,-56.1435 166.5834,-60.1947\"/>\n",
       "<text text-anchor=\"middle\" x=\"173.702\" y=\"-70.4612\" font-family=\"Times,serif\" font-size=\"14.00\" fill=\"#000000\">False</text>\n",
       "</g>\n",
       "</g>\n",
       "</svg>\n"
      ],
      "text/plain": [
       "<graphviz.files.Source at 0x11b2708d0>"
      ]
     },
     "execution_count": 868,
     "metadata": {},
     "output_type": "execute_result"
    }
   ],
   "source": [
    "revert_zeros = np.vectorize(lambda x: 0 if x==-1 else x)\n",
    "train[:,-1]=revert_zeros(train[:,-1])\n",
    "test[:,-1]=revert_zeros(test[:,-1])\n",
    "\n",
    "clf_gini = DecisionTreeClassifier(max_depth=1)\n",
    "clf_gini.fit(train[:,0:5],train[:,-1])\n",
    "dot_data = tree.export_graphviz(clf_gini, out_file=None)\n",
    "graph = graphviz.Source(dot_data)\n",
    "graph\n"
   ]
  },
  {
   "cell_type": "markdown",
   "metadata": {},
   "source": [
    "#### Part 2a iii) Error for Best Split"
   ]
  },
  {
   "cell_type": "code",
   "execution_count": 869,
   "metadata": {
    "collapsed": false
   },
   "outputs": [
    {
     "data": {
      "text/plain": [
       "0.1"
      ]
     },
     "execution_count": 869,
     "metadata": {},
     "output_type": "execute_result"
    }
   ],
   "source": [
    "mlsq_err = clf_gini.predict(test[:,0:-1])-test[:,-1]\n",
    "mlsq_err = mlsq_err**2\n",
    "error = (1/float(test.shape[0]))*sum(mlsq_err)\n",
    "error"
   ]
  },
  {
   "cell_type": "markdown",
   "metadata": {},
   "source": [
    "#### Part 2a i) Decision Tree Best Surrogate Split"
   ]
  },
  {
   "cell_type": "code",
   "execution_count": 871,
   "metadata": {
    "collapsed": false
   },
   "outputs": [
    {
     "data": {
      "image/svg+xml": [
       "<?xml version=\"1.0\" encoding=\"UTF-8\" standalone=\"no\"?>\n",
       "<!DOCTYPE svg PUBLIC \"-//W3C//DTD SVG 1.1//EN\"\n",
       " \"http://www.w3.org/Graphics/SVG/1.1/DTD/svg11.dtd\">\n",
       "<!-- Generated by graphviz version 2.40.1 (20161225.0304)\n",
       " -->\n",
       "<!-- Title: Tree Pages: 1 -->\n",
       "<svg width=\"252pt\" height=\"158pt\"\n",
       " viewBox=\"0.00 0.00 251.54 158.00\" xmlns=\"http://www.w3.org/2000/svg\" xmlns:xlink=\"http://www.w3.org/1999/xlink\">\n",
       "<g id=\"graph0\" class=\"graph\" transform=\"scale(1 1) rotate(0) translate(4 154)\">\n",
       "<title>Tree</title>\n",
       "<polygon fill=\"#ffffff\" stroke=\"transparent\" points=\"-4,4 -4,-154 247.5371,-154 247.5371,4 -4,4\"/>\n",
       "<!-- 0 -->\n",
       "<g id=\"node1\" class=\"node\">\n",
       "<title>0</title>\n",
       "<polygon fill=\"none\" stroke=\"#000000\" points=\"180.8066,-150 61.7306,-150 61.7306,-86 180.8066,-86 180.8066,-150\"/>\n",
       "<text text-anchor=\"middle\" x=\"121.2686\" y=\"-134.8\" font-family=\"Times,serif\" font-size=\"14.00\" fill=\"#000000\">X[0] &lt;= 0.5</text>\n",
       "<text text-anchor=\"middle\" x=\"121.2686\" y=\"-120.8\" font-family=\"Times,serif\" font-size=\"14.00\" fill=\"#000000\">gini = 0.499</text>\n",
       "<text text-anchor=\"middle\" x=\"121.2686\" y=\"-106.8\" font-family=\"Times,serif\" font-size=\"14.00\" fill=\"#000000\">samples = 500</text>\n",
       "<text text-anchor=\"middle\" x=\"121.2686\" y=\"-92.8\" font-family=\"Times,serif\" font-size=\"14.00\" fill=\"#000000\">value = [241, 259]</text>\n",
       "</g>\n",
       "<!-- 1 -->\n",
       "<g id=\"node2\" class=\"node\">\n",
       "<title>1</title>\n",
       "<polygon fill=\"none\" stroke=\"#000000\" points=\"112.3066,-50 .2305,-50 .2305,0 112.3066,0 112.3066,-50\"/>\n",
       "<text text-anchor=\"middle\" x=\"56.2686\" y=\"-34.8\" font-family=\"Times,serif\" font-size=\"14.00\" fill=\"#000000\">gini = 0.407</text>\n",
       "<text text-anchor=\"middle\" x=\"56.2686\" y=\"-20.8\" font-family=\"Times,serif\" font-size=\"14.00\" fill=\"#000000\">samples = 246</text>\n",
       "<text text-anchor=\"middle\" x=\"56.2686\" y=\"-6.8\" font-family=\"Times,serif\" font-size=\"14.00\" fill=\"#000000\">value = [176, 70]</text>\n",
       "</g>\n",
       "<!-- 0&#45;&gt;1 -->\n",
       "<g id=\"edge1\" class=\"edge\">\n",
       "<title>0&#45;&gt;1</title>\n",
       "<path fill=\"none\" stroke=\"#000000\" d=\"M98.8992,-85.9947C92.6655,-77.0756 85.8793,-67.3661 79.5921,-58.3706\"/>\n",
       "<polygon fill=\"#000000\" stroke=\"#000000\" points=\"82.349,-56.2054 73.7515,-50.014 76.6115,-60.2156 82.349,-56.2054\"/>\n",
       "<text text-anchor=\"middle\" x=\"69.3891\" y=\"-70.4305\" font-family=\"Times,serif\" font-size=\"14.00\" fill=\"#000000\">True</text>\n",
       "</g>\n",
       "<!-- 2 -->\n",
       "<g id=\"node3\" class=\"node\">\n",
       "<title>2</title>\n",
       "<polygon fill=\"none\" stroke=\"#000000\" points=\"243.3066,-50 131.2305,-50 131.2305,0 243.3066,0 243.3066,-50\"/>\n",
       "<text text-anchor=\"middle\" x=\"187.2686\" y=\"-34.8\" font-family=\"Times,serif\" font-size=\"14.00\" fill=\"#000000\">gini = 0.381</text>\n",
       "<text text-anchor=\"middle\" x=\"187.2686\" y=\"-20.8\" font-family=\"Times,serif\" font-size=\"14.00\" fill=\"#000000\">samples = 254</text>\n",
       "<text text-anchor=\"middle\" x=\"187.2686\" y=\"-6.8\" font-family=\"Times,serif\" font-size=\"14.00\" fill=\"#000000\">value = [65, 189]</text>\n",
       "</g>\n",
       "<!-- 0&#45;&gt;2 -->\n",
       "<g id=\"edge2\" class=\"edge\">\n",
       "<title>0&#45;&gt;2</title>\n",
       "<path fill=\"none\" stroke=\"#000000\" d=\"M143.982,-85.9947C150.3116,-77.0756 157.2023,-67.3661 163.5862,-58.3706\"/>\n",
       "<polygon fill=\"#000000\" stroke=\"#000000\" points=\"166.5834,-60.1947 169.5167,-50.014 160.8749,-56.1435 166.5834,-60.1947\"/>\n",
       "<text text-anchor=\"middle\" x=\"173.702\" y=\"-70.4612\" font-family=\"Times,serif\" font-size=\"14.00\" fill=\"#000000\">False</text>\n",
       "</g>\n",
       "</g>\n",
       "</svg>\n"
      ],
      "text/plain": [
       "<graphviz.files.Source at 0x11b0c2050>"
      ]
     },
     "execution_count": 871,
     "metadata": {},
     "output_type": "execute_result"
    }
   ],
   "source": [
    "clf_gini = DecisionTreeClassifier(max_depth=1)\n",
    "clf_gini.fit(train[:,1:5],train[:,-1])\n",
    "dot_data = tree.export_graphviz(clf_gini, out_file=None)\n",
    "graph = graphviz.Source(dot_data)\n",
    "graph"
   ]
  },
  {
   "cell_type": "markdown",
   "metadata": {},
   "source": [
    "#### Part 2a iii) Error for Surrogate Split"
   ]
  },
  {
   "cell_type": "code",
   "execution_count": 872,
   "metadata": {
    "collapsed": false
   },
   "outputs": [],
   "source": [
    "mlsq_err = clf_gini.predict(test[:,1:-1])-test[:,-1]\n",
    "mlsq_err = mlsq_err**2\n",
    "error = (1/float(test.shape[0]))*sum(mlsq_err)"
   ]
  },
  {
   "cell_type": "code",
   "execution_count": 873,
   "metadata": {
    "collapsed": false
   },
   "outputs": [
    {
     "data": {
      "text/plain": [
       "0.27"
      ]
     },
     "execution_count": 873,
     "metadata": {},
     "output_type": "execute_result"
    }
   ],
   "source": [
    "error"
   ]
  },
  {
   "cell_type": "markdown",
   "metadata": {},
   "source": [
    "### Problem 2b: "
   ]
  },
  {
   "cell_type": "code",
   "execution_count": 548,
   "metadata": {
    "collapsed": true
   },
   "outputs": [],
   "source": [
    "def bootstrap(data,labels,B):\n",
    "    samp = np.random.choice(data.shape[0],B,replace='True')\n",
    "    s_d = data[samp]\n",
    "    s_l = labels[samp]\n",
    "    \n",
    "    oob_samp = set(samp)\n",
    "    oob_samp = set(np.arange(0,500))-oob_samp\n",
    "    l = [v for v in oob_samp]\n",
    "    oob_data = data[l]\n",
    "    oob_labels = labels[l]\n",
    "    \n",
    "    return (s_d,s_l,oob_data,oob_labels)"
   ]
  },
  {
   "cell_type": "code",
   "execution_count": 525,
   "metadata": {
    "collapsed": false
   },
   "outputs": [],
   "source": [
    "def get_best_split_ind_k(data,labels, k_inds):\n",
    "    split_info = calc_best_giniReduction_each_var(data,labels)\n",
    "    best_split_ind = -1\n",
    "    best_gini_red = -1\n",
    "    for k in  k_inds:\n",
    "        if (split_info[:,0][k] >best_gini_red):\n",
    "                best_gini_red = split_info[:,0][k]\n",
    "                best_split_ind = k\n",
    "    return (best_split_ind,best_gini_red)"
   ]
  },
  {
   "cell_type": "code",
   "execution_count": 526,
   "metadata": {
    "collapsed": false
   },
   "outputs": [],
   "source": [
    "def get_best_surrogate_split_ind_k(data,labels, k_inds, excl_ind):\n",
    "    split_info = calc_surrogate_split(data,labels,excl_ind, 0.5)\n",
    "    best_split_ind = -1\n",
    "    best_lam= -1*sys.float_info.max\n",
    "    for k in  k_inds:\n",
    "        if (split_info[k] >best_lam):\n",
    "                best_lam = split_info[k]\n",
    "                best_split_ind = k\n",
    "    return (best_split_ind,best_lam)"
   ]
  },
  {
   "cell_type": "markdown",
   "metadata": {},
   "source": [
    "### Problem 2b i:"
   ]
  },
  {
   "cell_type": "code",
   "execution_count": 564,
   "metadata": {
    "collapsed": true
   },
   "outputs": [],
   "source": [
    "def calc_lsq_err(data,labels,st):\n",
    "    labels =revert_zeros(labels)\n",
    "    predictor = np.vectorize(lambda x: 0 if x<=st else 1)\n",
    "    diff = (predictor(data)-labels)**2\n",
    "    mlsq = (diff.sum(axis=0))/float(len(labels))\n",
    "    return mlsq    "
   ]
  },
  {
   "cell_type": "code",
   "execution_count": 594,
   "metadata": {
    "collapsed": true
   },
   "outputs": [],
   "source": [
    "from scipy import stats"
   ]
  },
  {
   "cell_type": "code",
   "execution_count": 878,
   "metadata": {
    "collapsed": false
   },
   "outputs": [],
   "source": [
    "count_best_split = np.zeros((5,5))\n",
    "count_best_surr = np.zeros((5,5));\n",
    "importance_var = np.zeros((5,5))\n",
    "importance_oob = np.zeros((5,5))\n",
    "\n",
    "\n",
    "data_test = test[:,0:-1]\n",
    "test_label = revert_zeros(test[:,-1])\n",
    "predictor = np.vectorize(lambda x: 0 if x<=0.5 else 1)\n",
    "\n",
    "test_error= np.zeros((5))\n",
    "\n",
    "avg_stump_err = np.zeros((5))\n",
    "\n",
    "for k in range(1,6):\n",
    "    votes = np.zeros((1000,len(test_label)))\n",
    "    for m in range(0,1000):\n",
    "        bs = bootstrap(dat,lab,400)\n",
    "        oob_data = bs[2]\n",
    "        oob_labels = bs[3]\n",
    "        \n",
    "        k_inds = np.random.choice(5, k, replace=False)\n",
    "        best_split_info= get_best_split_ind_k(bs[0],bs[1], k_inds)\n",
    "        bst_split_idx = best_split_info[0]\n",
    "        bst_split_gini = best_split_info[1]\n",
    "        \n",
    "        count_best_split[k-1][bst_split_idx]+=1\n",
    "        importance_var[k-1][bst_split_idx]+=bst_split_gini;\n",
    "        \n",
    "        error_t = calc_lsq_err(oob_data[:,bst_split_idx],oob_labels,0.5)\n",
    "        oob_data_permuted = oob_data[:,bst_split_idx]\n",
    "        oob_data_permuted = np.random.permutation(oob_data_permuted)\n",
    "        \n",
    "        error_t_perm = calc_lsq_err(oob_data_permuted,oob_labels, 0.5)\n",
    "        votes[m]=predictor(data_test[:,bst_split_idx])\n",
    "\n",
    "        Imp_oob = error_t_perm - error_t \n",
    "        importance_oob[k-1][bst_split_idx]+=Imp_oob\n",
    "        avg_stump_err[k-1]+=calc_lsq_err(oob_data[:,bst_split_idx],oob_labels,0.5)\n",
    "        \n",
    "        if k !=1:\n",
    "            best_surr_info = get_best_surrogate_split_ind_k(bs[0],bs[1],k_inds,bst_split_idx)\n",
    "            bst_surr_idx = best_surr_info[0]\n",
    "            count_best_surr[k-1][bst_surr_idx]+=1\n",
    "    majority_vote = stats.mode(votes,axis=0)[0][0]\n",
    "    diff = (majority_vote-test_label)**2\n",
    "    mlsq = (diff.sum(axis=0))/float(len(test_label))\n",
    "    test_error[k-1]=mlsq"
   ]
  },
  {
   "cell_type": "code",
   "execution_count": 616,
   "metadata": {
    "collapsed": false
   },
   "outputs": [
    {
     "data": {
      "text/plain": [
       "array([[  207.,   165.,   185.,   224.,   219.],\n",
       "       [  406.,   273.,   126.,   110.,    85.],\n",
       "       [  613.,   288.,    32.,    39.,    28.],\n",
       "       [  795.,   205.,     0.,     0.,     0.],\n",
       "       [ 1000.,     0.,     0.,     0.,     0.]])"
      ]
     },
     "execution_count": 616,
     "metadata": {},
     "output_type": "execute_result"
    }
   ],
   "source": [
    "count_best_split"
   ]
  },
  {
   "cell_type": "code",
   "execution_count": 617,
   "metadata": {
    "collapsed": false
   },
   "outputs": [
    {
     "data": {
      "text/plain": [
       "array([[    0.,     0.,     0.,     0.,     0.],\n",
       "       [    0.,   101.,   283.,   304.,   312.],\n",
       "       [    0.,   326.,   449.,   183.,    42.],\n",
       "       [    0.,   570.,   424.,     4.,     2.],\n",
       "       [    0.,  1000.,     0.,     0.,     0.]])"
      ]
     },
     "execution_count": 617,
     "metadata": {},
     "output_type": "execute_result"
    }
   ],
   "source": [
    "count_best_surr"
   ]
  },
  {
   "cell_type": "markdown",
   "metadata": {},
   "source": [
    "#### Part 2b i: Summarize Best Split Counts:\n",
    "\n",
    "| K \t|  X1  \t|  X2 \t| X3  \t| X4  \t| X5 \t|\n",
    "|---\t|:----:\t|:---:\t|-----\t|-----\t|----\t|\n",
    "| 1 \t| 207  \t| 165 \t| 185 \t| 224 \t| 0  \t|\n",
    "| 2 \t| 406  \t| 273 \t| 126 \t| 110 \t| 0  \t|\n",
    "| 3 \t| 613  \t| 288 \t| 32  \t| 39  \t| 0  \t|\n",
    "| 4 \t| 795  \t| 205 \t| 0   \t| 0   \t| 0  \t|\n",
    "| 5 \t| 1000 \t| 0   \t| 0   \t| 0   \t| 0  \t|\n",
    "\n",
    "\n",
    "#### Surrogate Split Counts:\n",
    "\n",
    "| K \t| X1 \t|  X2  \t| X3  \t| X4  \t| X5  \t|\n",
    "|---\t|:--:\t|:----:\t|-----\t|-----\t|-----\t|\n",
    "| 1 \t| 0  \t|    0 \t| 0   \t| 0   \t| 0   \t|\n",
    "| 2 \t| 0  \t|  101 \t| 283 \t| 304 \t| 312 \t|\n",
    "| 3 \t| 0  \t|  326 \t| 449 \t| 183 \t| 42  \t|\n",
    "| 4 \t| 0  \t| 570  \t| 424 \t| 4   \t| 2   \t|\n",
    "| 5 \t| 0  \t| 1000 \t| 0   \t| 0   \t| 0   \t|\n",
    "\n",
    "\n",
    "Summary:\n",
    "\n",
    "The tables suggest that X1 is the most important variable and that X2 is a helpful feature. The other features don't really help differentiate to determine the result. For the Best Splits count the dependence on K is revealed, as the bootstrap sample grows X1 is the unanmoiously the best split. This suggests that there is not any masking going on as the only times other variables are chosen to be the best split is when X1 may not be apart of the sample. "
   ]
  },
  {
   "cell_type": "markdown",
   "metadata": {},
   "source": [
    "### Problem 2b ii:"
   ]
  },
  {
   "cell_type": "markdown",
   "metadata": {},
   "source": [
    "#### Equation 5 Calculations:"
   ]
  },
  {
   "cell_type": "code",
   "execution_count": 618,
   "metadata": {
    "collapsed": false
   },
   "outputs": [],
   "source": [
    "importance_var = importance_var/1000 # Equation 5"
   ]
  },
  {
   "cell_type": "code",
   "execution_count": 619,
   "metadata": {
    "collapsed": false
   },
   "outputs": [
    {
     "data": {
      "text/plain": [
       "array([[ 0.07958237,  0.04972432,  0.0462178 ,  0.05597934,  0.05471146],\n",
       "       [ 0.15592776,  0.08237153,  0.03159458,  0.02753181,  0.02123894],\n",
       "       [ 0.23503059,  0.08683887,  0.00801957,  0.0097875 ,  0.00701204],\n",
       "       [ 0.305394  ,  0.06193933,  0.        ,  0.        ,  0.        ],\n",
       "       [ 0.38432511,  0.        ,  0.        ,  0.        ,  0.        ]])"
      ]
     },
     "execution_count": 619,
     "metadata": {},
     "output_type": "execute_result"
    }
   ],
   "source": [
    "importance_var"
   ]
  },
  {
   "cell_type": "markdown",
   "metadata": {},
   "source": [
    "#### Note Table Above (Each Row is for K=1:5 and each column corresponds with X1:X5 "
   ]
  },
  {
   "cell_type": "markdown",
   "metadata": {},
   "source": [
    "#### Equation 6 Calculations: (Out of Bag)"
   ]
  },
  {
   "cell_type": "code",
   "execution_count": 879,
   "metadata": {
    "collapsed": false
   },
   "outputs": [],
   "source": [
    "importance_oob = importance_oob/1000.0"
   ]
  },
  {
   "cell_type": "code",
   "execution_count": 881,
   "metadata": {
    "collapsed": false
   },
   "outputs": [],
   "source": [
    "np.set_printoptions(precision=3)"
   ]
  },
  {
   "cell_type": "code",
   "execution_count": 882,
   "metadata": {
    "collapsed": false
   },
   "outputs": [
    {
     "name": "stdout",
     "output_type": "stream",
     "text": [
      "[[  7.676e-02   4.641e-02   3.155e-03  -3.207e-03   7.894e-04]\n",
      " [  1.469e-01   7.113e-02   8.415e-04  -7.344e-04   2.854e-04]\n",
      " [  2.060e-01   7.381e-02   2.415e-05  -6.119e-04   5.096e-05]\n",
      " [  2.992e-01   4.232e-02   0.000e+00   0.000e+00   0.000e+00]\n",
      " [  3.674e-01   0.000e+00   0.000e+00   0.000e+00   0.000e+00]]\n"
     ]
    }
   ],
   "source": [
    "print(importance_oob)"
   ]
  },
  {
   "cell_type": "markdown",
   "metadata": {},
   "source": [
    "#### Note Table Above (Each Row is for K=1:5 and each column corresponds with X1:X5 "
   ]
  },
  {
   "cell_type": "markdown",
   "metadata": {},
   "source": [
    "#### Summary: \n",
    "\n",
    "It appears using eqations 5 and 6 seems to reduce the visibility of potential masking going on. However the data continues to suggest taht X1 is the most important feature in the dataset and X2 appears to be the next best feature. As K increase the variable importance using both equation 5 and equation 6 for all variables besides X1 goes down. X1 grows in importance as the likelihood of it being included in a bootstrap sample increases. "
   ]
  },
  {
   "cell_type": "markdown",
   "metadata": {},
   "source": [
    "### Problem 2b iii:"
   ]
  },
  {
   "cell_type": "markdown",
   "metadata": {},
   "source": [
    "#### Majority Vote:"
   ]
  },
  {
   "cell_type": "code",
   "execution_count": 622,
   "metadata": {
    "collapsed": false
   },
   "outputs": [
    {
     "data": {
      "text/plain": [
       "array([ 0.27,  0.15,  0.1 ,  0.1 ,  0.1 ])"
      ]
     },
     "execution_count": 622,
     "metadata": {},
     "output_type": "execute_result"
    }
   ],
   "source": [
    "test_error #Each row represents K 1-5"
   ]
  },
  {
   "cell_type": "markdown",
   "metadata": {},
   "source": [
    "#### Average Stump Error:"
   ]
  },
  {
   "cell_type": "code",
   "execution_count": 627,
   "metadata": {
    "collapsed": false
   },
   "outputs": [],
   "source": [
    "avg_stump_err = avg_stump_err/1000"
   ]
  },
  {
   "cell_type": "code",
   "execution_count": 628,
   "metadata": {
    "collapsed": false
   },
   "outputs": [
    {
     "data": {
      "text/plain": [
       "array([ 0.37930277,  0.28597317,  0.20576394,  0.15921849,  0.13183545])"
      ]
     },
     "execution_count": 628,
     "metadata": {},
     "output_type": "execute_result"
    }
   ],
   "source": [
    "avg_stump_err #Each row represents K 1-5"
   ]
  },
  {
   "cell_type": "markdown",
   "metadata": {},
   "source": [
    "#### 2b iii, Explanation: \n",
    "\n",
    "The correct way to measure random forest error is by computing the loss with majority vote. "
   ]
  },
  {
   "cell_type": "markdown",
   "metadata": {},
   "source": [
    "### Problem 2c:"
   ]
  },
  {
   "cell_type": "code",
   "execution_count": 883,
   "metadata": {
    "collapsed": false
   },
   "outputs": [
    {
     "name": "stderr",
     "output_type": "stream",
     "text": [
      "/Users/niralshah/anaconda/envs/capstone/lib/python2.7/site-packages/ipykernel/__main__.py:2: VisibleDeprecationWarning: using a non-integer number instead of an integer will result in an error in the future\n",
      "  from ipykernel import kernelapp as app\n"
     ]
    }
   ],
   "source": [
    "count_best_split = np.zeros((5,5))\n",
    "count_best_surr = np.zeros((5,5));\n",
    "importance_var = np.zeros((5,5))\n",
    "importance_oob = np.zeros((5,5))\n",
    "std_dev_var = np.zeros((5,5))\n",
    "std_dev_var_oob = np.zeros((5,5))\n",
    "\n",
    "data_test = test[:,0:-1]\n",
    "\n",
    "predictor = np.vectorize(lambda x: 0 if x<=0.5 else 1)\n",
    "\n",
    "\n",
    "avg_stump_err = np.zeros((5))\n",
    "\n",
    "b_vals = [0.4,0.5,0.6, 0.7, 0.8]\n",
    "\n",
    "K=2\n",
    "k=0\n",
    "for B in b_vals:\n",
    "    votes = np.zeros((1000,len(test_label)))\n",
    "    importance_sum = np.zeros((1000,5))\n",
    "    importance_oob_sum = np.zeros((1000,5))\n",
    "    \n",
    "    for m in range(0,1000):\n",
    "        bs = bootstrap(dat,lab,B*500)\n",
    "        oob_data = bs[2]\n",
    "        oob_labels = bs[3]\n",
    "        \n",
    "        k_inds = np.random.choice(5, K, replace=False)\n",
    "        best_split_info= get_best_split_ind_k(bs[0],bs[1], k_inds)\n",
    "        bst_split_idx = best_split_info[0]\n",
    "        bst_split_gini = best_split_info[1]\n",
    "        \n",
    "#         count_best_split[k-1][bst_split_idx]+=1\n",
    "        importance_sum[m][bst_split_idx] +=bst_split_gini;\n",
    "        \n",
    "        error_t = calc_lsq_err(oob_data[:,bst_split_idx],oob_labels,0.5)\n",
    "        oob_data_permuted = oob_data[:,bst_split_idx]\n",
    "        oob_data_permuted = np.random.permutation(oob_data_permuted)\n",
    "        error_t_perm = calc_lsq_err(oob_data_permuted,oob_labels, 0.5)\n",
    "        Imp_oob = error_t_perm - error_t \n",
    "        importance_oob_sum[m][bst_split_idx]+=Imp_oob\n",
    "        \n",
    "#         votes[m]=predictor(data_test[:,bst_split_idx])\n",
    "         #since K=2 \n",
    "        best_surr_info = get_best_surrogate_split_ind_k(bs[0],bs[1],k_inds,bst_split_idx)\n",
    "        bst_surr_idx = best_surr_info[0]\n",
    "#         count_best_surr[k-1][bst_surr_idx]+=1\n",
    "    \n",
    "    importance_var[k-1]=np.sum(importance_sum,axis=0)\n",
    "    importance_oob[k-1] = np.sum(importance_oob_sum,axis=0)\n",
    "    std_dev_var[k-1] = np.std(importance_sum,axis=0)\n",
    "    std_dev_var_oob[k-1] = np.std(importance_oob_sum,axis=0)\n",
    "    k+=1"
   ]
  },
  {
   "cell_type": "markdown",
   "metadata": {},
   "source": [
    "### Problem 2c i:"
   ]
  },
  {
   "cell_type": "code",
   "execution_count": 887,
   "metadata": {
    "collapsed": true
   },
   "outputs": [],
   "source": [
    "np.set_printoptions(precision=3)"
   ]
  },
  {
   "cell_type": "markdown",
   "metadata": {},
   "source": [
    "#### Equation 5:"
   ]
  },
  {
   "cell_type": "code",
   "execution_count": 884,
   "metadata": {
    "collapsed": false
   },
   "outputs": [],
   "source": [
    "importance_var = importance_var/1000"
   ]
  },
  {
   "cell_type": "code",
   "execution_count": 885,
   "metadata": {
    "collapsed": false
   },
   "outputs": [
    {
     "data": {
      "text/plain": [
       "array([[ 0.152,  0.088,  0.027,  0.027,  0.023],\n",
       "       [ 0.154,  0.097,  0.021,  0.026,  0.024],\n",
       "       [ 0.157,  0.095,  0.023,  0.024,  0.023],\n",
       "       [ 0.168,  0.085,  0.025,  0.026,  0.019],\n",
       "       [ 0.147,  0.097,  0.029,  0.026,  0.02 ]])"
      ]
     },
     "execution_count": 885,
     "metadata": {},
     "output_type": "execute_result"
    }
   ],
   "source": [
    "importance_var"
   ]
  },
  {
   "cell_type": "markdown",
   "metadata": {},
   "source": [
    "#### Note Table Above (Each row corresponds to B and each column corresponds with X1:X5 "
   ]
  },
  {
   "cell_type": "markdown",
   "metadata": {},
   "source": [
    "#### Equation 6:"
   ]
  },
  {
   "cell_type": "code",
   "execution_count": 886,
   "metadata": {
    "collapsed": false
   },
   "outputs": [],
   "source": [
    "importance_oob = importance_oob/1000"
   ]
  },
  {
   "cell_type": "code",
   "execution_count": 888,
   "metadata": {
    "collapsed": false
   },
   "outputs": [
    {
     "data": {
      "text/plain": [
       "array([[  1.451e-01,   6.739e-02,   1.110e-03,  -1.768e-03,   4.385e-05],\n",
       "       [  1.459e-01,   7.341e-02,   8.413e-04,  -2.072e-03,   6.117e-04],\n",
       "       [  1.500e-01,   7.239e-02,   6.446e-04,  -4.417e-04,   6.037e-04],\n",
       "       [  1.608e-01,   6.492e-02,   8.996e-04,  -7.461e-04,  -2.289e-04],\n",
       "       [  1.403e-01,   7.353e-02,   1.592e-03,  -1.328e-03,   3.972e-04]])"
      ]
     },
     "execution_count": 888,
     "metadata": {},
     "output_type": "execute_result"
    }
   ],
   "source": [
    "importance_oob"
   ]
  },
  {
   "cell_type": "markdown",
   "metadata": {},
   "source": [
    "#### Note Table Above (Each row corresponds to B and each column corresponds with X1:X5 "
   ]
  },
  {
   "cell_type": "markdown",
   "metadata": {},
   "source": [
    "#### Summary: \n",
    "\n",
    "The table indicates the X1 is the most important feature. An interesting thing to note is that as the number of bootstrap sample increases, the importance value appears to decrease for X1 and increase for all other variables (generally). "
   ]
  },
  {
   "cell_type": "markdown",
   "metadata": {},
   "source": [
    "### Problem 2c ii:\n",
    "\n",
    "#### Note Tables Below (Each row corresponds to B and each column corresponds with X1:X5 "
   ]
  },
  {
   "cell_type": "markdown",
   "metadata": {},
   "source": [
    "#### Std deviation using Equation 5"
   ]
  },
  {
   "cell_type": "code",
   "execution_count": 889,
   "metadata": {
    "collapsed": false
   },
   "outputs": [
    {
     "data": {
      "text/plain": [
       "array([[ 0.188,  0.137,  0.078,  0.078,  0.073],\n",
       "       [ 0.188,  0.141,  0.069,  0.076,  0.073],\n",
       "       [ 0.189,  0.141,  0.072,  0.074,  0.072],\n",
       "       [ 0.191,  0.136,  0.074,  0.077,  0.067],\n",
       "       [ 0.187,  0.141,  0.08 ,  0.076,  0.068]])"
      ]
     },
     "execution_count": 889,
     "metadata": {},
     "output_type": "execute_result"
    }
   ],
   "source": [
    "std_dev_var"
   ]
  },
  {
   "cell_type": "markdown",
   "metadata": {},
   "source": [
    "#### Std deviation using Equation 6"
   ]
  },
  {
   "cell_type": "code",
   "execution_count": 890,
   "metadata": {
    "collapsed": false
   },
   "outputs": [
    {
     "data": {
      "text/plain": [
       "array([[ 0.18 ,  0.106,  0.012,  0.014,  0.011],\n",
       "       [ 0.18 ,  0.109,  0.011,  0.014,  0.012],\n",
       "       [ 0.182,  0.109,  0.012,  0.012,  0.011],\n",
       "       [ 0.184,  0.106,  0.014,  0.013,  0.013],\n",
       "       [ 0.179,  0.108,  0.012,  0.01 ,  0.009]])"
      ]
     },
     "execution_count": 890,
     "metadata": {},
     "output_type": "execute_result"
    }
   ],
   "source": [
    "std_dev_var_oob"
   ]
  },
  {
   "cell_type": "code",
   "execution_count": null,
   "metadata": {
    "collapsed": true
   },
   "outputs": [],
   "source": []
  }
 ],
 "metadata": {
  "kernelspec": {
   "display_name": "Python 2",
   "language": "python",
   "name": "python2"
  },
  "language_info": {
   "codemirror_mode": {
    "name": "ipython",
    "version": 2
   },
   "file_extension": ".py",
   "mimetype": "text/x-python",
   "name": "python",
   "nbconvert_exporter": "python",
   "pygments_lexer": "ipython2",
   "version": "2.7.13"
  }
 },
 "nbformat": 4,
 "nbformat_minor": 2
}
