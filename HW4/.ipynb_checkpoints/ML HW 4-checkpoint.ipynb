{
 "cells": [
  {
   "cell_type": "markdown",
   "metadata": {},
   "source": [
    "# ML HW 4\n",
    "## By: Niral Shah \n",
    "### 02/28/18"
   ]
  },
  {
   "cell_type": "code",
   "execution_count": 1,
   "metadata": {
    "collapsed": false
   },
   "outputs": [],
   "source": [
    "from sklearn.datasets.samples_generator import make_blobs\n",
    "import matplotlib.pyplot as plt\n",
    "import pandas as pd\n",
    "import numpy as np \n",
    "import cvxopt\n",
    "from cvxopt import matrix"
   ]
  },
  {
   "cell_type": "markdown",
   "metadata": {},
   "source": [
    "## Problem 1: "
   ]
  },
  {
   "cell_type": "markdown",
   "metadata": {},
   "source": [
    "**a.**)  $K(x,z)=aK_1(x,z)$ : **No,This is only a kernel if a>0**. As this mapping would equal: $<\\sqrt{a}\\phi{x}, \\sqrt{a}\\phi{z} >$. As a result the mapping would not exist in the real space if a$<$ 0. Otherwise for all a$>$0, then this kernel satisifies the properties of an inner product (symmetry, bilinearity, and strict PSD) and would be a kernel. \n",
    "\n",
    "\n",
    "**b.**)   $K(x,z)=<x,z>^3+(<x,z>-1)^2$ : **No, This is not a kernel** : \n",
    "\n",
    "$ K(x,z) = <x,z>^3 + (<x,z> -1)^2 \\\\ \n",
    "         = (x^{T}z)^3 + (x^{T}z-1)^2 \\\\\n",
    "         = \\sum\\limits_{i=1}^n\\sum\\limits_{j=1}^n\\sum\\limits_{k=1}^n x^{(i)}x^{(j)}x^{(k)}z^{(i)}z^{(j)}z^{(k)}+ \\sum\\limits_{i=1}^n(x^{(i)}z^{(i)}-1)\\sum\\limits_{j=1}^n(x^{(j)}z^{(j)}-1) \\\\ $\n",
    "      \n",
    "      \n",
    "**Simplify Second Term:**\n",
    "\n",
    "$\\sum\\limits_{i=1}^n(x^{(i)}z^{(i)}-1)\\sum\\limits_{j=1}^n(x^{(j)}z^{(j)}-1) \\\\ $\n",
    "\n",
    "$ = \\sum\\limits_{i=1}^n\\sum\\limits_{j=1}^n x^{(i)}x^{(j)}z^{(i)}z^{(j)} - \n",
    "2\\sum\\limits_{i=1}^nx^{(i)}z^{(i)} +1 \\\\ $\n",
    "\n",
    "** This term is problematic: **\n",
    "\n",
    "$2\\sum\\limits_{i=1}^nx^{(i)}z^{(i)} +1 \\\\ \n",
    "    = <\\sqrt{-2}x^i, \\sqrt{-2}z^i> \n",
    "$\n",
    "\n",
    "By the properties of a kernel the linear combination of several kernels results in another kernel as long as the coefficients are greater than 0. However since in this case one of the terms reduces to a feature mapping that is not a kernel (due to the $\\sqrt{-2}$ term), the equation is not a kernel. \n",
    "\n",
    "**c.**)  $K(x,z)=<x,z>^2+\\exp(-\\|x\\|^2)\\exp(-\\|z\\|^2)$: **Yes, This is a kernel** \n",
    "\n",
    "Using the properties of a kernel: \n",
    "Since $<x,z>^2$ is a valid kernel, and $exp(k(x,z))$ is also a kernel along with property 2 that the product of two kernels (in this case $\\exp(-\\|x\\|^2)\\exp(-\\|z\\|^2$ ) is also a kernel. This simplifies down the property 1 where the linear combination of valid kernels results in a valid kernel. "
   ]
  },
  {
   "cell_type": "markdown",
   "metadata": {},
   "source": [
    "## Problem 2: \n",
    "\n",
    "In order for kenel k to be a RKHS it must satisfy two property namely: \n",
    "* $f(x) = < f(\\cdot), k(\\cdot,x) >_{H_k} $\n",
    "* k spans the hilbert space $H$ for all X \n",
    "\n",
    "** Using Mercer's Theorem we can find such a space with an inner product defined as:** \n",
    "\n",
    "** $ < f(x), k(x,y) >_{H_k} = 3\\int_{f=0}^{1}k(x,y)f(y)dy $ **\n",
    "\n",
    "* Let's prove it satisifies the first property: \n",
    "For $f(x) = ax$ and $K(x,y) = xy$ \n",
    "\n",
    "If its a reproducible kernel: \n",
    "\n",
    "f(x) $ \\stackrel{?}{=}$ $3\\int_{f=0,}^{1}k(x,y)f(y)dy$ \n",
    "\n",
    "$ = 3\\int_{f=0}^{1}(ay)(xy)dy \\\\ \n",
    "= 3\\int_{f=0}^{1}(ax)(y^2)dy \\\\ \n",
    "= 3ax\\frac{y^3}{3}|_{0}^{1} \\\\\n",
    "= ax \\\\\n",
    "= f(x) \\\\\n",
    "f(x) \\stackrel{\\checkmark}{=} f(x)$\n",
    "Thus it is reproducible. \n",
    "\n",
    "** So for the space defined by the inner product: ** \n",
    "\n",
    "$ < f(x), k(x,y) >_{H_k} = 3\\int_{f=0}^{1}k(x,y)f(y)dy $ \n",
    "\n",
    "** it is a reproducible kernel** \n",
    "\n",
    "However, we also need to check the space is complete and k spans the hilbert space. \n",
    "\n",
    "If the space is complete then the norm of $ \\sqrt{|| f(x) ||} = \\sqrt{<f(x), f(x) >^2}  \\in\\mathbb{R} $ : \n",
    "\n",
    "**Proof it is complete:**\n",
    "\n",
    "$\\sqrt{<f(x), f(x) >^2}$\n",
    "\n",
    "$ =\\sqrt{ 3\\int_{f=0}^{1}(ax)(ax)dy} \\\\ \n",
    "= \\sqrt{3\\int_{f=0}^{1}(a^2)(x^2)dy }\\\\ \n",
    "= \\sqrt{3a^2\\frac{x^3}{3}|_{0}^{1} }\\\\\n",
    "= \\sqrt{a^2} \\\\ \n",
    "= a $ \n",
    "\n",
    "Since a $\\in\\mathbb{R}$, the space is a complete and positive definite. \n",
    "\n",
    "Finally, we can say $K(x,y)$ spans the hilbert space for: $span\\{k(\\cdot,x) : x \\in \\mathbb{X}\\} $\n",
    "\n",
    "**Summary:**\n",
    "\n",
    "Collectively this means for a space defined by an inner product: ** $ < f(x), k(x,y) >_{H_k} = 3\\int_{f=0}^{1}k(x,y)f(y)dy $ **, kernel K is RKHS for a set of functions f, f(x) = ax. "
   ]
  },
  {
   "cell_type": "markdown",
   "metadata": {},
   "source": [
    "## Problem 3: "
   ]
  },
  {
   "cell_type": "markdown",
   "metadata": {},
   "source": [
    "### Problem 3a: \n",
    "\n",
    "#### What is the Langrangian function:\n",
    "\n",
    "$\\mathcal{L}(y,w,\\epsilon, \\eta, \\eta^*, \\alpha, \\alpha^*, \\beta, \\beta^* ) = \\frac{1}{2}||w||^2+ C\\sum\\limits_{i=1}^{n} (\\eta_{i} + \\eta_{i}^*) + \\sum\\limits_{i=1}^{n}\\alpha_{i}[y_i -<w,x_i> - \\epsilon - \\eta_{i}]+\\sum\\limits_{i=1}^{n}\\alpha^*_{i}[<w,x_i>-y_i - \\epsilon - \\eta^*_{i}] + \\sum\\limits_{i=1}^{n}\\beta_i(-\\eta_i) + \\sum\\limits_{i=1}^{n}\\beta^*_i(-\\eta^*_i) $\n",
    "\n",
    "Subject to constraints of primal feasability: \n",
    "$\\alpha_i,\\alpha^*_i, \\beta_i, \\beta_i^* \\geq 0 $\n",
    "\n",
    "#### Find the Dual Form: \n",
    "\n",
    "Use the Lagrangian Stationary to simplify the primal form: \n",
    "\n",
    "* (1) $\\triangledown_{w}\\mathcal{L} = w - \\sum\\limits_{i=1}^n \\alpha_ix_i + \\sum\\limits_{i=1}^n \\alpha^*_ix_i = 0$  \n",
    "    * $w = -\\sum\\limits_{i=1}^n \\alpha_ix_i + \\sum\\limits_{i=1}^n \\alpha^*_ix_i$\n",
    "    \n",
    "    \n",
    "\n",
    "* (2) $\\triangledown_{\\eta}\\mathcal{L} = C - \\sum\\limits_{i=1}^n \\alpha_i - \\sum\\limits_{i=1}^n \\beta_i = 0$ \n",
    "     * $ C = \\sum\\limits_{i=1}^n \\alpha_i + \\sum\\limits_{i=1}^n \\beta_i $\n",
    "\n",
    "\n",
    "* (3) $\\triangledown_{\\eta^*}\\mathcal{L} = C - \\sum\\limits_{i=1}^n \\alpha^*_i - \\sum\\limits_{i=1}^n \\beta^*_i = 0$\n",
    "    * $ C = \\sum\\limits_{i=1}^n \\alpha^*_i + \\sum\\limits_{i=1}^n \\beta^*_i $\n",
    "\n",
    "Note the above also suggests that: \n",
    "$ C - \\alpha_i = \\beta_i \\geq 0 \\\\\n",
    "\\rightarrow C \\geq \\alpha_i \\\\\n",
    "\\rightarrow C \\geq \\alpha^*_i$\n",
    "\n",
    "Now substituting equations 2 ($\\triangledown_{\\eta}\\mathcal{L}$)  and 3 ($\\triangledown_{\\eta^*}\\mathcal{L}$)  for the values of C we can ** eliminate**  $\\eta$ and $\\eta*$ and along with it, $\\beta$ and $\\beta^*$ cancel out. (This simplification is not shown as it is trivial). The resulting equation is:\n",
    "\n",
    "$ = \\frac{1}{2} ||w||^2 + \\sum\\limits_{i=1}^n y_i(\\alpha_i-\\alpha^*_i) -\\sum\\limits_{i=1}^n (<w,x_i>)(\\alpha_i-\\alpha^*_i) + \\sum\\limits_{i=1}^n\\epsilon(\\alpha_i-\\alpha^*_i) $\n",
    "\n",
    "\n",
    "Now plug in equation 1 ($\\triangledown_{w}\\mathcal{L}$):\n",
    "\n",
    "$= -\\frac{1}{2} \\sum\\limits_{i=1}^n\\sum\\limits_{j=1}^n(\\alpha_i-\\alpha^*_i)(\\alpha_j-\\alpha^*_j)<x_i,x_j> + \\sum\\limits_{i=1}^n y_i(\\alpha_i-\\alpha^*_i) - \\sum\\limits_{i=1}^n\\epsilon(\\alpha_i-\\alpha^*_i) $\n",
    "\n",
    "Thus this simplfies it into the dual form langrangian: \n",
    "\n",
    "$\\mathcal{L}(\\alpha, \\alpha^*) = -\\frac{1}{2} \\sum\\limits_{i=1}^n\\sum\\limits_{j=1}^n(\\alpha_i-\\alpha^*_i)(\\alpha_j-\\alpha^*_j)<x_i,x_j> + \\sum\\limits_{i=1}^n y_i(\\alpha_i-\\alpha^*_i) - \\sum\\limits_{i=1}^n\\epsilon(\\alpha_i-\\alpha^*_i) $\n",
    "\n",
    "** More generally the dual problem is: ** \n",
    "\n",
    "$\\max -\\frac{1}{2} \\sum\\limits_{i=1}^n\\sum\\limits_{j=1}^n(\\alpha_i-\\alpha^*_i)(\\alpha_j-\\alpha^*_j)<x_i,x_j> + \\sum\\limits_{i=1}^n y_i(\\alpha_i-\\alpha^*_i) - \\sum\\limits_{i=1}^n\\epsilon(\\alpha_i-\\alpha^*_i) $\n",
    "\n",
    "Subject to dual feasability constraints: \n",
    "$ 0 \\leq \\alpha, \\alpha* \\leq C $"
   ]
  },
  {
   "cell_type": "markdown",
   "metadata": {},
   "source": [
    "### Problem 3b.  \n",
    "\n",
    "The support vectors are defined using the ** complementary slackness conditions ** : \n",
    "* $\\alpha_{i}[y_i -<w,x_i> - \\epsilon - \\eta_{i}] = 0 $ \n",
    "* $\\alpha^*_{i}[<w,x_i>-y_i - \\epsilon - \\eta^*_{i}] = 0 $\n",
    "* $\\beta_i(\\eta_i) = 0$\n",
    "* $\\beta^*_i(\\eta^*_i) = 0$\n",
    "\n",
    "\n",
    "Recall:\n",
    "\n",
    "** Dual Feasability Condtions: **\n",
    "* $ \\alpha, \\alpha*, \\beta, \\beta^* \\geq 0 $\n",
    "\n",
    "** Primal Feasability Conditions ** \n",
    "* $ y_i -<w,x_i> - \\epsilon - \\eta_{i} \\leq 0 $\n",
    "* $<w,x_i>-y_i - \\epsilon - \\eta^*_{i} \\leq 0 $\n",
    "\n",
    "\n",
    "#### Support Vectors:\n",
    "\n",
    "* If $\\alpha_i > 0 $ $\\checkmark$ - Possible Condition\n",
    "    * $y_i - w^Tx_i - \\epsilon - \\eta_i = 0 $\n",
    "    \n",
    "    \n",
    "* If $\\alpha^*_i > 0 $ $\\checkmark$ - Possible Condition\n",
    "    * $ <w,x_i>-y_i - \\epsilon - \\eta^*_{i}$= 0 $\n",
    "\n",
    "\n",
    "* If $y_i - w^Tx_i - \\epsilon - \\eta_i < 0 $ $\\checkmark$ - Possible Condition\n",
    "    * $\\alpha_i =  0 $\n",
    "    \n",
    "\n",
    "* If $ <w,x_i>-y_i - \\epsilon - \\eta^*_{i}  < 0 $ $\\checkmark$ - Possible Condition\n",
    "    * $\\alpha^*_i= 0 $\n",
    "    \n",
    "    \n",
    "* If $\\beta_i > 0 $ $\\checkmark$ - Possible Condition\n",
    "    * $\\eta_i = 0$ \n",
    "    \n",
    "    \n",
    "* If $\\beta^*_i > 0 $ $\\checkmark$ - Possible Condition\n",
    "    * $\\eta^*_i = 0$ \n"
   ]
  },
  {
   "cell_type": "markdown",
   "metadata": {},
   "source": [
    "### Problem 3c : \n",
    "How does $\\epsilon$ effect the complexity of the model?\n",
    "\n",
    "Looking at the Loss function: \n",
    "\n",
    "$L(x,y,f)=\\max(0,|y-f(x)|-\\epsilon)$ \n",
    "\n",
    "It's evident that $\\epsilon$ reduces the margin. Thus for smaller values of $\\epsilon$ it will approach a problem similar to a hard-margin SVM where it seeks to maximize the margin (rather than accepting penalties) since the potential loss will be higher. So overall it is more likely to overfit if $\\epsilon$ is smaller (more complex), while the opposite occur\n",
    "\n",
    "\n",
    "### Problem 3d: \n",
    "How does C effect the complexity of the model? \n",
    "\n",
    "C is the amount we penalize errors, so for lower C's it leads to a complex solution and will avoid overfitting. While larger values will increase loss and encourage overfitting. \n",
    "\n",
    "\n",
    "### Problem 3e: \n",
    "How to predict a new unseen sample x? \n",
    "\n",
    "Since $ f(x) = <w,x> $ we can substitute w using the value solved using $\\triangledown_{w}\\mathcal{L} \\rightarrow w = -\\sum\\limits_{i=1}^n \\alpha_ix_i + \\sum\\limits_{i=1}^n \\alpha^*_ix_i$\n",
    "\n",
    "Thus: $ f(x)$ can be rewritten as $f(x)=\\sum\\limits_{i=1}^n(\\alpha_i-\\alpha^*_i)<x_i,x>$\n",
    "\n",
    "\n"
   ]
  },
  {
   "cell_type": "markdown",
   "metadata": {},
   "source": [
    "## Problem 4a:"
   ]
  },
  {
   "cell_type": "code",
   "execution_count": 358,
   "metadata": {
    "collapsed": false
   },
   "outputs": [],
   "source": [
    "# Generate a synthetic dataset\n",
    "# adapted from sci-kit learn documentation: \n",
    "def generate_fake_data():\n",
    "    mu_1 = np.ones((2,))\n",
    "    mu_2 = 3*np.ones((2,))\n",
    "    C1 = np.diag(0.3*np.ones((2,)))\n",
    "    C2 = np.diag(0.1*np.ones((2,)))\n",
    "    \n",
    "    x1 =np.random.multivariate_normal(mu_1,C1,50)\n",
    "    y1 = np.ones((x1.shape[0]))\n",
    "    \n",
    "    x2 =np.random.multivariate_normal(mu_2,C2,50)\n",
    "    y2 = -1*np.ones((x2.shape[0]))\n",
    "    return (x1,x2,y1,y2)"
   ]
  },
  {
   "cell_type": "code",
   "execution_count": 359,
   "metadata": {
    "collapsed": true
   },
   "outputs": [],
   "source": [
    "x1,x2,y1,y2 = generate_fake_data()"
   ]
  },
  {
   "cell_type": "code",
   "execution_count": 360,
   "metadata": {
    "collapsed": false
   },
   "outputs": [
    {
     "data": {
      "text/plain": [
       "<matplotlib.collections.PathCollection at 0x11d68f850>"
      ]
     },
     "execution_count": 360,
     "metadata": {},
     "output_type": "execute_result"
    }
   ],
   "source": [
    "fig,ax = plt.subplots()\n",
    "ax.scatter(x1[:,0],x1[:,1], c='red', label='1')\n",
    "ax.scatter(x2[:,0],x2[:,1],c='blue', label='-1')"
   ]
  },
  {
   "cell_type": "code",
   "execution_count": 361,
   "metadata": {
    "collapsed": false
   },
   "outputs": [],
   "source": [
    "x = np.concatenate((x1,x2),axis=0)\n",
    "y = np.concatenate((y1,y2),axis=0)"
   ]
  },
  {
   "cell_type": "code",
   "execution_count": 362,
   "metadata": {
    "collapsed": false
   },
   "outputs": [],
   "source": [
    "#cvxopt solves min 1/2 x'Px+q'x\n",
    "\n",
    "#minimizing min 1/2 a^T * K* a  1^T * a \n",
    "# st: a >0 for all i\n",
    "# and y^T*a = 0\n",
    "\n",
    "def get_lagrange_multipliers(x,y):\n",
    "    K=y[:,None]*x\n",
    "    K = np.dot(K,K.T)\n",
    "    P = matrix(K)\n",
    "    q = matrix(-np.ones((x.shape[0],1)))\n",
    "    G = matrix(-np.eye(x.shape[0]))\n",
    "    h = matrix(np.zeros(x.shape[0])) #\n",
    "    A = y.reshape(1,-1)\n",
    "    A = A.astype(float)\n",
    "    A = matrix(A) # y' \n",
    "    b = matrix(np.zeros(1))\n",
    "    sol = cvxopt.solvers.qp(P,q,G,h,A,b)\n",
    "    alpha = np.array(sol['x'])\n",
    "    return alpha"
   ]
  },
  {
   "cell_type": "code",
   "execution_count": 363,
   "metadata": {
    "collapsed": false
   },
   "outputs": [
    {
     "name": "stdout",
     "output_type": "stream",
     "text": [
      "     pcost       dcost       gap    pres   dres\n",
      " 0: -9.8393e+00 -1.8280e+01  3e+02  2e+01  2e+00\n",
      " 1: -8.7212e+00 -5.5942e+00  6e+01  3e+00  4e-01\n",
      " 2: -7.1345e-01 -2.2902e+00  4e+00  1e-01  2e-02\n",
      " 3: -8.6559e-01 -1.4524e+00  9e-01  2e-02  3e-03\n",
      " 4: -1.0707e+00 -1.4950e+00  5e-01  2e-03  2e-04\n",
      " 5: -1.3795e+00 -1.3988e+00  2e-02  9e-05  1e-05\n",
      " 6: -1.3934e+00 -1.3939e+00  6e-04  2e-06  2e-07\n",
      " 7: -1.3937e+00 -1.3938e+00  3e-05  2e-08  2e-09\n",
      " 8: -1.3937e+00 -1.3937e+00  6e-07  2e-10  2e-11\n",
      "Optimal solution found.\n"
     ]
    }
   ],
   "source": [
    "alpha = get_lagrange_multipliers(x,y)"
   ]
  },
  {
   "cell_type": "code",
   "execution_count": 364,
   "metadata": {
    "collapsed": false
   },
   "outputs": [],
   "source": [
    "def train(alpha,x): #train function\n",
    "    w = np.sum(alpha*y[:,None]*x, axis=0)\n",
    "    cond = (alpha > 1e-4).reshape(-1) # get support vectors\n",
    "    b = y[cond] - np.dot(x[cond], w)\n",
    "    bias = b[0]\n",
    "    slope = -w[0] / w[1]\n",
    "    intercept = -bias / w[1]\n",
    "    return slope,intercept,w"
   ]
  },
  {
   "cell_type": "code",
   "execution_count": 365,
   "metadata": {
    "collapsed": false
   },
   "outputs": [],
   "source": [
    "m, b,w = train(alpha,x)"
   ]
  },
  {
   "cell_type": "code",
   "execution_count": 366,
   "metadata": {
    "collapsed": false
   },
   "outputs": [
    {
     "data": {
      "image/png": "[encoded data removed]",
      "text/plain": [
       "<matplotlib.figure.Figure at 0x11cd959d0>"
      ]
     },
     "metadata": {},
     "output_type": "display_data"
    }
   ],
   "source": [
    "xa = np.arange(0,10)\n",
    "ax.plot(xa, xa * m + b, 'k-')\n",
    "legend = ax.legend()\n",
    "plt.xlabel('X1')\n",
    "plt.ylabel('X2')\n",
    "plt.title('Hard Margin SVM')\n",
    "plt.show()"
   ]
  },
  {
   "cell_type": "code",
   "execution_count": 367,
   "metadata": {
    "collapsed": false
   },
   "outputs": [],
   "source": [
    "xtest = [6,4] #point (6,4) is on -1 side of the boundary\n",
    "def predict(x,w,b):\n",
    "    return np.sign(np.matmul(np.transpose(w), xtest) + b )"
   ]
  },
  {
   "cell_type": "code",
   "execution_count": 368,
   "metadata": {
    "collapsed": false
   },
   "outputs": [
    {
     "data": {
      "text/plain": [
       "-1.0"
      ]
     },
     "execution_count": 368,
     "metadata": {},
     "output_type": "execute_result"
    }
   ],
   "source": [
    "predict(xtest,w,b) # returns predicted label (in this case matches up correctly)"
   ]
  },
  {
   "cell_type": "markdown",
   "metadata": {},
   "source": [
    "## Problem 4b"
   ]
  },
  {
   "cell_type": "code",
   "execution_count": 2,
   "metadata": {
    "collapsed": false
   },
   "outputs": [],
   "source": [
    "from sklearn.model_selection import KFold\n",
    "from sklearn.model_selection import train_test_split"
   ]
  },
  {
   "cell_type": "code",
   "execution_count": 3,
   "metadata": {
    "collapsed": false
   },
   "outputs": [],
   "source": [
    "df = pd.read_csv('creditCard.csv')"
   ]
  },
  {
   "cell_type": "code",
   "execution_count": 4,
   "metadata": {
    "collapsed": false
   },
   "outputs": [],
   "source": [
    "y = np.array(df['Class'])"
   ]
  },
  {
   "cell_type": "code",
   "execution_count": 5,
   "metadata": {
    "collapsed": false
   },
   "outputs": [],
   "source": [
    "df = df.drop(['Class'],axis=1)"
   ]
  },
  {
   "cell_type": "code",
   "execution_count": 6,
   "metadata": {
    "collapsed": false
   },
   "outputs": [],
   "source": [
    "x = df.as_matrix()"
   ]
  },
  {
   "cell_type": "code",
   "execution_count": 7,
   "metadata": {
    "collapsed": false
   },
   "outputs": [],
   "source": [
    "x_norm = x-x.mean(axis=0)\n",
    "x_norm /=x_norm.std(axis=0)"
   ]
  },
  {
   "cell_type": "code",
   "execution_count": 8,
   "metadata": {
    "collapsed": false
   },
   "outputs": [],
   "source": [
    "x_train, x_test, y_train, y_test = train_test_split(x_norm, y,\n",
    "                                                    test_size=0.1,\n",
    "                                                    random_state=2018)"
   ]
  },
  {
   "cell_type": "code",
   "execution_count": 10,
   "metadata": {
    "collapsed": false
   },
   "outputs": [],
   "source": [
    "# for train_indx, test_indx in kf.split(x_norm):\n",
    "#     x_train, x_test = x_norm[train_indx], x_norm[test_indx]\n",
    "#     y_train, y_test = y[train_indx], y[test_indx]"
   ]
  },
  {
   "cell_type": "code",
   "execution_count": 11,
   "metadata": {
    "collapsed": false
   },
   "outputs": [],
   "source": [
    "from sklearn import svm\n",
    "from sklearn import metrics"
   ]
  },
  {
   "cell_type": "code",
   "execution_count": 15,
   "metadata": {
    "collapsed": false
   },
   "outputs": [
    {
     "data": {
      "text/plain": [
       "SVC(C=1.0, cache_size=200, class_weight=None, coef0=0.0,\n",
       "  decision_function_shape='ovr', degree=3, gamma='auto', kernel='linear',\n",
       "  max_iter=-1, probability=True, random_state=None, shrinking=True,\n",
       "  tol=0.001, verbose=False)"
      ]
     },
     "execution_count": 15,
     "metadata": {},
     "output_type": "execute_result"
    }
   ],
   "source": [
    "clf = svm.SVC(kernel='linear',probability = True)\n",
    "clf.fit(x_train,y_train)"
   ]
  },
  {
   "cell_type": "code",
   "execution_count": 18,
   "metadata": {
    "collapsed": false
   },
   "outputs": [],
   "source": [
    "fpr,tpr,thresholds = metrics.roc_curve(y_test,clf.predict_proba(x_test)[:,1],pos_label=1)"
   ]
  },
  {
   "cell_type": "code",
   "execution_count": 19,
   "metadata": {
    "collapsed": false
   },
   "outputs": [
    {
     "data": {
      "image/png": "[encoded data removed]",
      "text/plain": [
       "<matplotlib.figure.Figure at 0x10cc2f250>"
      ]
     },
     "metadata": {},
     "output_type": "display_data"
    }
   ],
   "source": [
    "plt.plot(fpr,tpr)\n",
    "plt.xlabel('FPR')\n",
    "plt.ylabel('TPR')\n",
    "plt.title('Credit Card Data Linear Kernel')\n",
    "plt.show()"
   ]
  },
  {
   "cell_type": "code",
   "execution_count": 20,
   "metadata": {
    "collapsed": false
   },
   "outputs": [
    {
     "name": "stdout",
     "output_type": "stream",
     "text": [
      "Accuracy: 0.85\n"
     ]
    }
   ],
   "source": [
    "print (\"Accuracy: %0.2f\" % (metrics.accuracy_score(y_test,clf.predict(x_test))))"
   ]
  },
  {
   "cell_type": "code",
   "execution_count": 21,
   "metadata": {
    "collapsed": false
   },
   "outputs": [
    {
     "data": {
      "text/plain": [
       "0.839622641509434"
      ]
     },
     "execution_count": 21,
     "metadata": {},
     "output_type": "execute_result"
    }
   ],
   "source": [
    "metrics.auc(fpr,tpr)"
   ]
  },
  {
   "cell_type": "markdown",
   "metadata": {},
   "source": [
    "## Problem 4c"
   ]
  },
  {
   "cell_type": "code",
   "execution_count": 22,
   "metadata": {
    "collapsed": true
   },
   "outputs": [],
   "source": [
    "# sigma^2 =5"
   ]
  },
  {
   "cell_type": "code",
   "execution_count": 23,
   "metadata": {
    "collapsed": true
   },
   "outputs": [],
   "source": [
    "sigma2 = 5\n",
    "gamma = 1/float(2*sigma2)"
   ]
  },
  {
   "cell_type": "code",
   "execution_count": 25,
   "metadata": {
    "collapsed": false
   },
   "outputs": [
    {
     "data": {
      "text/plain": [
       "SVC(C=1.0, cache_size=200, class_weight=None, coef0=0.0,\n",
       "  decision_function_shape='ovr', degree=3, gamma=0.1, kernel='rbf',\n",
       "  max_iter=-1, probability=True, random_state=None, shrinking=True,\n",
       "  tol=0.001, verbose=False)"
      ]
     },
     "execution_count": 25,
     "metadata": {},
     "output_type": "execute_result"
    }
   ],
   "source": [
    "clf = svm.SVC(kernel='rbf',gamma=gamma,probability=True)\n",
    "clf.fit(x_train,y_train)"
   ]
  },
  {
   "cell_type": "code",
   "execution_count": 26,
   "metadata": {
    "collapsed": false
   },
   "outputs": [
    {
     "data": {
      "image/png": "[encoded data removed]",
      "text/plain": [
       "<matplotlib.figure.Figure at 0x10cdd4850>"
      ]
     },
     "metadata": {},
     "output_type": "display_data"
    }
   ],
   "source": [
    "fpr,tpr,thresholds = metrics.roc_curve(y_test,clf.predict_proba(x_test)[:,1],pos_label=1)\n",
    "plt.plot(fpr,tpr)\n",
    "plt.xlabel('FPR')\n",
    "plt.ylabel('TPR')\n",
    "plt.title('Credit Card Data RBF, $\\sigma^2 =5$')\n",
    "plt.show()"
   ]
  },
  {
   "cell_type": "code",
   "execution_count": 27,
   "metadata": {
    "collapsed": false
   },
   "outputs": [
    {
     "name": "stdout",
     "output_type": "stream",
     "text": [
      "Accuracy: 0.83\n"
     ]
    }
   ],
   "source": [
    "print (\"Accuracy: %0.2f\" % (metrics.accuracy_score(y_test,clf.predict(x_test))))"
   ]
  },
  {
   "cell_type": "code",
   "execution_count": 28,
   "metadata": {
    "collapsed": false
   },
   "outputs": [
    {
     "data": {
      "text/plain": [
       "0.8276487663280117"
      ]
     },
     "execution_count": 28,
     "metadata": {},
     "output_type": "execute_result"
    }
   ],
   "source": [
    "metrics.auc(fpr,tpr)"
   ]
  },
  {
   "cell_type": "code",
   "execution_count": 30,
   "metadata": {
    "collapsed": false
   },
   "outputs": [
    {
     "data": {
      "image/png": "[encoded data removed]",
      "text/plain": [
       "<matplotlib.figure.Figure at 0x10cdb4550>"
      ]
     },
     "metadata": {},
     "output_type": "display_data"
    }
   ],
   "source": [
    "# sigma^2 = 25\n",
    "sigma2 = 25\n",
    "gamma = 1/float(2*sigma2)\n",
    "clf = svm.SVC(kernel='rbf',gamma=gamma,probability=True)\n",
    "clf.fit(x_train,y_train)\n",
    "fpr,tpr,thresholds = metrics.roc_curve(y_test,clf.predict_proba(x_test)[:,1],pos_label=1)\n",
    "plt.xlabel('FPR')\n",
    "plt.ylabel('TPR')\n",
    "plt.title('Credit Card Data RBF, $\\sigma^2 =25$')\n",
    "plt.plot(fpr,tpr)\n",
    "plt.show()"
   ]
  },
  {
   "cell_type": "code",
   "execution_count": 31,
   "metadata": {
    "collapsed": false
   },
   "outputs": [
    {
     "name": "stdout",
     "output_type": "stream",
     "text": [
      "Accuracy: 0.84\n"
     ]
    }
   ],
   "source": [
    "print (\"Accuracy: %0.2f\" % (metrics.accuracy_score(y_test,clf.predict(x_test))))"
   ]
  },
  {
   "cell_type": "code",
   "execution_count": 32,
   "metadata": {
    "collapsed": false
   },
   "outputs": [
    {
     "data": {
      "text/plain": [
       "0.8320029027576198"
      ]
     },
     "execution_count": 32,
     "metadata": {},
     "output_type": "execute_result"
    }
   ],
   "source": [
    "metrics.auc(fpr,tpr)"
   ]
  },
  {
   "cell_type": "code",
   "execution_count": null,
   "metadata": {
    "collapsed": true
   },
   "outputs": [],
   "source": []
  }
 ],
 "metadata": {
  "kernelspec": {
   "display_name": "Python 2",
   "language": "python",
   "name": "python2"
  },
  "language_info": {
   "codemirror_mode": {
    "name": "ipython",
    "version": 2
   },
   "file_extension": ".py",
   "mimetype": "text/x-python",
   "name": "python",
   "nbconvert_exporter": "python",
   "pygments_lexer": "ipython2",
   "version": "2.7.13"
  }
 },
 "nbformat": 4,
 "nbformat_minor": 2
}
